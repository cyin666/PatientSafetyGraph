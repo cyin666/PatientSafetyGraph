{
 "cells": [
  {
   "cell_type": "code",
   "execution_count": 1,
   "id": "9dca27ae-d0cf-48d4-b3a0-035ccad474f0",
   "metadata": {},
   "outputs": [],
   "source": [
    "import sys\n",
    "sys.path.insert(1, '/drives/drive1/home/changyu_yin/Desktop/PSG/PSG_AMIA_NEJM/codes/')"
   ]
  },
  {
   "cell_type": "code",
   "execution_count": 2,
   "id": "baa8e1f1-d745-49f6-bf10-9bd7f5d9a51a",
   "metadata": {},
   "outputs": [],
   "source": [
    "#del sys.modules[\"utilities\"]\n",
    "from utilities import *"
   ]
  },
  {
   "cell_type": "code",
   "execution_count": 3,
   "id": "53d88422-f886-49d5-807e-4fcfc3664949",
   "metadata": {},
   "outputs": [],
   "source": [
    "import warnings\n",
    "warnings.filterwarnings('ignore')"
   ]
  },
  {
   "cell_type": "code",
   "execution_count": 4,
   "id": "50946e8b-4fd5-4501-ae38-e4ece3e757ae",
   "metadata": {},
   "outputs": [],
   "source": [
    "df_master_index_all=pickle.load(open('/drives/drive1/home/changyu_yin/Desktop/PSG/PSG_AMIA_NEJM/split_index/df_master_index_all.pkl','rb'))\n",
    "\n",
    "df_master_index_train=pickle.load(open('/drives/drive1/home/changyu_yin/Desktop/PSG/PSG_AMIA_NEJM/split_index/df_master_index_train.pkl','rb'))\n",
    "df_master_index_val=pickle.load(open('/drives/drive1/home/changyu_yin/Desktop/PSG/PSG_AMIA_NEJM/split_index/df_master_index_val.pkl','rb'))\n",
    "df_master_index_test=pickle.load(open('/drives/drive1/home/changyu_yin/Desktop/PSG/PSG_AMIA_NEJM/split_index/df_master_index_test.pkl','rb'))\n",
    "\n",
    "df_master_index_train_val=pd.concat([df_master_index_train,df_master_index_val])"
   ]
  },
  {
   "cell_type": "code",
   "execution_count": 5,
   "id": "7c2c33cf-05e6-451e-b842-1aba8610aa2d",
   "metadata": {},
   "outputs": [],
   "source": [
    "feats_n2v_all_train = pickle.load(open('/drives/drive1/home/changyu_yin/Desktop/PSG/PSG_AMIA_NEJM/feature/feats_n2v_all_train.pkl','rb'))\n",
    "feats_n2v_all_val = pickle.load(open('/drives/drive1/home/changyu_yin/Desktop/PSG/PSG_AMIA_NEJM/feature/feats_n2v_all_val.pkl','rb'))\n",
    "feats_n2v_all_test = pickle.load(open('/drives/drive1/home/changyu_yin/Desktop/PSG/PSG_AMIA_NEJM/feature/feats_n2v_all_test.pkl','rb'))\n",
    "\n",
    "Outcome_labels = pickle.load(open('/drives/drive1/home/changyu_yin/Desktop/PSG/PSG_AMIA_NEJM/feature/Outcome_labels.pkl','rb'))"
   ]
  },
  {
   "cell_type": "code",
   "execution_count": 6,
   "id": "143286af-988d-497c-8c1f-fae5ecb1ea5d",
   "metadata": {},
   "outputs": [
    {
     "data": {
      "text/plain": [
       "0"
      ]
     },
     "execution_count": 6,
     "metadata": {},
     "output_type": "execute_result"
    }
   ],
   "source": [
    "cutoff_y = np.quantile(Outcome_labels['LOS_postoperative'],0.75)\n",
    "cutoff_y\n",
    "Outcome_labels['PLOS'] =  (Outcome_labels['LOS_postoperative']>cutoff_y)*1\n",
    "del Outcome_labels['LOS_postoperative']\n",
    "\n",
    "Outcome_labels_train = Outcome_labels[Outcome_labels['ENCRYPTED_HOSP_ENCOUNTER'].\\\n",
    "                                      isin(df_master_index_train['ENCRYPTED_HOSP_ENCOUNTER'])].\\\n",
    "                        reset_index(drop=True)[['ENCRYPTED_HOSP_ENCOUNTER','PLOS']]\n",
    "\n",
    "Outcome_labels_val = Outcome_labels[Outcome_labels['ENCRYPTED_HOSP_ENCOUNTER'].\\\n",
    "                                      isin(df_master_index_val['ENCRYPTED_HOSP_ENCOUNTER'])].\\\n",
    "                        reset_index(drop=True)[['ENCRYPTED_HOSP_ENCOUNTER','PLOS']]\n",
    "\n",
    "Outcome_labels_test = Outcome_labels[Outcome_labels['ENCRYPTED_HOSP_ENCOUNTER'].\\\n",
    "                                      isin(df_master_index_test['ENCRYPTED_HOSP_ENCOUNTER'])].\\\n",
    "                        reset_index(drop=True)[['ENCRYPTED_HOSP_ENCOUNTER','PLOS']]\n",
    "\n",
    "len(Outcome_labels_train)+len(Outcome_labels_val)+len(Outcome_labels_test)-len(Outcome_labels)"
   ]
  },
  {
   "cell_type": "code",
   "execution_count": 7,
   "id": "32637ebe-e8e3-4978-b3a8-e366fe8b6e61",
   "metadata": {},
   "outputs": [],
   "source": [
    "X_train = feats_n2v_all_train\n",
    "X_val = feats_n2v_all_val\n",
    "X_test = feats_n2v_all_test\n",
    "\n",
    "y_train = Outcome_labels_train\n",
    "y_val = Outcome_labels_val\n",
    "y_test = Outcome_labels_test"
   ]
  },
  {
   "cell_type": "code",
   "execution_count": null,
   "id": "21ebad74-afa0-4968-a492-aebc764bf543",
   "metadata": {},
   "outputs": [],
   "source": []
  },
  {
   "cell_type": "code",
   "execution_count": 8,
   "id": "1b0e76f5-3aa8-4154-b9b4-0c87dcd83b88",
   "metadata": {},
   "outputs": [],
   "source": [
    "X_train_val = pd.concat([X_train,X_val])\n",
    "y_train_val = pd.concat([y_train,y_val])"
   ]
  },
  {
   "cell_type": "code",
   "execution_count": 9,
   "id": "4564076f-a041-4479-a5a2-8b5666702fe4",
   "metadata": {},
   "outputs": [
    {
     "data": {
      "text/plain": [
       "((109318, 129),\n",
       " (13665, 129),\n",
       " (122983, 129),\n",
       " (13664, 129),\n",
       " (109318, 2),\n",
       " (13665, 2),\n",
       " (122983, 2),\n",
       " (13664, 2))"
      ]
     },
     "execution_count": 9,
     "metadata": {},
     "output_type": "execute_result"
    }
   ],
   "source": [
    "X_train.shape,X_val.shape,X_train_val.shape,X_test.shape,y_train.shape,y_val.shape,y_train_val.shape,y_test.shape"
   ]
  },
  {
   "cell_type": "code",
   "execution_count": 10,
   "id": "4df41f94-5345-4930-9c81-1075abd8c0af",
   "metadata": {},
   "outputs": [],
   "source": [
    "#experiment_baseline(X_train, X_val, y_train, y_val, seeds=[2023])"
   ]
  },
  {
   "cell_type": "code",
   "execution_count": 11,
   "id": "bdc849aa-4f1b-40ad-b484-67ce89796ba4",
   "metadata": {},
   "outputs": [],
   "source": [
    "del sys.modules[\"utilities\"]\n",
    "from utilities import *"
   ]
  },
  {
   "cell_type": "code",
   "execution_count": 12,
   "id": "0478cc05-78ab-4f96-8bb2-60e2432af328",
   "metadata": {},
   "outputs": [
    {
     "name": "stderr",
     "output_type": "stream",
     "text": [
      "100%|████████████████████████████████████████| 1/1 [3:30:55<00:00, 12655.53s/it]"
     ]
    },
    {
     "name": "stdout",
     "output_type": "stream",
     "text": [
      "====================================================\n",
      "A. Scores on training set\n",
      "avg XGBoost classifer: auc/  0.9035  F1:  0.6022  precision:  0.8528  recall:  0.4654  accuracy:  0.8489\n",
      "std XGBoost classifer: auc/  0.0  F1:  0.0  precision:  0.0  recall:  0.0  accuracy:  0.0\n",
      "avg MLP classifer: auc/  0.8045  F1:  0.4646  precision:  0.6645  recall:  0.3572  accuracy:  0.7978\n",
      "std MLP classifer: auc/  0.0  F1:  0.0  precision:  0.0  recall:  0.0  accuracy:  0.0\n",
      "avg logistic classifer: auc/  0.7687  F1:  0.5293  precision:  0.4265  recall:  0.6975  accuracy:  0.6953\n",
      "std logistic classifer: auc/  0.0  F1:  0.0  precision:  0.0  recall:  0.0  accuracy:  0.0\n",
      "****************************************************\n",
      "\n",
      "B. Scores on test set\n",
      "avg XGBoost classifer: auc/  0.794  F1:  0.4598  precision:  0.7024  recall:  0.3418  accuracy:  0.7682\n",
      "std XGBoost classifer: auc/  0.0  F1:  0.0  precision:  0.0  recall:  0.0  accuracy:  0.0\n",
      "avg MLP classifer: auc/  0.7905  F1:  0.4641  precision:  0.703  recall:  0.3464  accuracy:  0.7691\n",
      "std MLP classifer: auc/  0.0  F1:  0.0  precision:  0.0  recall:  0.0  accuracy:  0.0\n",
      "avg logistic classifer: auc/  0.7579  F1:  0.5597  precision:  0.4839  recall:  0.6635  accuracy:  0.6986\n",
      "std logistic classifer: auc/  0.0  F1:  0.0  precision:  0.0  recall:  0.0  accuracy:  0.0\n",
      "====================================================\n",
      "\n"
     ]
    },
    {
     "name": "stderr",
     "output_type": "stream",
     "text": [
      "\n"
     ]
    }
   ],
   "source": [
    "experiment_baseline(X_train_val, X_test, y_train_val, y_test, seeds=[666])"
   ]
  },
  {
   "cell_type": "code",
   "execution_count": null,
   "id": "9f192c26-b508-4963-abdf-a5449b8c1259",
   "metadata": {},
   "outputs": [],
   "source": []
  }
 ],
 "metadata": {
  "kernelspec": {
   "display_name": "UFRC Python-3.10",
   "language": "python",
   "name": "python3-3.10-ufrc"
  },
  "language_info": {
   "codemirror_mode": {
    "name": "ipython",
    "version": 3
   },
   "file_extension": ".py",
   "mimetype": "text/x-python",
   "name": "python",
   "nbconvert_exporter": "python",
   "pygments_lexer": "ipython3",
   "version": "3.10.5"
  }
 },
 "nbformat": 4,
 "nbformat_minor": 5
}
