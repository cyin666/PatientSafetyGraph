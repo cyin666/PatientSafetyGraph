{
 "cells": [
  {
   "cell_type": "code",
   "execution_count": 1,
   "id": "bddd8a38-6cb5-4491-a40e-433d64738b5f",
   "metadata": {},
   "outputs": [],
   "source": [
    "import sys\n",
    "sys.path.insert(1, '/drives/drive1/home/changyu_yin/Desktop/PSG/PSG_AMIA_NEJM/codes/')"
   ]
  },
  {
   "cell_type": "code",
   "execution_count": 2,
   "id": "56001a6a-106a-4916-ba1b-5d8263afa2f5",
   "metadata": {},
   "outputs": [],
   "source": [
    "#del sys.modules[\"utilities\"]\n",
    "from utilities import *"
   ]
  },
  {
   "cell_type": "code",
   "execution_count": 3,
   "id": "5e9dd3ac-7816-4179-ad6e-f732ecbe3341",
   "metadata": {},
   "outputs": [],
   "source": [
    "import warnings\n",
    "warnings.filterwarnings('ignore')"
   ]
  },
  {
   "cell_type": "code",
   "execution_count": 4,
   "id": "1cc83a12-470a-43b0-a674-04e8800b8fcf",
   "metadata": {},
   "outputs": [],
   "source": [
    "df_master_index_all=pickle.load(open('/drives/drive1/home/changyu_yin/Desktop/PSG/PSG_AMIA_NEJM/split_index/df_master_index_all.pkl','rb'))\n",
    "\n",
    "df_master_index_train=pickle.load(open('/drives/drive1/home/changyu_yin/Desktop/PSG/PSG_AMIA_NEJM/split_index/df_master_index_train.pkl','rb'))\n",
    "df_master_index_val=pickle.load(open('/drives/drive1/home/changyu_yin/Desktop/PSG/PSG_AMIA_NEJM/split_index/df_master_index_val.pkl','rb'))\n",
    "df_master_index_test=pickle.load(open('/drives/drive1/home/changyu_yin/Desktop/PSG/PSG_AMIA_NEJM/split_index/df_master_index_test.pkl','rb'))\n",
    "\n",
    "df_master_index_train_val=pd.concat([df_master_index_train,df_master_index_val])"
   ]
  },
  {
   "cell_type": "code",
   "execution_count": null,
   "id": "bcd3f1d3-21e7-4a76-a0fe-51914d3b843a",
   "metadata": {},
   "outputs": [],
   "source": []
  },
  {
   "cell_type": "code",
   "execution_count": 5,
   "id": "e5f62d7e-3e81-4846-b614-9fc671018181",
   "metadata": {},
   "outputs": [],
   "source": [
    "df_feats_surgeryprocess = pickle.load(open('/drives/drive1/home/changyu_yin/Desktop/PSG/PSG_AMIA_NEJM/feature/df_feats_SurgeryProcess.pkl','rb'))\n",
    "df_feats_clinical = pickle.load(open('/drives/drive1/home/changyu_yin/Desktop/PSG/PSG_AMIA_NEJM/feature/df_feats_clinical.pkl','rb'))\n",
    "df_feats_icd_transform = pickle.load(open('/drives/drive1/home/changyu_yin/Desktop/PSG/PSG_AMIA_NEJM/feature/df_feats_icd_transform.pkl','rb'))\n",
    "df_preor_ICULOS = pickle.load(open('/drives/drive1/home/changyu_yin/Desktop/PSG/PSG_AMIA_NEJM/feature/df_preor_ICULOS.pkl','rb'))\n",
    "df_feats_delirium = pickle.load(open('/drives/drive1/home/changyu_yin/Desktop/PSG/PSG_AMIA_NEJM/feature/df_feats_delirium.pkl','rb'))\n",
    "\n",
    "df_icu_graph_features = pickle.load(open('/drives/drive1/home/changyu_yin/Desktop/PSG/PSG_AMIA_NEJM/feature/df_icu_graph_features.pkl','rb'))\n",
    "\n",
    "df_feats_ppg_train_all = pickle.load(open('/drives/drive1/home/changyu_yin/Desktop/PSG/PSG_AMIA_NEJM/feature/df_feats_ppg_train_separate.pkl','rb'))\n",
    "df_feats_ppg_val = pickle.load(open('/drives/drive1/home/changyu_yin/Desktop/PSG/PSG_AMIA_NEJM/feature/df_feats_ppg_val_separate.pkl','rb'))\n",
    "df_feats_ppg_test = pickle.load(open('/drives/drive1/home/changyu_yin/Desktop/PSG/PSG_AMIA_NEJM/feature/df_feats_ppg_test.pkl','rb'))\n",
    "\n",
    "\n",
    "feats_n2v_all_train = pickle.load(open('/drives/drive1/home/changyu_yin/Desktop/PSG/PSG_AMIA_NEJM/feature/feats_n2v_all_train.pkl','rb'))\n",
    "feats_n2v_all_val = pickle.load(open('/drives/drive1/home/changyu_yin/Desktop/PSG/PSG_AMIA_NEJM/feature/feats_n2v_all_val.pkl','rb'))\n",
    "feats_n2v_all_test = pickle.load(open('/drives/drive1/home/changyu_yin/Desktop/PSG/PSG_AMIA_NEJM/feature/feats_n2v_all_test.pkl','rb'))\n",
    "\n",
    "\n",
    "\n",
    "Outcome_labels = pickle.load(open('/drives/drive1/home/changyu_yin/Desktop/PSG/PSG_AMIA_NEJM/feature/Outcome_labels.pkl','rb'))"
   ]
  },
  {
   "cell_type": "code",
   "execution_count": 6,
   "id": "0793c9ff-a321-4401-97d2-1252bf7e8476",
   "metadata": {},
   "outputs": [],
   "source": [
    "df_feats_generalclinical_process_icug = df_feats_clinical.merge(df_feats_icd_transform,\n",
    "                                 on='ENCRYPTED_HOSP_ENCOUNTER',\n",
    "                                 how='left').merge(df_preor_ICULOS,\n",
    "                                 on='ENCRYPTED_HOSP_ENCOUNTER',\n",
    "                                 how='left').merge(df_feats_delirium,\n",
    "                                 on='ENCRYPTED_HOSP_ENCOUNTER',\n",
    "                                 how='left').merge(df_feats_surgeryprocess,\n",
    "                                 on='ENCRYPTED_HOSP_ENCOUNTER',\n",
    "                                 how='left').merge(df_icu_graph_features,\n",
    "                                 on='ENCRYPTED_HOSP_ENCOUNTER',\n",
    "                                 how='left')"
   ]
  },
  {
   "cell_type": "code",
   "execution_count": 7,
   "id": "d35a3e4d-3912-4179-b35c-5df3465b41f9",
   "metadata": {},
   "outputs": [
    {
     "data": {
      "text/plain": [
       "0"
      ]
     },
     "execution_count": 7,
     "metadata": {},
     "output_type": "execute_result"
    }
   ],
   "source": [
    "cutoff_y = np.quantile(Outcome_labels['LOS_postoperative'],0.75)\n",
    "cutoff_y\n",
    "Outcome_labels['PLOS'] =  (Outcome_labels['LOS_postoperative']>cutoff_y)*1\n",
    "del Outcome_labels['LOS_postoperative']\n",
    "\n",
    "Outcome_labels_train = Outcome_labels[Outcome_labels['ENCRYPTED_HOSP_ENCOUNTER'].\\\n",
    "                                      isin(df_master_index_train['ENCRYPTED_HOSP_ENCOUNTER'])].\\\n",
    "                        reset_index(drop=True)[['ENCRYPTED_HOSP_ENCOUNTER','PLOS']]\n",
    "\n",
    "Outcome_labels_val = Outcome_labels[Outcome_labels['ENCRYPTED_HOSP_ENCOUNTER'].\\\n",
    "                                      isin(df_master_index_val['ENCRYPTED_HOSP_ENCOUNTER'])].\\\n",
    "                        reset_index(drop=True)[['ENCRYPTED_HOSP_ENCOUNTER','PLOS']]\n",
    "\n",
    "Outcome_labels_test = Outcome_labels[Outcome_labels['ENCRYPTED_HOSP_ENCOUNTER'].\\\n",
    "                                      isin(df_master_index_test['ENCRYPTED_HOSP_ENCOUNTER'])].\\\n",
    "                        reset_index(drop=True)[['ENCRYPTED_HOSP_ENCOUNTER','PLOS']]\n",
    "\n",
    "len(Outcome_labels_train)+len(Outcome_labels_val)+len(Outcome_labels_test)-len(Outcome_labels)"
   ]
  },
  {
   "cell_type": "code",
   "execution_count": 8,
   "id": "33004b42-685e-4426-9895-aa4f66a3e56c",
   "metadata": {},
   "outputs": [
    {
     "data": {
      "text/plain": [
       "0"
      ]
     },
     "execution_count": 8,
     "metadata": {},
     "output_type": "execute_result"
    }
   ],
   "source": [
    "df_feats_generalclinical_process_ppg_icug_train = df_feats_generalclinical_process_icug[df_feats_generalclinical_process_icug['ENCRYPTED_HOSP_ENCOUNTER'].\\\n",
    "                                      isin(df_master_index_train['ENCRYPTED_HOSP_ENCOUNTER'])].\\\n",
    "                        reset_index(drop=True).\\\n",
    "                        merge(df_feats_ppg_train_all,how='left',on='ENCRYPTED_HOSP_ENCOUNTER').\\\n",
    "            merge(feats_n2v_all_train,how='left',\n",
    "                   on='ENCRYPTED_HOSP_ENCOUNTER')\n",
    "\n",
    "\n",
    "df_feats_generalclinical_process_ppg_icug_val = df_feats_generalclinical_process_icug[df_feats_generalclinical_process_icug['ENCRYPTED_HOSP_ENCOUNTER'].\\\n",
    "                                      isin(df_master_index_val['ENCRYPTED_HOSP_ENCOUNTER'])].\\\n",
    "                        reset_index(drop=True).\\\n",
    "                        merge(df_feats_ppg_val,how='left',on='ENCRYPTED_HOSP_ENCOUNTER').\\\n",
    "            merge(feats_n2v_all_val,how='left',\n",
    "                   on='ENCRYPTED_HOSP_ENCOUNTER')\n",
    "\n",
    "\n",
    "df_feats_generalclinical_process_ppg_icug_test = df_feats_generalclinical_process_icug[df_feats_generalclinical_process_icug['ENCRYPTED_HOSP_ENCOUNTER'].\\\n",
    "                                      isin(df_master_index_test['ENCRYPTED_HOSP_ENCOUNTER'])].\\\n",
    "                        reset_index(drop=True).\\\n",
    "                        merge(df_feats_ppg_test,how='left',on='ENCRYPTED_HOSP_ENCOUNTER').\\\n",
    "            merge(feats_n2v_all_test,how='left',\n",
    "                   on='ENCRYPTED_HOSP_ENCOUNTER')\n",
    "\n",
    "\n",
    "len(df_feats_generalclinical_process_ppg_icug_train)+len(df_feats_generalclinical_process_ppg_icug_val)+len(df_feats_generalclinical_process_ppg_icug_test)-len(df_feats_generalclinical_process_icug)"
   ]
  },
  {
   "cell_type": "code",
   "execution_count": 9,
   "id": "6c5c300c-1b6d-48ba-9726-a2e0219a5089",
   "metadata": {},
   "outputs": [],
   "source": [
    "y_train = Outcome_labels_train\n",
    "y_val = Outcome_labels_val\n",
    "y_test = Outcome_labels_test\n",
    "\n",
    "X_train = y_train[['ENCRYPTED_HOSP_ENCOUNTER']].\\\n",
    "            merge(df_feats_generalclinical_process_ppg_icug_train,\n",
    "                  how='left',\n",
    "                  on='ENCRYPTED_HOSP_ENCOUNTER').\\\n",
    "            reset_index(drop=True)\n",
    "X_val = y_val[['ENCRYPTED_HOSP_ENCOUNTER']].\\\n",
    "            merge(df_feats_generalclinical_process_ppg_icug_val,\n",
    "                  how='left',\n",
    "                  on='ENCRYPTED_HOSP_ENCOUNTER').\\\n",
    "            reset_index(drop=True)\n",
    "\n",
    "X_test = y_test[['ENCRYPTED_HOSP_ENCOUNTER']].\\\n",
    "            merge(df_feats_generalclinical_process_ppg_icug_test,\n",
    "                  how='left',\n",
    "                  on='ENCRYPTED_HOSP_ENCOUNTER').\\\n",
    "            reset_index(drop=True)\n",
    "\n",
    "X_train_val = pd.concat([X_train,X_val]).reset_index(drop=True)\n",
    "y_train_val = pd.concat([y_train,y_val]).reset_index(drop=True)"
   ]
  },
  {
   "cell_type": "code",
   "execution_count": 10,
   "id": "473ff644-9a03-4415-abe8-54fbd94a7589",
   "metadata": {},
   "outputs": [
    {
     "data": {
      "text/plain": [
       "((109318, 4520),\n",
       " (13665, 4520),\n",
       " (122983, 4520),\n",
       " (13664, 4520),\n",
       " (109318, 2),\n",
       " (13665, 2),\n",
       " (122983, 2),\n",
       " (13664, 2))"
      ]
     },
     "execution_count": 10,
     "metadata": {},
     "output_type": "execute_result"
    }
   ],
   "source": [
    "X_train.shape,X_val.shape,X_train_val.shape,X_test.shape,y_train.shape,y_val.shape,y_train_val.shape,y_test.shape"
   ]
  },
  {
   "cell_type": "code",
   "execution_count": 11,
   "id": "273dd017-7c80-4596-ad1c-8cacc360b817",
   "metadata": {},
   "outputs": [],
   "source": [
    "#experiment_baseline(X_train, X_val, y_train, y_val, seeds=[2023])"
   ]
  },
  {
   "cell_type": "code",
   "execution_count": 12,
   "id": "027bce2f-da88-4494-ad67-431e46ba881f",
   "metadata": {},
   "outputs": [],
   "source": [
    "del sys.modules[\"utilities\"]\n",
    "from utilities import *"
   ]
  },
  {
   "cell_type": "code",
   "execution_count": 13,
   "id": "b3d90097-7796-401f-88c5-f735b1855aa5",
   "metadata": {},
   "outputs": [],
   "source": [
    "#experiment_baseline(X_train_val, X_test, y_train_val, y_test, seeds=[2023])"
   ]
  },
  {
   "cell_type": "code",
   "execution_count": 14,
   "id": "08f6783c-49ec-4b40-97da-88026a6c9628",
   "metadata": {},
   "outputs": [],
   "source": [
    "np.random.seed(666)"
   ]
  },
  {
   "cell_type": "code",
   "execution_count": 15,
   "id": "93826368-418b-44bd-a9b5-66ede061d952",
   "metadata": {},
   "outputs": [],
   "source": [
    "a = np.zeros(len(X_train))-1\n",
    "b = np.ones(len(X_val)) \n",
    "pds = PredefinedSplit(np.concatenate([a,b]))"
   ]
  },
  {
   "cell_type": "code",
   "execution_count": 16,
   "id": "b49ac16e-4ccb-4116-8e51-24daaba18bb7",
   "metadata": {},
   "outputs": [],
   "source": [
    "pipe = Pipeline(steps=[\n",
    "                       (\"imputer\", SimpleImputer(missing_values=np.nan, strategy='mean')),\n",
    "                       (\"scaler\", MinMaxScaler()),\n",
    "                       (\"classifier\", LogisticRegression(max_iter=500,solver='newton-cg')) \n",
    "                        ])"
   ]
  },
  {
   "cell_type": "code",
   "execution_count": 17,
   "id": "7e6491a8-79c7-490f-8a56-d062d560d140",
   "metadata": {},
   "outputs": [],
   "source": [
    "clf = BayesSearchCV(estimator = pipe,\n",
    "                   search_spaces={\n",
    "                   'classifier__C':Real(1e-6,50,'log-uniform'),\n",
    "                    'classifier__class_weight':Categorical(['balanced',None]),\n",
    "                   },\n",
    "                   n_iter = 30,\n",
    "                   cv=pds,\n",
    "                   scoring = 'roc_auc',\n",
    "                   n_jobs=32,\n",
    "                   refit=True,\n",
    "                   verbose=4,\n",
    "                   random_state=666\n",
    "                   ) "
   ]
  },
  {
   "cell_type": "code",
   "execution_count": 18,
   "id": "e8be34c0-f049-484a-a80b-f5264764db46",
   "metadata": {},
   "outputs": [
    {
     "name": "stdout",
     "output_type": "stream",
     "text": [
      "Fitting 1 folds for each of 1 candidates, totalling 1 fits\n",
      "Fitting 1 folds for each of 1 candidates, totalling 1 fits\n",
      "Fitting 1 folds for each of 1 candidates, totalling 1 fits\n",
      "Fitting 1 folds for each of 1 candidates, totalling 1 fits\n",
      "Fitting 1 folds for each of 1 candidates, totalling 1 fits\n",
      "[CV 1/1] END classifier__C=0.03689522119794739, classifier__class_weight=balanced;, score=0.856 total time= 5.7min\n",
      "[CV 1/1] END classifier__C=5.987777606204113, classifier__class_weight=balanced;, score=0.869 total time=24.1min\n",
      "[CV 1/1] END classifier__C=1.7617470266844044e-06, classifier__class_weight=balanced;, score=0.762 total time= 1.4min\n",
      "[CV 1/1] END classifier__C=1.1141189663164778e-06, classifier__class_weight=balanced;, score=0.762 total time= 1.5min\n",
      "Fitting 1 folds for each of 1 candidates, totalling 1 fits\n",
      "Fitting 1 folds for each of 1 candidates, totalling 1 fits\n",
      "Fitting 1 folds for each of 1 candidates, totalling 1 fits\n",
      "Fitting 1 folds for each of 1 candidates, totalling 1 fits\n",
      "Fitting 1 folds for each of 1 candidates, totalling 1 fits\n",
      "[CV 1/1] END classifier__C=0.0004187202425637536, classifier__class_weight=None;, score=0.797 total time= 2.9min\n",
      "Fitting 1 folds for each of 1 candidates, totalling 1 fits\n",
      "Fitting 1 folds for each of 1 candidates, totalling 1 fits\n",
      "Fitting 1 folds for each of 1 candidates, totalling 1 fits\n",
      "Fitting 1 folds for each of 1 candidates, totalling 1 fits\n",
      "Fitting 1 folds for each of 1 candidates, totalling 1 fits\n",
      "[CV 1/1] END classifier__C=0.802008258271516, classifier__class_weight=None;, score=0.864 total time=13.3min\n",
      "[CV 1/1] END classifier__C=2.672507173709714, classifier__class_weight=None;, score=0.865 total time=18.9min\n",
      "[CV 1/1] END classifier__C=0.09350366715083662, classifier__class_weight=None;, score=0.860 total time= 8.6min\n",
      "[CV 1/1] END classifier__C=0.00871857207381643, classifier__class_weight=None;, score=0.839 total time= 4.1min\n",
      "[CV 1/1] END classifier__C=0.347895528107023, classifier__class_weight=None;, score=0.863 total time= 8.7min\n",
      "[CV 1/1] END classifier__C=49.99999999999999, classifier__class_weight=balanced;, score=0.885 total time=52.6min\n",
      "[CV 1/1] END classifier__C=49.94287394650231, classifier__class_weight=None;, score=0.881 total time=58.4min\n",
      "[CV 1/1] END classifier__C=20.490698882394984, classifier__class_weight=None;, score=0.874 total time=40.1min\n",
      "[CV 1/1] END classifier__C=0.0018390310099689986, classifier__class_weight=balanced;, score=0.821 total time= 3.3min\n",
      "Fitting 1 folds for each of 1 candidates, totalling 1 fits\n",
      "Fitting 1 folds for each of 1 candidates, totalling 1 fits\n",
      "Fitting 1 folds for each of 1 candidates, totalling 1 fits\n",
      "Fitting 1 folds for each of 1 candidates, totalling 1 fits\n",
      "[CV 1/1] END classifier__C=49.99999999999999, classifier__class_weight=balanced;, score=0.885 total time=65.2min\n",
      "[CV 1/1] END classifier__C=0.7595588357536762, classifier__class_weight=balanced;, score=0.864 total time=12.5min\n",
      "[CV 1/1] END classifier__C=49.99999999999999, classifier__class_weight=balanced;, score=0.885 total time=63.7min\n",
      "[CV 1/1] END classifier__C=0.0006722208676512881, classifier__class_weight=balanced;, score=0.807 total time= 2.5min\n",
      "Fitting 1 folds for each of 1 candidates, totalling 1 fits\n",
      "Fitting 1 folds for each of 1 candidates, totalling 1 fits\n",
      "Fitting 1 folds for each of 1 candidates, totalling 1 fits\n",
      "Fitting 1 folds for each of 1 candidates, totalling 1 fits\n",
      "Fitting 1 folds for each of 1 candidates, totalling 1 fits\n",
      "Fitting 1 folds for each of 1 candidates, totalling 1 fits\n",
      "Fitting 1 folds for each of 1 candidates, totalling 1 fits\n",
      "Fitting 1 folds for each of 1 candidates, totalling 1 fits\n",
      "Fitting 1 folds for each of 1 candidates, totalling 1 fits\n",
      "[CV 1/1] END classifier__C=2.8822659838176015, classifier__class_weight=balanced;, score=0.866 total time=21.3min\n",
      "[CV 1/1] END classifier__C=35.82544289816715, classifier__class_weight=None;, score=0.878 total time=51.9min\n",
      "[CV 1/1] END classifier__C=49.99999999999999, classifier__class_weight=balanced;, score=0.885 total time=68.8min\n",
      "[CV 1/1] END classifier__C=49.99999999999999, classifier__class_weight=balanced;, score=0.885 total time=67.6min\n",
      "[CV 1/1] END classifier__C=49.99999999999999, classifier__class_weight=balanced;, score=0.885 total time=67.9min\n",
      "[CV 1/1] END classifier__C=49.99999999999999, classifier__class_weight=balanced;, score=0.885 total time=58.8min\n",
      "[CV 1/1] END classifier__C=3.4869173688926803e-06, classifier__class_weight=None;, score=0.763 total time= 1.4min\n",
      "[CV 1/1] END classifier__C=1.926322249200808e-05, classifier__class_weight=balanced;, score=0.769 total time= 2.1min\n",
      "Fitting 1 folds for each of 1 candidates, totalling 1 fits\n",
      "Fitting 1 folds for each of 1 candidates, totalling 1 fits\n",
      "[CV 1/1] END classifier__C=0.005510550685485636, classifier__class_weight=balanced;, score=0.836 total time= 4.5min\n",
      "[CV 1/1] END classifier__C=49.99999999999999, classifier__class_weight=balanced;, score=0.885 total time=73.9min\n",
      "[CV 1/1] END classifier__C=49.99999999999999, classifier__class_weight=balanced;, score=0.885 total time=65.5min\n",
      "[CV 1/1] END classifier__C=0.051169866640800435, classifier__class_weight=None;, score=0.857 total time= 6.5min\n"
     ]
    },
    {
     "data": {
      "text/html": [
       "<style>#sk-container-id-1 {color: black;background-color: white;}#sk-container-id-1 pre{padding: 0;}#sk-container-id-1 div.sk-toggleable {background-color: white;}#sk-container-id-1 label.sk-toggleable__label {cursor: pointer;display: block;width: 100%;margin-bottom: 0;padding: 0.3em;box-sizing: border-box;text-align: center;}#sk-container-id-1 label.sk-toggleable__label-arrow:before {content: \"▸\";float: left;margin-right: 0.25em;color: #696969;}#sk-container-id-1 label.sk-toggleable__label-arrow:hover:before {color: black;}#sk-container-id-1 div.sk-estimator:hover label.sk-toggleable__label-arrow:before {color: black;}#sk-container-id-1 div.sk-toggleable__content {max-height: 0;max-width: 0;overflow: hidden;text-align: left;background-color: #f0f8ff;}#sk-container-id-1 div.sk-toggleable__content pre {margin: 0.2em;color: black;border-radius: 0.25em;background-color: #f0f8ff;}#sk-container-id-1 input.sk-toggleable__control:checked~div.sk-toggleable__content {max-height: 200px;max-width: 100%;overflow: auto;}#sk-container-id-1 input.sk-toggleable__control:checked~label.sk-toggleable__label-arrow:before {content: \"▾\";}#sk-container-id-1 div.sk-estimator input.sk-toggleable__control:checked~label.sk-toggleable__label {background-color: #d4ebff;}#sk-container-id-1 div.sk-label input.sk-toggleable__control:checked~label.sk-toggleable__label {background-color: #d4ebff;}#sk-container-id-1 input.sk-hidden--visually {border: 0;clip: rect(1px 1px 1px 1px);clip: rect(1px, 1px, 1px, 1px);height: 1px;margin: -1px;overflow: hidden;padding: 0;position: absolute;width: 1px;}#sk-container-id-1 div.sk-estimator {font-family: monospace;background-color: #f0f8ff;border: 1px dotted black;border-radius: 0.25em;box-sizing: border-box;margin-bottom: 0.5em;}#sk-container-id-1 div.sk-estimator:hover {background-color: #d4ebff;}#sk-container-id-1 div.sk-parallel-item::after {content: \"\";width: 100%;border-bottom: 1px solid gray;flex-grow: 1;}#sk-container-id-1 div.sk-label:hover label.sk-toggleable__label {background-color: #d4ebff;}#sk-container-id-1 div.sk-serial::before {content: \"\";position: absolute;border-left: 1px solid gray;box-sizing: border-box;top: 0;bottom: 0;left: 50%;z-index: 0;}#sk-container-id-1 div.sk-serial {display: flex;flex-direction: column;align-items: center;background-color: white;padding-right: 0.2em;padding-left: 0.2em;position: relative;}#sk-container-id-1 div.sk-item {position: relative;z-index: 1;}#sk-container-id-1 div.sk-parallel {display: flex;align-items: stretch;justify-content: center;background-color: white;position: relative;}#sk-container-id-1 div.sk-item::before, #sk-container-id-1 div.sk-parallel-item::before {content: \"\";position: absolute;border-left: 1px solid gray;box-sizing: border-box;top: 0;bottom: 0;left: 50%;z-index: -1;}#sk-container-id-1 div.sk-parallel-item {display: flex;flex-direction: column;z-index: 1;position: relative;background-color: white;}#sk-container-id-1 div.sk-parallel-item:first-child::after {align-self: flex-end;width: 50%;}#sk-container-id-1 div.sk-parallel-item:last-child::after {align-self: flex-start;width: 50%;}#sk-container-id-1 div.sk-parallel-item:only-child::after {width: 0;}#sk-container-id-1 div.sk-dashed-wrapped {border: 1px dashed gray;margin: 0 0.4em 0.5em 0.4em;box-sizing: border-box;padding-bottom: 0.4em;background-color: white;}#sk-container-id-1 div.sk-label label {font-family: monospace;font-weight: bold;display: inline-block;line-height: 1.2em;}#sk-container-id-1 div.sk-label-container {text-align: center;}#sk-container-id-1 div.sk-container {/* jupyter's `normalize.less` sets `[hidden] { display: none; }` but bootstrap.min.css set `[hidden] { display: none !important; }` so we also need the `!important` here to be able to override the default hidden behavior on the sphinx rendered scikit-learn.org. See: https://github.com/scikit-learn/scikit-learn/issues/21755 */display: inline-block !important;position: relative;}#sk-container-id-1 div.sk-text-repr-fallback {display: none;}</style><div id=\"sk-container-id-1\" class=\"sk-top-container\"><div class=\"sk-text-repr-fallback\"><pre>BayesSearchCV(cv=PredefinedSplit(test_fold=array([-1, -1, ...,  1,  1])),\n",
       "              estimator=Pipeline(steps=[(&#x27;imputer&#x27;, SimpleImputer()),\n",
       "                                        (&#x27;scaler&#x27;, MinMaxScaler()),\n",
       "                                        (&#x27;classifier&#x27;,\n",
       "                                         LogisticRegression(max_iter=500,\n",
       "                                                            solver=&#x27;newton-cg&#x27;))]),\n",
       "              n_iter=30, n_jobs=32, random_state=666, scoring=&#x27;roc_auc&#x27;,\n",
       "              search_spaces={&#x27;classifier__C&#x27;: Real(low=1e-06, high=50, prior=&#x27;log-uniform&#x27;, transform=&#x27;normalize&#x27;),\n",
       "                             &#x27;classifier__class_weight&#x27;: Categorical(categories=(&#x27;balanced&#x27;, None), prior=None)},\n",
       "              verbose=4)</pre><b>In a Jupyter environment, please rerun this cell to show the HTML representation or trust the notebook. <br />On GitHub, the HTML representation is unable to render, please try loading this page with nbviewer.org.</b></div><div class=\"sk-container\" hidden><div class=\"sk-item sk-dashed-wrapped\"><div class=\"sk-label-container\"><div class=\"sk-label sk-toggleable\"><input class=\"sk-toggleable__control sk-hidden--visually\" id=\"sk-estimator-id-1\" type=\"checkbox\" ><label for=\"sk-estimator-id-1\" class=\"sk-toggleable__label sk-toggleable__label-arrow\">BayesSearchCV</label><div class=\"sk-toggleable__content\"><pre>BayesSearchCV(cv=PredefinedSplit(test_fold=array([-1, -1, ...,  1,  1])),\n",
       "              estimator=Pipeline(steps=[(&#x27;imputer&#x27;, SimpleImputer()),\n",
       "                                        (&#x27;scaler&#x27;, MinMaxScaler()),\n",
       "                                        (&#x27;classifier&#x27;,\n",
       "                                         LogisticRegression(max_iter=500,\n",
       "                                                            solver=&#x27;newton-cg&#x27;))]),\n",
       "              n_iter=30, n_jobs=32, random_state=666, scoring=&#x27;roc_auc&#x27;,\n",
       "              search_spaces={&#x27;classifier__C&#x27;: Real(low=1e-06, high=50, prior=&#x27;log-uniform&#x27;, transform=&#x27;normalize&#x27;),\n",
       "                             &#x27;classifier__class_weight&#x27;: Categorical(categories=(&#x27;balanced&#x27;, None), prior=None)},\n",
       "              verbose=4)</pre></div></div></div><div class=\"sk-parallel\"><div class=\"sk-parallel-item\"><div class=\"sk-item\"><div class=\"sk-label-container\"><div class=\"sk-label sk-toggleable\"><input class=\"sk-toggleable__control sk-hidden--visually\" id=\"sk-estimator-id-2\" type=\"checkbox\" ><label for=\"sk-estimator-id-2\" class=\"sk-toggleable__label sk-toggleable__label-arrow\">estimator: Pipeline</label><div class=\"sk-toggleable__content\"><pre>Pipeline(steps=[(&#x27;imputer&#x27;, SimpleImputer()), (&#x27;scaler&#x27;, MinMaxScaler()),\n",
       "                (&#x27;classifier&#x27;,\n",
       "                 LogisticRegression(max_iter=500, solver=&#x27;newton-cg&#x27;))])</pre></div></div></div><div class=\"sk-serial\"><div class=\"sk-item\"><div class=\"sk-serial\"><div class=\"sk-item\"><div class=\"sk-estimator sk-toggleable\"><input class=\"sk-toggleable__control sk-hidden--visually\" id=\"sk-estimator-id-3\" type=\"checkbox\" ><label for=\"sk-estimator-id-3\" class=\"sk-toggleable__label sk-toggleable__label-arrow\">SimpleImputer</label><div class=\"sk-toggleable__content\"><pre>SimpleImputer()</pre></div></div></div><div class=\"sk-item\"><div class=\"sk-estimator sk-toggleable\"><input class=\"sk-toggleable__control sk-hidden--visually\" id=\"sk-estimator-id-4\" type=\"checkbox\" ><label for=\"sk-estimator-id-4\" class=\"sk-toggleable__label sk-toggleable__label-arrow\">MinMaxScaler</label><div class=\"sk-toggleable__content\"><pre>MinMaxScaler()</pre></div></div></div><div class=\"sk-item\"><div class=\"sk-estimator sk-toggleable\"><input class=\"sk-toggleable__control sk-hidden--visually\" id=\"sk-estimator-id-5\" type=\"checkbox\" ><label for=\"sk-estimator-id-5\" class=\"sk-toggleable__label sk-toggleable__label-arrow\">LogisticRegression</label><div class=\"sk-toggleable__content\"><pre>LogisticRegression(max_iter=500, solver=&#x27;newton-cg&#x27;)</pre></div></div></div></div></div></div></div></div></div></div></div></div>"
      ],
      "text/plain": [
       "BayesSearchCV(cv=PredefinedSplit(test_fold=array([-1, -1, ...,  1,  1])),\n",
       "              estimator=Pipeline(steps=[('imputer', SimpleImputer()),\n",
       "                                        ('scaler', MinMaxScaler()),\n",
       "                                        ('classifier',\n",
       "                                         LogisticRegression(max_iter=500,\n",
       "                                                            solver='newton-cg'))]),\n",
       "              n_iter=30, n_jobs=32, random_state=666, scoring='roc_auc',\n",
       "              search_spaces={'classifier__C': Real(low=1e-06, high=50, prior='log-uniform', transform='normalize'),\n",
       "                             'classifier__class_weight': Categorical(categories=('balanced', None), prior=None)},\n",
       "              verbose=4)"
      ]
     },
     "execution_count": 18,
     "metadata": {},
     "output_type": "execute_result"
    }
   ],
   "source": [
    "clf.fit(X_train_val.iloc[:,1:],y_train_val.iloc[:,1:].values.ravel())"
   ]
  },
  {
   "cell_type": "code",
   "execution_count": 19,
   "id": "1f723a26-524a-4442-ba68-9030db84052d",
   "metadata": {},
   "outputs": [
    {
     "name": "stdout",
     "output_type": "stream",
     "text": [
      "OrderedDict([('classifier__C', 49.99999999999999), ('classifier__class_weight', 'balanced')])\n",
      "9.904938624189343e-27 1.0\n",
      "Best Validation AUROC: 0.8846894329357606\n",
      "Test AUROC: 0.8813139613018474\n",
      "Test F1-score: 0.6972952945535383\n",
      "Test Recall: 0.7157707910750507\n",
      "Test Precision: 0.6797495786178666\n",
      "Test Accuracy: 0.8206235362997658\n"
     ]
    }
   ],
   "source": [
    "print(clf.best_params_)\n",
    "best_m = clf.best_estimator_\n",
    "pred = best_m.predict(X_test.iloc[:,1:])\n",
    "pred_prob = best_m.predict_proba(X_test.iloc[:,1:])[:,1]\n",
    "print(min(pred_prob),max(pred_prob))\n",
    "\n",
    "print('Best Validation AUROC: {}'.format(clf.best_score_))\n",
    "\n",
    "print('Test AUROC: {}'.format(roc_auc_score(y_test.iloc[:,1:], pred_prob)))\n",
    "print('Test F1-score: {}'.format(f1_score(y_test.iloc[:,1:], pred)))\n",
    "print('Test Recall: {}'.format(recall_score(y_test.iloc[:,1:], pred)))\n",
    "print('Test Precision: {}'.format(precision_score(y_test.iloc[:,1:], pred)))\n",
    "print('Test Accuracy: {}'.format(accuracy_score(y_test.iloc[:,1:], pred)))"
   ]
  },
  {
   "cell_type": "code",
   "execution_count": null,
   "id": "42bfbe6e-c84b-4442-b96a-9b80adf4de74",
   "metadata": {},
   "outputs": [],
   "source": []
  }
 ],
 "metadata": {
  "kernelspec": {
   "display_name": "UFRC Python-3.10",
   "language": "python",
   "name": "python3-3.10-ufrc"
  },
  "language_info": {
   "codemirror_mode": {
    "name": "ipython",
    "version": 3
   },
   "file_extension": ".py",
   "mimetype": "text/x-python",
   "name": "python",
   "nbconvert_exporter": "python",
   "pygments_lexer": "ipython3",
   "version": "3.10.5"
  }
 },
 "nbformat": 4,
 "nbformat_minor": 5
}
