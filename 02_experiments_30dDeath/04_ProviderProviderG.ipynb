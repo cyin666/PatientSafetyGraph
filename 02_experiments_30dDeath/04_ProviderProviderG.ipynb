{
 "cells": [
  {
   "cell_type": "code",
   "execution_count": 1,
   "id": "9dca27ae-d0cf-48d4-b3a0-035ccad474f0",
   "metadata": {},
   "outputs": [],
   "source": [
    "import sys\n",
    "sys.path.insert(1, '/drives/drive1/home/changyu_yin/Desktop/PSG/PSG_AMIA_NEJM/codes/')"
   ]
  },
  {
   "cell_type": "code",
   "execution_count": 2,
   "id": "baa8e1f1-d745-49f6-bf10-9bd7f5d9a51a",
   "metadata": {},
   "outputs": [],
   "source": [
    "#del sys.modules[\"utilities\"]\n",
    "from utilities import *"
   ]
  },
  {
   "cell_type": "code",
   "execution_count": 3,
   "id": "53d88422-f886-49d5-807e-4fcfc3664949",
   "metadata": {},
   "outputs": [],
   "source": [
    "import warnings\n",
    "warnings.filterwarnings('ignore')"
   ]
  },
  {
   "cell_type": "code",
   "execution_count": 4,
   "id": "50946e8b-4fd5-4501-ae38-e4ece3e757ae",
   "metadata": {},
   "outputs": [],
   "source": [
    "df_master_index_all=pickle.load(open('/drives/drive1/home/changyu_yin/Desktop/PSG/PSG_AMIA_NEJM/split_index/df_master_index_all.pkl','rb'))\n",
    "\n",
    "df_master_index_train=pickle.load(open('/drives/drive1/home/changyu_yin/Desktop/PSG/PSG_AMIA_NEJM/split_index/df_master_index_train.pkl','rb'))\n",
    "df_master_index_val=pickle.load(open('/drives/drive1/home/changyu_yin/Desktop/PSG/PSG_AMIA_NEJM/split_index/df_master_index_val.pkl','rb'))\n",
    "df_master_index_test=pickle.load(open('/drives/drive1/home/changyu_yin/Desktop/PSG/PSG_AMIA_NEJM/split_index/df_master_index_test.pkl','rb'))\n",
    "\n",
    "df_master_index_train_val=pd.concat([df_master_index_train,df_master_index_val])"
   ]
  },
  {
   "cell_type": "code",
   "execution_count": 5,
   "id": "7c2c33cf-05e6-451e-b842-1aba8610aa2d",
   "metadata": {},
   "outputs": [],
   "source": [
    "df_feats_ppg_train_all = pickle.load(open('/drives/drive1/home/changyu_yin/Desktop/PSG/PSG_AMIA_NEJM/feature/df_feats_ppg_train_separate.pkl','rb'))\n",
    "df_feats_ppg_val = pickle.load(open('/drives/drive1/home/changyu_yin/Desktop/PSG/PSG_AMIA_NEJM/feature/df_feats_ppg_val_separate.pkl','rb'))\n",
    "df_feats_ppg_test = pickle.load(open('/drives/drive1/home/changyu_yin/Desktop/PSG/PSG_AMIA_NEJM/feature/df_feats_ppg_test.pkl','rb'))\n",
    "\n",
    "Outcome_labels = pickle.load(open('/drives/drive1/home/changyu_yin/Desktop/PSG/PSG_AMIA_NEJM/feature/Outcome_labels.pkl','rb'))"
   ]
  },
  {
   "cell_type": "code",
   "execution_count": 6,
   "id": "143286af-988d-497c-8c1f-fae5ecb1ea5d",
   "metadata": {},
   "outputs": [
    {
     "data": {
      "text/plain": [
       "0"
      ]
     },
     "execution_count": 6,
     "metadata": {},
     "output_type": "execute_result"
    }
   ],
   "source": [
    "cutoff_y = np.quantile(Outcome_labels['LOS_postoperative'],0.75)\n",
    "cutoff_y\n",
    "Outcome_labels['PLOS'] =  (Outcome_labels['LOS_postoperative']>cutoff_y)*1\n",
    "del Outcome_labels['LOS_postoperative']\n",
    "\n",
    "Outcome_labels_train = Outcome_labels[Outcome_labels['ENCRYPTED_HOSP_ENCOUNTER'].\\\n",
    "                                      isin(df_master_index_train['ENCRYPTED_HOSP_ENCOUNTER'])].\\\n",
    "                        reset_index(drop=True)[['ENCRYPTED_HOSP_ENCOUNTER','PLOS']]\n",
    "\n",
    "Outcome_labels_val = Outcome_labels[Outcome_labels['ENCRYPTED_HOSP_ENCOUNTER'].\\\n",
    "                                      isin(df_master_index_val['ENCRYPTED_HOSP_ENCOUNTER'])].\\\n",
    "                        reset_index(drop=True)[['ENCRYPTED_HOSP_ENCOUNTER','PLOS']]\n",
    "\n",
    "Outcome_labels_test = Outcome_labels[Outcome_labels['ENCRYPTED_HOSP_ENCOUNTER'].\\\n",
    "                                      isin(df_master_index_test['ENCRYPTED_HOSP_ENCOUNTER'])].\\\n",
    "                        reset_index(drop=True)[['ENCRYPTED_HOSP_ENCOUNTER','PLOS']]\n",
    "\n",
    "len(Outcome_labels_train)+len(Outcome_labels_val)+len(Outcome_labels_test)-len(Outcome_labels)"
   ]
  },
  {
   "cell_type": "code",
   "execution_count": 7,
   "id": "32637ebe-e8e3-4978-b3a8-e366fe8b6e61",
   "metadata": {},
   "outputs": [],
   "source": [
    "X_train = df_feats_ppg_train_all\n",
    "X_val = df_feats_ppg_val\n",
    "X_test = df_feats_ppg_test\n",
    "\n",
    "y_train = Outcome_labels_train\n",
    "y_val = Outcome_labels_val\n",
    "y_test = Outcome_labels_test"
   ]
  },
  {
   "cell_type": "code",
   "execution_count": null,
   "id": "21ebad74-afa0-4968-a492-aebc764bf543",
   "metadata": {},
   "outputs": [],
   "source": []
  },
  {
   "cell_type": "code",
   "execution_count": 8,
   "id": "45b8a6dc-100b-4d73-9827-d7767aac9e46",
   "metadata": {},
   "outputs": [],
   "source": [
    "X_train_val = pd.concat([X_train,X_val])\n",
    "y_train_val = pd.concat([y_train,y_val])"
   ]
  },
  {
   "cell_type": "code",
   "execution_count": 9,
   "id": "23c763dd-95de-443b-9c5f-4347b15a3b2f",
   "metadata": {},
   "outputs": [
    {
     "data": {
      "text/plain": [
       "((109318, 57),\n",
       " (13665, 57),\n",
       " (122983, 57),\n",
       " (13664, 57),\n",
       " (109318, 2),\n",
       " (13665, 2),\n",
       " (122983, 2),\n",
       " (13664, 2))"
      ]
     },
     "execution_count": 9,
     "metadata": {},
     "output_type": "execute_result"
    }
   ],
   "source": [
    "X_train.shape,X_val.shape,X_train_val.shape,X_test.shape,y_train.shape,y_val.shape,y_train_val.shape,y_test.shape"
   ]
  },
  {
   "cell_type": "code",
   "execution_count": 10,
   "id": "8f88be6c-c4dc-4881-9cf7-25a02cd98d94",
   "metadata": {},
   "outputs": [],
   "source": [
    "#experiment_baseline(X_train, X_val, y_train, y_val, seeds=[2023])"
   ]
  },
  {
   "cell_type": "code",
   "execution_count": 11,
   "id": "a10686cc-3bae-4156-a721-6542157e4384",
   "metadata": {},
   "outputs": [],
   "source": [
    "del sys.modules[\"utilities\"]\n",
    "from utilities import *"
   ]
  },
  {
   "cell_type": "code",
   "execution_count": 12,
   "id": "a321298c-7e0d-4f86-bdf8-54578f2c4c5b",
   "metadata": {},
   "outputs": [
    {
     "name": "stderr",
     "output_type": "stream",
     "text": [
      "100%|████████████████████████████████████████| 1/1 [4:20:21<00:00, 15621.54s/it]"
     ]
    },
    {
     "name": "stdout",
     "output_type": "stream",
     "text": [
      "====================================================\n",
      "A. Scores on training set\n",
      "avg XGBoost classifer: auc/  0.8402  F1:  0.4548  precision:  0.7709  recall:  0.3225  accuracy:  0.81\n",
      "std XGBoost classifer: auc/  0.0  F1:  0.0  precision:  0.0  recall:  0.0  accuracy:  0.0\n",
      "avg MLP classifer: auc/  0.6768  F1:  0.1967  precision:  0.6562  recall:  0.1157  accuracy:  0.7679\n",
      "std MLP classifer: auc/  0.0  F1:  0.0  precision:  0.0  recall:  0.0  accuracy:  0.0\n",
      "avg logistic classifer: auc/  0.6934  F1:  0.4657  precision:  0.3835  recall:  0.5929  accuracy:  0.6658\n",
      "std logistic classifer: auc/  0.0  F1:  0.0  precision:  0.0  recall:  0.0  accuracy:  0.0\n",
      "****************************************************\n",
      "\n",
      "B. Scores on test set\n",
      "avg XGBoost classifer: auc/  0.6757  F1:  0.3168  precision:  0.6226  recall:  0.2125  accuracy:  0.7355\n",
      "std XGBoost classifer: auc/  0.0  F1:  0.0  precision:  0.0  recall:  0.0  accuracy:  0.0\n",
      "avg MLP classifer: auc/  0.617  F1:  0.1066  precision:  0.6806  recall:  0.0578  accuracy:  0.7202\n",
      "std MLP classifer: auc/  0.0  F1:  0.0  precision:  0.0  recall:  0.0  accuracy:  0.0\n",
      "avg logistic classifer: auc/  0.611  F1:  0.4192  precision:  0.419  recall:  0.4194  accuracy:  0.6646\n",
      "std logistic classifer: auc/  0.0  F1:  0.0  precision:  0.0  recall:  0.0  accuracy:  0.0\n",
      "====================================================\n",
      "\n"
     ]
    },
    {
     "name": "stderr",
     "output_type": "stream",
     "text": [
      "\n"
     ]
    }
   ],
   "source": [
    "experiment_baseline(X_train_val, X_test, y_train_val, y_test, seeds=[666])"
   ]
  },
  {
   "cell_type": "code",
   "execution_count": null,
   "id": "b09d4ce8-fd51-484b-a667-d64f335d5f74",
   "metadata": {},
   "outputs": [],
   "source": []
  }
 ],
 "metadata": {
  "kernelspec": {
   "display_name": "UFRC Python-3.10",
   "language": "python",
   "name": "python3-3.10-ufrc"
  },
  "language_info": {
   "codemirror_mode": {
    "name": "ipython",
    "version": 3
   },
   "file_extension": ".py",
   "mimetype": "text/x-python",
   "name": "python",
   "nbconvert_exporter": "python",
   "pygments_lexer": "ipython3",
   "version": "3.10.5"
  }
 },
 "nbformat": 4,
 "nbformat_minor": 5
}
