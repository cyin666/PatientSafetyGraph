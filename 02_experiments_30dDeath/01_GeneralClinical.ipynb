{
 "cells": [
  {
   "cell_type": "code",
   "execution_count": 1,
   "id": "0a4f2b4a-7cce-49f5-82b5-190f94a7b60f",
   "metadata": {},
   "outputs": [],
   "source": [
    "import sys\n",
    "sys.path.insert(1, '/drives/drive1/home/changyu_yin/Desktop/PSG/PSG_AMIA_NEJM/codes/')"
   ]
  },
  {
   "cell_type": "code",
   "execution_count": 2,
   "id": "612c994e-a11c-4aec-82a6-a2cb0b6c6d80",
   "metadata": {},
   "outputs": [],
   "source": [
    "#del sys.modules[\"utilities\"]\n",
    "from utilities import *"
   ]
  },
  {
   "cell_type": "code",
   "execution_count": 3,
   "id": "2303a961-04cf-4078-9166-8098918a69f0",
   "metadata": {},
   "outputs": [],
   "source": [
    "import warnings\n",
    "warnings.filterwarnings('ignore')"
   ]
  },
  {
   "cell_type": "code",
   "execution_count": 4,
   "id": "48904db1-5f38-4894-b7a7-4bc5365a4097",
   "metadata": {},
   "outputs": [],
   "source": [
    "df_master_index_all=pickle.load(open('/drives/drive1/home/changyu_yin/Desktop/PSG/PSG_AMIA_NEJM/split_index/df_master_index_all.pkl','rb'))\n",
    "\n",
    "df_master_index_train=pickle.load(open('/drives/drive1/home/changyu_yin/Desktop/PSG/PSG_AMIA_NEJM/split_index/df_master_index_train.pkl','rb'))\n",
    "df_master_index_val=pickle.load(open('/drives/drive1/home/changyu_yin/Desktop/PSG/PSG_AMIA_NEJM/split_index/df_master_index_val.pkl','rb'))\n",
    "df_master_index_test=pickle.load(open('/drives/drive1/home/changyu_yin/Desktop/PSG/PSG_AMIA_NEJM/split_index/df_master_index_test.pkl','rb'))\n",
    "\n",
    "df_master_index_train_val=pd.concat([df_master_index_train,df_master_index_val])"
   ]
  },
  {
   "cell_type": "code",
   "execution_count": null,
   "id": "8423417a-4c59-4243-a784-609f2b8c1068",
   "metadata": {},
   "outputs": [],
   "source": []
  },
  {
   "cell_type": "code",
   "execution_count": 5,
   "id": "687c6af1-c4bf-4b6d-bd44-41a3f66246dc",
   "metadata": {},
   "outputs": [],
   "source": [
    "df_feats_clinical = pickle.load(open('/drives/drive1/home/changyu_yin/Desktop/PSG/PSG_AMIA_NEJM/feature/df_feats_clinical.pkl','rb'))\n",
    "df_feats_icd_transform = pickle.load(open('/drives/drive1/home/changyu_yin/Desktop/PSG/PSG_AMIA_NEJM/feature/df_feats_icd_transform.pkl','rb'))\n",
    "df_preor_ICULOS = pickle.load(open('/drives/drive1/home/changyu_yin/Desktop/PSG/PSG_AMIA_NEJM/feature/df_preor_ICULOS.pkl','rb'))\n",
    "df_feats_delirium = pickle.load(open('/drives/drive1/home/changyu_yin/Desktop/PSG/PSG_AMIA_NEJM/feature/df_feats_delirium.pkl','rb'))\n",
    "\n",
    "Outcome_labels = pickle.load(open('/drives/drive1/home/changyu_yin/Desktop/PSG/PSG_AMIA_NEJM/feature/Outcome_labels.pkl','rb'))"
   ]
  },
  {
   "cell_type": "code",
   "execution_count": 6,
   "id": "1f4346c6-fbbe-447b-8bfd-7d696fad0e48",
   "metadata": {},
   "outputs": [
    {
     "data": {
      "text/plain": [
       "((136647, 2875), (136647, 1418), (136647, 4), (136647, 3))"
      ]
     },
     "execution_count": 6,
     "metadata": {},
     "output_type": "execute_result"
    }
   ],
   "source": [
    "df_feats_clinical.shape,df_feats_icd_transform.shape,df_preor_ICULOS.shape,df_feats_delirium.shape"
   ]
  },
  {
   "cell_type": "code",
   "execution_count": 7,
   "id": "d3a07a05-b5ca-4f61-9518-cf272385f8aa",
   "metadata": {},
   "outputs": [],
   "source": [
    "df_feats_generalclinical = df_feats_clinical.merge(df_feats_icd_transform,\n",
    "                                 on='ENCRYPTED_HOSP_ENCOUNTER',\n",
    "                                 how='left').merge(df_preor_ICULOS,\n",
    "                                 on='ENCRYPTED_HOSP_ENCOUNTER',\n",
    "                                 how='left').merge(df_feats_delirium,\n",
    "                                 on='ENCRYPTED_HOSP_ENCOUNTER',\n",
    "                                 how='left')\n",
    "                        "
   ]
  },
  {
   "cell_type": "code",
   "execution_count": 8,
   "id": "28729b72-151d-49de-a397-98d637650789",
   "metadata": {},
   "outputs": [
    {
     "data": {
      "text/plain": [
       "0"
      ]
     },
     "execution_count": 8,
     "metadata": {},
     "output_type": "execute_result"
    }
   ],
   "source": [
    "cutoff_y = np.quantile(Outcome_labels['LOS_postoperative'],0.75)\n",
    "cutoff_y\n",
    "Outcome_labels['PLOS'] =  (Outcome_labels['LOS_postoperative']>cutoff_y)*1\n",
    "del Outcome_labels['LOS_postoperative']\n",
    "\n",
    "Outcome_labels_train = Outcome_labels[Outcome_labels['ENCRYPTED_HOSP_ENCOUNTER'].\\\n",
    "                                      isin(df_master_index_train['ENCRYPTED_HOSP_ENCOUNTER'])].\\\n",
    "                        reset_index(drop=True)[['ENCRYPTED_HOSP_ENCOUNTER','PLOS']]\n",
    "\n",
    "Outcome_labels_val = Outcome_labels[Outcome_labels['ENCRYPTED_HOSP_ENCOUNTER'].\\\n",
    "                                      isin(df_master_index_val['ENCRYPTED_HOSP_ENCOUNTER'])].\\\n",
    "                        reset_index(drop=True)[['ENCRYPTED_HOSP_ENCOUNTER','PLOS']]\n",
    "\n",
    "Outcome_labels_test = Outcome_labels[Outcome_labels['ENCRYPTED_HOSP_ENCOUNTER'].\\\n",
    "                                      isin(df_master_index_test['ENCRYPTED_HOSP_ENCOUNTER'])].\\\n",
    "                        reset_index(drop=True)[['ENCRYPTED_HOSP_ENCOUNTER','PLOS']]\n",
    "\n",
    "len(Outcome_labels_train)+len(Outcome_labels_val)+len(Outcome_labels_test)-len(Outcome_labels)"
   ]
  },
  {
   "cell_type": "code",
   "execution_count": 9,
   "id": "ae4e3949-90fd-4e62-9436-d62f6a1575e4",
   "metadata": {},
   "outputs": [
    {
     "data": {
      "text/plain": [
       "0"
      ]
     },
     "execution_count": 9,
     "metadata": {},
     "output_type": "execute_result"
    }
   ],
   "source": [
    "df_feats_generalclinical_train = df_feats_generalclinical[df_feats_generalclinical['ENCRYPTED_HOSP_ENCOUNTER'].\\\n",
    "                                      isin(df_master_index_train['ENCRYPTED_HOSP_ENCOUNTER'])].\\\n",
    "                        reset_index(drop=True)\n",
    "\n",
    "df_feats_generalclinical_val = df_feats_generalclinical[df_feats_generalclinical['ENCRYPTED_HOSP_ENCOUNTER'].\\\n",
    "                                      isin(df_master_index_val['ENCRYPTED_HOSP_ENCOUNTER'])].\\\n",
    "                        reset_index(drop=True)\n",
    "\n",
    "df_feats_generalclinical_test = df_feats_generalclinical[df_feats_generalclinical['ENCRYPTED_HOSP_ENCOUNTER'].\\\n",
    "                                      isin(df_master_index_test['ENCRYPTED_HOSP_ENCOUNTER'])].\\\n",
    "                        reset_index(drop=True)\n",
    "\n",
    "len(df_feats_generalclinical_train)+len(df_feats_generalclinical_val)+len(df_feats_generalclinical_test)-len(df_feats_generalclinical)"
   ]
  },
  {
   "cell_type": "code",
   "execution_count": 10,
   "id": "52b0c42f-2fda-4feb-bbc5-f4618746d445",
   "metadata": {},
   "outputs": [],
   "source": [
    "X_train = df_feats_generalclinical_train\n",
    "X_val = df_feats_generalclinical_val\n",
    "X_train_val = pd.concat([X_train,X_val])\n",
    "X_test = df_feats_generalclinical_test\n",
    "\n",
    "y_train = Outcome_labels_train\n",
    "y_val = Outcome_labels_val\n",
    "y_train_val = pd.concat([y_train,y_val])\n",
    "y_test = Outcome_labels_test"
   ]
  },
  {
   "cell_type": "code",
   "execution_count": 11,
   "id": "bb27ad18-977a-4d86-b446-ab0c36676019",
   "metadata": {},
   "outputs": [
    {
     "data": {
      "text/plain": [
       "((109318, 4297),\n",
       " (13665, 4297),\n",
       " (122983, 4297),\n",
       " (13664, 4297),\n",
       " (109318, 2),\n",
       " (13665, 2),\n",
       " (122983, 2),\n",
       " (13664, 2))"
      ]
     },
     "execution_count": 11,
     "metadata": {},
     "output_type": "execute_result"
    }
   ],
   "source": [
    "X_train.shape,X_val.shape,X_train_val.shape,X_test.shape,y_train.shape,y_val.shape,y_train_val.shape,y_test.shape"
   ]
  },
  {
   "cell_type": "code",
   "execution_count": 12,
   "id": "3a753f29-a1c4-4438-b9dd-eb1bf8881589",
   "metadata": {},
   "outputs": [],
   "source": [
    "#experiment_baseline(X_train, X_val, y_train, y_val, seeds=[2023])"
   ]
  },
  {
   "cell_type": "code",
   "execution_count": 13,
   "id": "c897ded0-8d7a-4477-90a3-b717e0df41b2",
   "metadata": {},
   "outputs": [],
   "source": [
    "del sys.modules[\"utilities\"]\n",
    "from utilities import *"
   ]
  },
  {
   "cell_type": "code",
   "execution_count": 14,
   "id": "b4a2680b-16ba-427a-8f35-8cd86bb2ba1d",
   "metadata": {},
   "outputs": [
    {
     "name": "stderr",
     "output_type": "stream",
     "text": [
      "100%|██████████████████████████████████████| 1/1 [32:29:49<00:00, 116989.17s/it]\n"
     ]
    },
    {
     "name": "stdout",
     "output_type": "stream",
     "text": [
      "====================================================\n",
      "A. Scores on training set\n",
      "avg XGBoost classifer: auc/  0.9713  F1:  0.8322  precision:  0.8154  recall:  0.8496  accuracy:  0.9158\n",
      "std XGBoost classifer: auc/  0.0  F1:  0.0  precision:  0.0  recall:  0.0  accuracy:  0.0\n",
      "avg MLP classifer: auc/  0.9559  F1:  0.7962  precision:  0.7635  recall:  0.8318  accuracy:  0.8954\n",
      "std MLP classifer: auc/  0.0  F1:  0.0  precision:  0.0  recall:  0.0  accuracy:  0.0\n",
      "avg logistic classifer: auc/  0.9238  F1:  0.7434  precision:  0.6699  recall:  0.8351  accuracy:  0.8584\n",
      "std logistic classifer: auc/  0.0  F1:  0.0  precision:  0.0  recall:  0.0  accuracy:  0.0\n",
      "****************************************************\n",
      "\n",
      "B. Scores on test set\n",
      "avg XGBoost classifer: auc/  0.9652  F1:  0.8386  precision:  0.8435  recall:  0.8337  accuracy:  0.9074\n",
      "std XGBoost classifer: auc/  0.0  F1:  0.0  precision:  0.0  recall:  0.0  accuracy:  0.0\n",
      "avg MLP classifer: auc/  0.9614  F1:  0.8333  precision:  0.824  recall:  0.8428  accuracy:  0.9027\n",
      "std MLP classifer: auc/  0.0  F1:  0.0  precision:  0.0  recall:  0.0  accuracy:  0.0\n",
      "avg logistic classifer: auc/  0.905  F1:  0.7425  precision:  0.6945  recall:  0.7977  accuracy:  0.8403\n",
      "std logistic classifer: auc/  0.0  F1:  0.0  precision:  0.0  recall:  0.0  accuracy:  0.0\n",
      "====================================================\n",
      "\n"
     ]
    }
   ],
   "source": [
    "experiment_baseline(X_train_val, X_test, y_train_val, y_test, seeds=[666])"
   ]
  },
  {
   "cell_type": "code",
   "execution_count": null,
   "id": "0cdc9202-8c65-4775-9e6b-8f039503107b",
   "metadata": {},
   "outputs": [],
   "source": []
  }
 ],
 "metadata": {
  "kernelspec": {
   "display_name": "UFRC Python-3.10",
   "language": "python",
   "name": "python3-3.10-ufrc"
  },
  "language_info": {
   "codemirror_mode": {
    "name": "ipython",
    "version": 3
   },
   "file_extension": ".py",
   "mimetype": "text/x-python",
   "name": "python",
   "nbconvert_exporter": "python",
   "pygments_lexer": "ipython3",
   "version": "3.10.5"
  }
 },
 "nbformat": 4,
 "nbformat_minor": 5
}
