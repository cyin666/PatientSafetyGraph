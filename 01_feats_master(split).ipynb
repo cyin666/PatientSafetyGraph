{
 "cells": [
  {
   "cell_type": "markdown",
   "id": "4f924874-3798-4f21-80e6-ab8f9ad88253",
   "metadata": {},
   "source": [
    "**Input:** </br>\n",
    "df_master </br>\n",
    "**Output:** </br>\n",
    "df_feats (master) </br>\n",
    "df_master_index_train/val/test_index (split by hospenc_date), </br>"
   ]
  },
  {
   "cell_type": "code",
   "execution_count": 27,
   "id": "b84ad56a-4289-4795-b7f1-46406f5e6b26",
   "metadata": {},
   "outputs": [],
   "source": [
    "from utilities import *"
   ]
  },
  {
   "cell_type": "markdown",
   "id": "2b775be6-2b65-4bbb-bdb8-eb66412ce16e",
   "metadata": {},
   "source": [
    "# Features"
   ]
  },
  {
   "cell_type": "code",
   "execution_count": 28,
   "id": "974ee415-a0c7-42ee-a899-b983cb5edea9",
   "metadata": {},
   "outputs": [],
   "source": [
    "import warnings\n",
    "warnings.filterwarnings('ignore')"
   ]
  },
  {
   "cell_type": "code",
   "execution_count": 44,
   "id": "72af4e4d-52c0-4bb0-9271-f7b99ddb33d1",
   "metadata": {},
   "outputs": [],
   "source": [
    "time_variable = [\"Room Start Datetime\", \n",
    "                      \"Induction Datetime\", \n",
    "                      \"Incision Datetime\", \n",
    "                      \"Dressing Datetime\", \n",
    "                      \"Emergence Datetime\", \n",
    "                      \"Room End Datetime\"]\n",
    "\n",
    "anes_variable = [\"Anesthesia Start Datetime\", \"Anesthesia Stop Datetime\"]\n",
    "\n",
    "\n",
    "continous_variable = [\"ENCRYPTED_HOSP_ENCOUNTER\",\n",
    "                      \"Age at Encounter\",\n",
    "                      \"ASA (Anesth Record)\", \n",
    "                      \"ASA (Prior to Surgery)\", \n",
    "                      \"Charlson_Comorbidity_Index\", \n",
    "                      \"Admit Weight (kg)\", \n",
    "                      \"Admit Height (cm)\",\n",
    "                      \"Admit BMI\",]\n",
    "\n",
    "categorical_variable = [\"ENCRYPTED_HOSP_ENCOUNTER\",\n",
    "                        \"Day of Week (CHAR)\", \n",
    "                        \"Type of Day\", \n",
    "                        \"Race\", \n",
    "                        \"Ethnicity\", \n",
    "                        \"Sex\", \n",
    "                        \"Marital Status\", \n",
    "                        \"Service\", \n",
    "                        \n",
    "                        \"Emergent Y/N (Anesth Record)\", \n",
    "                        \"CPT 1\", \n",
    "                        \"Emergent Y/N (Prior to Surgery)\", \n",
    "                        \n",
    "                        \"Anesthesia Type\", \n",
    "                        \"Admit Source\",\n",
    "                        \"Payer\"]\n",
    "\n",
    "surgery_process_cat = [\"ENCRYPTED_HOSP_ENCOUNTER\",\"Anesthesia Block Y/N\",\n",
    "                      \"Room Type\", ]\n",
    "\n",
    "Label = [\"LOS\", \"LOS in Hours\"]"
   ]
  },
  {
   "cell_type": "code",
   "execution_count": 30,
   "id": "0ed1a771-fc3c-4c03-aba1-5e4c6fd04559",
   "metadata": {},
   "outputs": [],
   "source": [
    "df_master=pickle.load(open('/drives/drive1/home/changyu_yin/Desktop/PSG/PSG_AMIA_NEJM/intermediary/df_master_preprocessed.pkl','rb'))"
   ]
  },
  {
   "cell_type": "markdown",
   "id": "f2e6a9a6-0dca-4d83-8c2b-4735f3077526",
   "metadata": {},
   "source": [
    "## Time features"
   ]
  },
  {
   "cell_type": "code",
   "execution_count": 31,
   "id": "8ee83a58-be89-4b39-b1ff-ee037713716c",
   "metadata": {},
   "outputs": [],
   "source": [
    "time_variable_array = df_master[time_variable]\n",
    "anes_variable_array = df_master[anes_variable]\n",
    "\n",
    "for col in anes_variable_array.columns:\n",
    "    anes_variable_array[col] = pd.to_datetime(anes_variable_array[col]) \n",
    "\n",
    "for col in time_variable_array.columns:\n",
    "    time_variable_array[col] = pd.to_datetime(time_variable_array[col]) "
   ]
  },
  {
   "cell_type": "code",
   "execution_count": 32,
   "id": "449d7c8c-d1a2-43dd-b195-6f68e858ef97",
   "metadata": {},
   "outputs": [],
   "source": [
    "start_to_induction = (time_variable_array['Induction Datetime'] - time_variable_array['Room Start Datetime'])/pd.Timedelta(minutes=1)\n",
    "induction_to_incision = (time_variable_array['Incision Datetime'] - time_variable_array['Induction Datetime'])/pd.Timedelta(minutes=1)\n",
    "incision_to_dressing = (time_variable_array['Dressing Datetime'] - time_variable_array['Incision Datetime'])/pd.Timedelta(minutes=1)\n",
    "dressing_to_emergence = (time_variable_array['Emergence Datetime'] - time_variable_array['Dressing Datetime'])/pd.Timedelta(minutes=1)\n",
    "emergency_to_end = (time_variable_array['Room End Datetime'] - time_variable_array['Emergence Datetime'])/pd.Timedelta(minutes=1)\n",
    "\n",
    "anes_duration = (anes_variable_array['Anesthesia Stop Datetime'] - anes_variable_array['Anesthesia Start Datetime'])/pd.Timedelta(minutes=1)"
   ]
  },
  {
   "cell_type": "code",
   "execution_count": 33,
   "id": "27fa21a0-0340-4f7d-9ef0-2ecf2d017b9c",
   "metadata": {},
   "outputs": [],
   "source": [
    "df_time=pd.DataFrame({\n",
    "             'ENCRYPTED_HOSP_ENCOUNTER':df_master['ENCRYPTED_HOSP_ENCOUNTER'],\n",
    "             'start_to_induction':start_to_induction,\n",
    "             'induction_to_incision':induction_to_incision,\n",
    "             'incision_to_dressing':incision_to_dressing,\n",
    "             'dressing_to_emergence':dressing_to_emergence,\n",
    "             'emergency_to_end':emergency_to_end,\n",
    "             'anes_duration':anes_duration})"
   ]
  },
  {
   "cell_type": "code",
   "execution_count": 34,
   "id": "a0f877d3-4506-4f2d-8e3e-71e283e17ae5",
   "metadata": {},
   "outputs": [],
   "source": [
    "df_time = df_time.groupby('ENCRYPTED_HOSP_ENCOUNTER').mean().reset_index()"
   ]
  },
  {
   "cell_type": "markdown",
   "id": "76752dd3-e819-47bb-b7f9-13124a7ff536",
   "metadata": {},
   "source": [
    "## Continuous features"
   ]
  },
  {
   "cell_type": "code",
   "execution_count": 35,
   "id": "dae48e06-789f-4984-98a4-2c66c152bb88",
   "metadata": {},
   "outputs": [],
   "source": [
    "df_master[\"ASA (Prior to Surgery)\"] = fill_missing_ASA(df_master[\"ASA (Anesth Record)\"].values,  df_master[\"ASA (Prior to Surgery)\"].values)\n",
    "df_master[\"ASA (Anesth Record)\"] = fill_missing_ASA(df_master[\"ASA (Prior to Surgery)\"].values, df_master[\"ASA (Anesth Record)\"].values)"
   ]
  },
  {
   "cell_type": "code",
   "execution_count": 36,
   "id": "9138d25e-543c-4702-9408-3d3b4889eec9",
   "metadata": {},
   "outputs": [],
   "source": [
    "df_cont = df_master[continous_variable].groupby('ENCRYPTED_HOSP_ENCOUNTER').mean().reset_index()"
   ]
  },
  {
   "cell_type": "markdown",
   "id": "84ac0c74-e182-4bdc-b00c-cf3a47d895cd",
   "metadata": {},
   "source": [
    "## Categorical features"
   ]
  },
  {
   "cell_type": "code",
   "execution_count": 37,
   "id": "01f51927-8d48-4968-b8c6-5677d3311998",
   "metadata": {},
   "outputs": [],
   "source": [
    "df_cat_var = df_master[categorical_variable].fillna('MISSING_UNKNOWN')"
   ]
  },
  {
   "cell_type": "code",
   "execution_count": 38,
   "id": "707c5f68-5d86-4d00-b51b-8c8fbcfb9dfd",
   "metadata": {},
   "outputs": [],
   "source": [
    "df_cat_var_p1 = pd.get_dummies(df_cat_var,columns=categorical_variable[1:]).\\\n",
    "                groupby('ENCRYPTED_HOSP_ENCOUNTER').sum().reset_index()"
   ]
  },
  {
   "cell_type": "code",
   "execution_count": 39,
   "id": "b3416e57-05b4-46d0-b93e-045c083826c6",
   "metadata": {},
   "outputs": [],
   "source": [
    "df_cat_var_p2 = df_cat_var.\\\n",
    "                groupby('ENCRYPTED_HOSP_ENCOUNTER').size().\\\n",
    "                reset_index()\n",
    "df_cat_var_p2.columns = ['ENCRYPTED_HOSP_ENCOUNTER','NUM_Surgeries_tot']"
   ]
  },
  {
   "cell_type": "code",
   "execution_count": 40,
   "id": "5e637904-b99a-45df-9fe4-fff7a0d4e440",
   "metadata": {},
   "outputs": [
    {
     "data": {
      "text/plain": [
       "((161169, 14), (136647, 2867), (136647, 2))"
      ]
     },
     "execution_count": 40,
     "metadata": {},
     "output_type": "execute_result"
    }
   ],
   "source": [
    "df_cat_var.shape,df_cat_var_p1.shape,df_cat_var_p2.shape"
   ]
  },
  {
   "cell_type": "code",
   "execution_count": 41,
   "id": "148deb3d-aed0-4202-a019-17a3fdd20214",
   "metadata": {},
   "outputs": [],
   "source": [
    "df_cat_var = pd.concat([df_cat_var_p1,df_cat_var_p2.drop(columns=['ENCRYPTED_HOSP_ENCOUNTER'])],axis=1)"
   ]
  },
  {
   "cell_type": "markdown",
   "id": "062c6d9a-0d69-41aa-8620-b7ea72257a3d",
   "metadata": {},
   "source": [
    "## Surgery Proces Categorical features"
   ]
  },
  {
   "cell_type": "code",
   "execution_count": 45,
   "id": "d3f7f899-9013-42c3-b98c-d4d2d65f1601",
   "metadata": {},
   "outputs": [],
   "source": [
    "df_cat_var_surgery = df_master[surgery_process_cat].fillna('MISSING_UNKNOWN')"
   ]
  },
  {
   "cell_type": "code",
   "execution_count": 46,
   "id": "d4d6b2b5-778f-4ac5-b7ae-d59884bbe0eb",
   "metadata": {},
   "outputs": [],
   "source": [
    "df_cat_var_surgery = pd.get_dummies(df_cat_var_surgery,columns=surgery_process_cat[1:]).\\\n",
    "                groupby('ENCRYPTED_HOSP_ENCOUNTER').sum().reset_index()"
   ]
  },
  {
   "cell_type": "code",
   "execution_count": 47,
   "id": "8ac28fc4-addb-40b1-9743-0473f72ee2d3",
   "metadata": {},
   "outputs": [
    {
     "data": {
      "text/plain": [
       "(136647, 21)"
      ]
     },
     "execution_count": 47,
     "metadata": {},
     "output_type": "execute_result"
    }
   ],
   "source": [
    "df_cat_var_surgery.shape"
   ]
  },
  {
   "cell_type": "markdown",
   "id": "74d9eb5d-678b-4dee-a001-78801bf8c92a",
   "metadata": {},
   "source": [
    "## Assemble"
   ]
  },
  {
   "cell_type": "code",
   "execution_count": 49,
   "id": "d07b7f65-e596-45bf-97cb-92ad3c780c3e",
   "metadata": {},
   "outputs": [
    {
     "data": {
      "text/plain": [
       "((136647, 2868), (136647, 8), (136647, 7), (136647, 21))"
      ]
     },
     "execution_count": 49,
     "metadata": {},
     "output_type": "execute_result"
    }
   ],
   "source": [
    "df_cat_var.shape,df_cont.shape,df_time.shape,df_cat_var_surgery.shape"
   ]
  },
  {
   "cell_type": "code",
   "execution_count": 50,
   "id": "301b1ab2-f8b0-4b0f-900a-d88ce8f30604",
   "metadata": {},
   "outputs": [],
   "source": [
    "df_feats_clinical = pd.merge(df_cat_var,df_cont,on='ENCRYPTED_HOSP_ENCOUNTER',how='left')"
   ]
  },
  {
   "cell_type": "code",
   "execution_count": 51,
   "id": "2d18ac15-778f-4a5c-8dab-fe55ea0e1ff4",
   "metadata": {},
   "outputs": [],
   "source": [
    "df_feats_SurgeryProcess = pd.merge(df_cat_var_surgery,df_time,on='ENCRYPTED_HOSP_ENCOUNTER',how = 'left')"
   ]
  },
  {
   "cell_type": "code",
   "execution_count": 52,
   "id": "0588251c-f1f8-4eac-b1a4-41c05dbc33d0",
   "metadata": {},
   "outputs": [
    {
     "data": {
      "text/plain": [
       "((136647, 2875), (136647, 27))"
      ]
     },
     "execution_count": 52,
     "metadata": {},
     "output_type": "execute_result"
    }
   ],
   "source": [
    "df_feats_clinical.shape,df_feats_SurgeryProcess.shape"
   ]
  },
  {
   "cell_type": "markdown",
   "id": "39eb17bb-fe02-46bd-be8b-ecb0a27b0588",
   "metadata": {},
   "source": [
    "# Splitting"
   ]
  },
  {
   "cell_type": "markdown",
   "id": "95bc6b59-6c3d-4f70-84d0-8508e34e30a4",
   "metadata": {},
   "source": [
    "## index"
   ]
  },
  {
   "cell_type": "code",
   "execution_count": 20,
   "id": "24885e56-00e8-4285-925d-9925e58ad024",
   "metadata": {},
   "outputs": [],
   "source": [
    "hospenc_date_array = pd.to_datetime(df_master['Admit DateTime'])"
   ]
  },
  {
   "cell_type": "code",
   "execution_count": 52,
   "id": "53529cc5-ba28-480d-9c43-c8e1a8246ee7",
   "metadata": {},
   "outputs": [
    {
     "data": {
      "text/plain": [
       "161169"
      ]
     },
     "execution_count": 52,
     "metadata": {},
     "output_type": "execute_result"
    }
   ],
   "source": [
    "hospenc_id_array_t = pd.DataFrame({'ENCRYPTED_HOSP_ENCOUNTER': df_master['ENCRYPTED_HOSP_ENCOUNTER'],\n",
    "                          'Admit DateTime':hospenc_date_array})\n",
    "len(hospenc_id_array_t)"
   ]
  },
  {
   "cell_type": "code",
   "execution_count": 53,
   "id": "56d1be08-990c-4edc-b9d0-37ac194c0561",
   "metadata": {},
   "outputs": [
    {
     "data": {
      "text/plain": [
       "136647"
      ]
     },
     "execution_count": 53,
     "metadata": {},
     "output_type": "execute_result"
    }
   ],
   "source": [
    "hospenc_id_array_t = hospenc_id_array_t.groupby('ENCRYPTED_HOSP_ENCOUNTER').agg({'Admit DateTime':'min'})\n",
    "hospenc_id_array_t['year'] = hospenc_id_array_t['Admit DateTime'].dt.year\n",
    "hospenc_id_array_t = hospenc_id_array_t.sort_values('Admit DateTime')\n",
    "len(hospenc_id_array_t)"
   ]
  },
  {
   "cell_type": "code",
   "execution_count": 54,
   "id": "4b40f918-992f-4665-9cea-9dbe6a63f77e",
   "metadata": {},
   "outputs": [
    {
     "data": {
      "text/plain": [
       "(Timestamp('2010-09-18 01:15:00'), Timestamp('2022-08-17 18:11:00'))"
      ]
     },
     "execution_count": 54,
     "metadata": {},
     "output_type": "execute_result"
    }
   ],
   "source": [
    "min(hospenc_id_array_t['Admit DateTime']),max(hospenc_id_array_t['Admit DateTime'])"
   ]
  },
  {
   "cell_type": "code",
   "execution_count": 55,
   "id": "f17b3117-ae63-4b9d-8366-6e727d859662",
   "metadata": {},
   "outputs": [
    {
     "data": {
      "image/png": "[encoded data removed]",
      "text/plain": [
       "<Figure size 432x288 with 1 Axes>"
      ]
     },
     "metadata": {
      "needs_background": "light"
     },
     "output_type": "display_data"
    }
   ],
   "source": [
    "year_stat=hospenc_id_array_t.groupby('year').count().reset_index()\n",
    "plt.bar(year_stat['year'],year_stat['Admit DateTime'])\n",
    "plt.show()"
   ]
  },
  {
   "cell_type": "code",
   "execution_count": 57,
   "id": "393d0665-2f18-4a56-9f8f-6c865b372fe3",
   "metadata": {},
   "outputs": [],
   "source": [
    "year_stat['percent']=np.round(year_stat['Admit DateTime']/sum(year_stat['Admit DateTime'])*100,2)"
   ]
  },
  {
   "cell_type": "code",
   "execution_count": 64,
   "id": "531e96f8-349f-4c53-a294-fc8287a64c1b",
   "metadata": {},
   "outputs": [],
   "source": [
    "num_train_val = int(np.ceil(len(hospenc_id_array_t)*0.9))\n",
    "num_train = int(np.ceil(len(hospenc_id_array_t)*0.8))"
   ]
  },
  {
   "cell_type": "code",
   "execution_count": 61,
   "id": "1194f910-f804-4a39-9dda-3488ce7e95df",
   "metadata": {},
   "outputs": [],
   "source": [
    "hospenc_id_array_t = hospenc_id_array_t.reset_index()"
   ]
  },
  {
   "cell_type": "code",
   "execution_count": 70,
   "id": "63d636b9-5cb0-49bc-9a7a-9c595182cb8a",
   "metadata": {},
   "outputs": [
    {
     "name": "stdout",
     "output_type": "stream",
     "text": [
      "0\n",
      "0\n",
      "0\n"
     ]
    }
   ],
   "source": [
    "hospenc_id_all = hospenc_id_array_t[['ENCRYPTED_HOSP_ENCOUNTER']]\n",
    "hospenc_id_train_val = pd.DataFrame({'ENCRYPTED_HOSP_ENCOUNTER':hospenc_id_array_t.head(num_train_val)['ENCRYPTED_HOSP_ENCOUNTER']})\n",
    "hospenc_id_train = pd.DataFrame({'ENCRYPTED_HOSP_ENCOUNTER':hospenc_id_array_t.head(num_train)['ENCRYPTED_HOSP_ENCOUNTER']})\n",
    "hospenc_id_test = hospenc_id_all.loc[~hospenc_id_array_t['ENCRYPTED_HOSP_ENCOUNTER'].isin(hospenc_id_train_val['ENCRYPTED_HOSP_ENCOUNTER'].values)]\n",
    "hospenc_id_val = hospenc_id_all.loc[(~hospenc_id_array_t['ENCRYPTED_HOSP_ENCOUNTER'].isin(hospenc_id_train['ENCRYPTED_HOSP_ENCOUNTER'].values))&\n",
    "                                                                      (~hospenc_id_array_t['ENCRYPTED_HOSP_ENCOUNTER'].isin(hospenc_id_test['ENCRYPTED_HOSP_ENCOUNTER'].values))]\n",
    "print(len(hospenc_id_train)+len(hospenc_id_test)+len(hospenc_id_val)-len(hospenc_id_all))\n",
    "print(len(hospenc_id_train_val)-len(hospenc_id_train)-len(hospenc_id_val))\n",
    "print(len(hospenc_id_train_val)+len(hospenc_id_test)-len(hospenc_id_all))"
   ]
  },
  {
   "cell_type": "markdown",
   "id": "dfdba340-9c9e-4832-9cd4-73f57b645a80",
   "metadata": {},
   "source": [
    "## split"
   ]
  },
  {
   "cell_type": "code",
   "execution_count": 72,
   "id": "6e6fbae8-5ce3-4f63-9636-507fd2b1ab40",
   "metadata": {},
   "outputs": [],
   "source": [
    "df_master_index_all = df_master[['ENCRYPTED_ENCOUNTER', \n",
    "                                 'ENCRYPTED_MRN', \n",
    "                                 'ENCRYPTED_HOSP_ENCOUNTER',\n",
    "                                 'CASE_NUMBER']]"
   ]
  },
  {
   "cell_type": "code",
   "execution_count": 75,
   "id": "55f56162-5dd2-46ce-b01b-5890fab0785d",
   "metadata": {},
   "outputs": [
    {
     "data": {
      "text/plain": [
       "0"
      ]
     },
     "execution_count": 75,
     "metadata": {},
     "output_type": "execute_result"
    }
   ],
   "source": [
    "df_master_index_train = df_master_index_all.loc[df_master_index_all['ENCRYPTED_HOSP_ENCOUNTER'].\\\n",
    "                                                isin(hospenc_id_train['ENCRYPTED_HOSP_ENCOUNTER'])].reset_index()\n",
    "df_master_index_val = df_master_index_all.loc[df_master_index_all['ENCRYPTED_HOSP_ENCOUNTER'].\\\n",
    "                                                isin(hospenc_id_val['ENCRYPTED_HOSP_ENCOUNTER'])].reset_index()\n",
    "df_master_index_test = df_master_index_all.loc[df_master_index_all['ENCRYPTED_HOSP_ENCOUNTER'].\\\n",
    "                                                isin(hospenc_id_test['ENCRYPTED_HOSP_ENCOUNTER'])].reset_index()\n",
    "len(df_master_index_train)+len(df_master_index_val)+len(df_master_index_test)-len(df_master_index_all)"
   ]
  },
  {
   "cell_type": "code",
   "execution_count": 82,
   "id": "0e03d92f-6ba3-4665-9f66-1f493b8e1b35",
   "metadata": {},
   "outputs": [],
   "source": [
    "pickle.dump(df_master_index_all,open('/drives/drive1/home/changyu_yin/Desktop/PSG/PSG_AMIA_NEJM/split_index/df_master_index_all.pkl','wb'))\n",
    "pickle.dump(df_master_index_train,open('/drives/drive1/home/changyu_yin/Desktop/PSG/PSG_AMIA_NEJM/split_index/df_master_index_train.pkl','wb'))\n",
    "pickle.dump(df_master_index_val,open('/drives/drive1/home/changyu_yin/Desktop/PSG/PSG_AMIA_NEJM/split_index/df_master_index_val.pkl','wb'))\n",
    "pickle.dump(df_master_index_test,open('/drives/drive1/home/changyu_yin/Desktop/PSG/PSG_AMIA_NEJM/split_index/df_master_index_test.pkl','wb'))"
   ]
  },
  {
   "cell_type": "code",
   "execution_count": 53,
   "id": "e17a48bf-2b69-4ebd-a915-690f794d4ae7",
   "metadata": {},
   "outputs": [],
   "source": [
    "pickle.dump(df_feats_clinical,open('/drives/drive1/home/changyu_yin/Desktop/PSG/PSG_AMIA_NEJM/feature/df_feats_clinical.pkl','wb'))\n",
    "pickle.dump(df_feats_SurgeryProcess,open('/drives/drive1/home/changyu_yin/Desktop/PSG/PSG_AMIA_NEJM/feature/df_feats_SurgeryProcess.pkl','wb'))"
   ]
  },
  {
   "cell_type": "markdown",
   "id": "d277de57-3d61-46c4-8886-a433b291817c",
   "metadata": {},
   "source": [
    "# Outcome labels"
   ]
  },
  {
   "cell_type": "code",
   "execution_count": 179,
   "id": "ff729365-32e6-4a6e-b100-f04ad5355825",
   "metadata": {},
   "outputs": [
    {
     "data": {
      "text/plain": [
       "(136647, 7)"
      ]
     },
     "execution_count": 179,
     "metadata": {},
     "output_type": "execute_result"
    }
   ],
   "source": [
    "df_master_label = df_master[['ENCRYPTED_HOSP_ENCOUNTER','Surgery_End_Datetime','Dischg Date','Dischg DateTime','Admit DateTime','LOS','LOS in Hours']].drop_duplicates(ignore_index=True)\n",
    "df_master_label['Admit DateTime'] = pd.to_datetime(df_master_label['Admit DateTime'])\n",
    "df_master_label['Dischg Date'] = pd.to_datetime(df_master_label['Dischg Date'])\n",
    "df_master_label['Dischg DateTime'] = pd.to_datetime(df_master_label['Dischg DateTime'])\n",
    "df_master_label.shape"
   ]
  },
  {
   "cell_type": "code",
   "execution_count": 180,
   "id": "28eb5eb2-035c-40c7-83d5-fa86c3819812",
   "metadata": {},
   "outputs": [],
   "source": [
    "df_master_label['Dischg'] = np.where(~df_master_label['Dischg DateTime'].isna(),\n",
    "                                     df_master_label['Dischg DateTime'],\n",
    "                                     np.where(~df_master_label['Dischg Date'].isna(),\n",
    "                                              df_master_label['Dischg Date'],\n",
    "                                                  np.where(~df_master_label['LOS in Hours'].isna(),\n",
    "                                                          df_master_label['Admit DateTime']+pd.to_timedelta(df_master_label['LOS in Hours'],unit='h'),\n",
    "                                                           df_master_label['Admit DateTime']+pd.to_timedelta(df_master_label['LOS'],unit='d')\n",
    "                                                          )\n",
    "                                              )\n",
    "                                        )"
   ]
  },
  {
   "cell_type": "code",
   "execution_count": 181,
   "id": "6a0a7c08-a148-454d-8d66-f6cd9037d41c",
   "metadata": {},
   "outputs": [],
   "source": [
    "df_master_label['LOS_postoperative']= (df_master_label['Dischg'] - df_master_label['Surgery_End_Datetime'])/pd.Timedelta(days=1)"
   ]
  },
  {
   "cell_type": "code",
   "execution_count": 182,
   "id": "9cfb0042-728a-4c62-b705-794e25a14c1e",
   "metadata": {},
   "outputs": [
    {
     "data": {
      "text/plain": [
       "(194, 0.0014197164957884183)"
      ]
     },
     "execution_count": 182,
     "metadata": {},
     "output_type": "execute_result"
    }
   ],
   "source": [
    "np.sum(df_master_label.LOS_postoperative<0),np.mean(df_master_label.LOS_postoperative<0)"
   ]
  },
  {
   "cell_type": "code",
   "execution_count": 183,
   "id": "cfa00512-04f2-4a48-abb2-020191a01a6e",
   "metadata": {},
   "outputs": [],
   "source": [
    "df_master_label_p1 = df_master_label[df_master_label['LOS_postoperative']>=0].reset_index(drop=True)\n",
    "df_master_label_p2 = df_master_label[df_master_label['LOS_postoperative']<0].reset_index(drop=True)"
   ]
  },
  {
   "cell_type": "code",
   "execution_count": 184,
   "id": "6a06407d-1b29-469e-85fe-642b389b2854",
   "metadata": {},
   "outputs": [],
   "source": [
    "df_master_label_p2['Dischg'] = np.where(~df_master_label_p2['LOS in Hours'].isna(),\n",
    "                                     df_master_label_p2['Admit DateTime']+pd.to_timedelta(df_master_label_p2['LOS in Hours'],unit='h'),\n",
    "                                     np.where(~df_master_label_p2['Dischg DateTime'].isna(),\n",
    "                                             df_master_label_p2['Dischg DateTime'],\n",
    "                                             np.where(~df_master_label_p2['Dischg Date'].isna(),\n",
    "                                                      df_master_label_p2['Dischg Date'],\n",
    "                                                      df_master_label_p2['Admit DateTime']+pd.to_timedelta(df_master_label_p2['LOS'],unit='d')\n",
    "                                                     )\n",
    "                                             )\n",
    "                                     \n",
    "                                    )"
   ]
  },
  {
   "cell_type": "code",
   "execution_count": 185,
   "id": "b388a42d-c713-483a-a3e3-e8dc94b8b7de",
   "metadata": {},
   "outputs": [],
   "source": [
    "df_master_label_p2['LOS_postoperative']= (df_master_label_p2['Dischg'] - df_master_label_p2['Surgery_End_Datetime'])/pd.Timedelta(days=1)"
   ]
  },
  {
   "cell_type": "code",
   "execution_count": 186,
   "id": "d2dacbf6-fbbb-4e26-98a2-ba9d1b57f360",
   "metadata": {},
   "outputs": [
    {
     "data": {
      "text/plain": [
       "(188, 0.0013758077381867146)"
      ]
     },
     "execution_count": 186,
     "metadata": {},
     "output_type": "execute_result"
    }
   ],
   "source": [
    "np.sum(df_master_label_p2.LOS_postoperative<0),np.sum(df_master_label_p2.LOS_postoperative<0)/136647"
   ]
  },
  {
   "cell_type": "code",
   "execution_count": 187,
   "id": "d40fc650-f440-4d0e-9cf7-623db709b540",
   "metadata": {},
   "outputs": [
    {
     "data": {
      "text/plain": [
       "<AxesSubplot:>"
      ]
     },
     "execution_count": 187,
     "metadata": {},
     "output_type": "execute_result"
    },
    {
     "data": {
      "image/png": "[encoded data removed]",
      "text/plain": [
       "<Figure size 432x288 with 1 Axes>"
      ]
     },
     "metadata": {
      "needs_background": "light"
     },
     "output_type": "display_data"
    }
   ],
   "source": [
    "df_master_label_p2['LOS_postoperative'].plot(kind='box')"
   ]
  },
  {
   "cell_type": "code",
   "execution_count": 188,
   "id": "4855b33c-213e-4b2f-bad6-39d8420f3bd6",
   "metadata": {},
   "outputs": [
    {
     "data": {
      "text/html": [
       "<div>\n",
       "<style scoped>\n",
       "    .dataframe tbody tr th:only-of-type {\n",
       "        vertical-align: middle;\n",
       "    }\n",
       "\n",
       "    .dataframe tbody tr th {\n",
       "        vertical-align: top;\n",
       "    }\n",
       "\n",
       "    .dataframe thead th {\n",
       "        text-align: right;\n",
       "    }\n",
       "</style>\n",
       "<table border=\"1\" class=\"dataframe\">\n",
       "  <thead>\n",
       "    <tr style=\"text-align: right;\">\n",
       "      <th></th>\n",
       "      <th>Dischg Date</th>\n",
       "      <th>Case Date</th>\n",
       "      <th>Admit DateTime</th>\n",
       "      <th>Dischg DateTime</th>\n",
       "      <th>LOS</th>\n",
       "      <th>LOS in Hours</th>\n",
       "      <th>Room End Datetime</th>\n",
       "    </tr>\n",
       "  </thead>\n",
       "  <tbody>\n",
       "    <tr>\n",
       "      <th>12</th>\n",
       "      <td>2011-01-01</td>\n",
       "      <td>1/2/2011</td>\n",
       "      <td>12/31/2010 23:19</td>\n",
       "      <td>1/1/2011 19:45</td>\n",
       "      <td>0.0</td>\n",
       "      <td>39.333333</td>\n",
       "      <td>2011-01-02 19:09:00</td>\n",
       "    </tr>\n",
       "    <tr>\n",
       "      <th>95</th>\n",
       "      <td>2011-01-05</td>\n",
       "      <td>1/5/2011</td>\n",
       "      <td>1/5/2011 6:05</td>\n",
       "      <td>1/5/2011 8:00</td>\n",
       "      <td>0.0</td>\n",
       "      <td>1.916666</td>\n",
       "      <td>2011-01-05 10:12:00</td>\n",
       "    </tr>\n",
       "    <tr>\n",
       "      <th>184</th>\n",
       "      <td>2011-01-11</td>\n",
       "      <td>1/10/2011</td>\n",
       "      <td>1/11/2011 14:00</td>\n",
       "      <td>1/11/2011 16:58</td>\n",
       "      <td>0.0</td>\n",
       "      <td>2.966666</td>\n",
       "      <td>2011-01-13 14:58:00</td>\n",
       "    </tr>\n",
       "    <tr>\n",
       "      <th>506</th>\n",
       "      <td>2011-01-24</td>\n",
       "      <td>1/24/2011</td>\n",
       "      <td>12/19/2010 20:08</td>\n",
       "      <td>1/24/2011 4:44</td>\n",
       "      <td>0.0</td>\n",
       "      <td>848.600000</td>\n",
       "      <td>2011-01-24 10:46:00</td>\n",
       "    </tr>\n",
       "    <tr>\n",
       "      <th>542</th>\n",
       "      <td>2011-01-26</td>\n",
       "      <td>1/25/2011</td>\n",
       "      <td>1/25/2011 17:13</td>\n",
       "      <td>1/26/2011 2:30</td>\n",
       "      <td>0.0</td>\n",
       "      <td>9.283333</td>\n",
       "      <td>2011-01-26 04:07:00</td>\n",
       "    </tr>\n",
       "    <tr>\n",
       "      <th>1088</th>\n",
       "      <td>2011-02-16</td>\n",
       "      <td>2/17/2011</td>\n",
       "      <td>2/16/2011 9:31</td>\n",
       "      <td>2/16/2011 16:36</td>\n",
       "      <td>0.0</td>\n",
       "      <td>28.583333</td>\n",
       "      <td>2011-02-17 15:23:00</td>\n",
       "    </tr>\n",
       "    <tr>\n",
       "      <th>1162</th>\n",
       "      <td>2011-02-21</td>\n",
       "      <td>2/21/2011</td>\n",
       "      <td>2/21/2011 9:05</td>\n",
       "      <td>2/21/2011 12:06</td>\n",
       "      <td>0.0</td>\n",
       "      <td>3.016666</td>\n",
       "      <td>2011-02-21 15:05:00</td>\n",
       "    </tr>\n",
       "    <tr>\n",
       "      <th>1427</th>\n",
       "      <td>NaT</td>\n",
       "      <td>3/4/2011</td>\n",
       "      <td>3/4/2011 0:00</td>\n",
       "      <td>NaN</td>\n",
       "      <td>0.0</td>\n",
       "      <td>NaN</td>\n",
       "      <td>2011-03-04 11:58:00</td>\n",
       "    </tr>\n",
       "    <tr>\n",
       "      <th>1435</th>\n",
       "      <td>2011-03-04</td>\n",
       "      <td>3/4/2011</td>\n",
       "      <td>3/2/2011 8:40</td>\n",
       "      <td>3/4/2011 2:43</td>\n",
       "      <td>0.0</td>\n",
       "      <td>29.333333</td>\n",
       "      <td>2011-03-04 04:58:00</td>\n",
       "    </tr>\n",
       "    <tr>\n",
       "      <th>1441</th>\n",
       "      <td>2011-03-06</td>\n",
       "      <td>3/4/2011</td>\n",
       "      <td>3/4/2011 2:24</td>\n",
       "      <td>3/6/2011 23:24</td>\n",
       "      <td>0.0</td>\n",
       "      <td>69.000000</td>\n",
       "      <td>2011-03-07 03:57:00</td>\n",
       "    </tr>\n",
       "  </tbody>\n",
       "</table>\n",
       "</div>"
      ],
      "text/plain": [
       "     Dischg Date  Case Date    Admit DateTime  Dischg DateTime  LOS  \\\n",
       "12    2011-01-01   1/2/2011  12/31/2010 23:19   1/1/2011 19:45  0.0   \n",
       "95    2011-01-05   1/5/2011     1/5/2011 6:05    1/5/2011 8:00  0.0   \n",
       "184   2011-01-11  1/10/2011   1/11/2011 14:00  1/11/2011 16:58  0.0   \n",
       "506   2011-01-24  1/24/2011  12/19/2010 20:08   1/24/2011 4:44  0.0   \n",
       "542   2011-01-26  1/25/2011   1/25/2011 17:13   1/26/2011 2:30  0.0   \n",
       "1088  2011-02-16  2/17/2011    2/16/2011 9:31  2/16/2011 16:36  0.0   \n",
       "1162  2011-02-21  2/21/2011    2/21/2011 9:05  2/21/2011 12:06  0.0   \n",
       "1427         NaT   3/4/2011     3/4/2011 0:00              NaN  0.0   \n",
       "1435  2011-03-04   3/4/2011     3/2/2011 8:40    3/4/2011 2:43  0.0   \n",
       "1441  2011-03-06   3/4/2011     3/4/2011 2:24   3/6/2011 23:24  0.0   \n",
       "\n",
       "      LOS in Hours   Room End Datetime  \n",
       "12       39.333333 2011-01-02 19:09:00  \n",
       "95        1.916666 2011-01-05 10:12:00  \n",
       "184       2.966666 2011-01-13 14:58:00  \n",
       "506     848.600000 2011-01-24 10:46:00  \n",
       "542       9.283333 2011-01-26 04:07:00  \n",
       "1088     28.583333 2011-02-17 15:23:00  \n",
       "1162      3.016666 2011-02-21 15:05:00  \n",
       "1427           NaN 2011-03-04 11:58:00  \n",
       "1435     29.333333 2011-03-04 04:58:00  \n",
       "1441     69.000000 2011-03-07 03:57:00  "
      ]
     },
     "execution_count": 188,
     "metadata": {},
     "output_type": "execute_result"
    }
   ],
   "source": [
    "df_master[df_master['ENCRYPTED_HOSP_ENCOUNTER'].isin(df_master_label_p2['ENCRYPTED_HOSP_ENCOUNTER'][0:10])][['Dischg Date','Case Date', 'Admit DateTime', 'Dischg DateTime', 'LOS', 'LOS in Hours','Room End Datetime']]"
   ]
  },
  {
   "cell_type": "code",
   "execution_count": 189,
   "id": "18c04cc6-3abb-484d-8b83-d6ea79e7158a",
   "metadata": {},
   "outputs": [],
   "source": [
    "df_master_label_p2['LOS_postoperative'] = np.where(df_master_label_p2['LOS_postoperative']<0,0,df_master_label_p2['LOS_postoperative'])"
   ]
  },
  {
   "cell_type": "code",
   "execution_count": 190,
   "id": "b0613f00-0328-48a1-93c7-afbe621c1baa",
   "metadata": {},
   "outputs": [
    {
     "data": {
      "text/plain": [
       "(136647, 136647)"
      ]
     },
     "execution_count": 190,
     "metadata": {},
     "output_type": "execute_result"
    }
   ],
   "source": [
    "df_master_label = pd.concat([df_master_label_p1,df_master_label_p2])[['ENCRYPTED_HOSP_ENCOUNTER','LOS_postoperative']].reset_index(drop=True)\n",
    "df_master_label.shape\n",
    "len(df_master_label.ENCRYPTED_HOSP_ENCOUNTER),len(set(df_master_label.ENCRYPTED_HOSP_ENCOUNTER))"
   ]
  },
  {
   "cell_type": "code",
   "execution_count": 191,
   "id": "7edac9d8-c0b5-4ff4-b7ee-4685ebb46731",
   "metadata": {},
   "outputs": [
    {
     "data": {
      "text/plain": [
       "(0.0, 656.2597222222222, 5.1428873047172905, 3.1020833333333333)"
      ]
     },
     "execution_count": 191,
     "metadata": {},
     "output_type": "execute_result"
    }
   ],
   "source": [
    "df_master_label['LOS_postoperative'].min(),df_master_label['LOS_postoperative'].max(),df_master_label['LOS_postoperative'].mean(),df_master_label['LOS_postoperative'].median()"
   ]
  },
  {
   "cell_type": "code",
   "execution_count": 192,
   "id": "0552c398-2e51-4416-8513-c419288093db",
   "metadata": {},
   "outputs": [
    {
     "data": {
      "text/plain": [
       "(6.041666666666667, 10.9375)"
      ]
     },
     "execution_count": 192,
     "metadata": {},
     "output_type": "execute_result"
    }
   ],
   "source": [
    "np.quantile(df_master_label['LOS_postoperative'],0.75),np.quantile(df_master_label['LOS_postoperative'],0.9)"
   ]
  },
  {
   "cell_type": "code",
   "execution_count": 193,
   "id": "bcc5f86a-6c9b-4f07-94ae-956eddfe4b5a",
   "metadata": {},
   "outputs": [],
   "source": [
    "pickle.dump(df_master_label,open('/drives/drive1/home/changyu_yin/Desktop/PSG/PSG_AMIA_NEJM/feature/Outcome_labels.pkl','wb'))"
   ]
  },
  {
   "cell_type": "code",
   "execution_count": null,
   "id": "e5b1bfdf-06e1-4873-b732-9cb6e98642f4",
   "metadata": {},
   "outputs": [],
   "source": []
  },
  {
   "cell_type": "code",
   "execution_count": 6,
   "id": "c4769b04-45bb-480c-b13a-39cc506f9ce3",
   "metadata": {},
   "outputs": [],
   "source": [
    "df_master_label_priorDeath = df_master[['ENCRYPTED_HOSP_ENCOUNTER','IF_died_prior_dischg']].drop_duplicates(ignore_index=True)\n",
    "df_master_label_30dDeath = df_master[['ENCRYPTED_HOSP_ENCOUNTER','IF_died_postsurg30d']].drop_duplicates(ignore_index=True)\n",
    "df_master_label_90dDeath = df_master[['ENCRYPTED_HOSP_ENCOUNTER','IF_died_postsurg90d']].drop_duplicates(ignore_index=True)"
   ]
  },
  {
   "cell_type": "code",
   "execution_count": 8,
   "id": "f467d459-6c72-46e9-978d-7469490c9ef3",
   "metadata": {},
   "outputs": [
    {
     "data": {
      "text/plain": [
       "((136647, 2), (136647, 2), (136647, 2))"
      ]
     },
     "execution_count": 8,
     "metadata": {},
     "output_type": "execute_result"
    }
   ],
   "source": [
    "df_master_label_priorDeath.shape,df_master_label_30dDeath.shape,df_master_label_90dDeath.shape"
   ]
  },
  {
   "cell_type": "code",
   "execution_count": 9,
   "id": "9dc7b9f2-97a9-4fd8-a930-b82d8834d4e1",
   "metadata": {},
   "outputs": [],
   "source": [
    "pickle.dump(df_master_label_priorDeath,open('/drives/drive1/home/changyu_yin/Desktop/PSG/PSG_AMIA_NEJM/feature/Outcome_labels_death_postdischg.pkl','wb'))\n",
    "pickle.dump(df_master_label_30dDeath,open('/drives/drive1/home/changyu_yin/Desktop/PSG/PSG_AMIA_NEJM/feature/Outcome_labels_death_30d.pkl','wb'))\n",
    "pickle.dump(df_master_label_90dDeath,open('/drives/drive1/home/changyu_yin/Desktop/PSG/PSG_AMIA_NEJM/feature/Outcome_labels_death_90d.pkl','wb'))"
   ]
  },
  {
   "cell_type": "code",
   "execution_count": null,
   "id": "f6b7147a-0687-4f89-85ea-f02c5680075c",
   "metadata": {},
   "outputs": [],
   "source": []
  }
 ],
 "metadata": {
  "kernelspec": {
   "display_name": "UFRC Python-3.10",
   "language": "python",
   "name": "python3-3.10-ufrc"
  },
  "language_info": {
   "codemirror_mode": {
    "name": "ipython",
    "version": 3
   },
   "file_extension": ".py",
   "mimetype": "text/x-python",
   "name": "python",
   "nbconvert_exporter": "python",
   "pygments_lexer": "ipython3",
   "version": "3.10.5"
  }
 },
 "nbformat": 4,
 "nbformat_minor": 5
}
