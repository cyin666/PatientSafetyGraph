{
 "cells": [
  {
   "cell_type": "code",
   "execution_count": null,
   "id": "4fc4603d-5f2d-4314-ba7c-b1d092e2b2e3",
   "metadata": {},
   "outputs": [],
   "source": []
  },
  {
   "cell_type": "code",
   "execution_count": 2,
   "id": "bddd8a38-6cb5-4491-a40e-433d64738b5f",
   "metadata": {},
   "outputs": [],
   "source": [
    "import sys\n",
    "sys.path.insert(1, '/drives/drive1/home/changyu_yin/Desktop/PSG/PSG_AMIA_NEJM/codes/')"
   ]
  },
  {
   "cell_type": "code",
   "execution_count": 3,
   "id": "56001a6a-106a-4916-ba1b-5d8263afa2f5",
   "metadata": {},
   "outputs": [],
   "source": [
    "from utilities import *"
   ]
  },
  {
   "cell_type": "code",
   "execution_count": 4,
   "id": "5e9dd3ac-7816-4179-ad6e-f732ecbe3341",
   "metadata": {},
   "outputs": [],
   "source": [
    "import warnings\n",
    "warnings.filterwarnings('ignore')"
   ]
  },
  {
   "cell_type": "code",
   "execution_count": 5,
   "id": "1cc83a12-470a-43b0-a674-04e8800b8fcf",
   "metadata": {},
   "outputs": [],
   "source": [
    "df_master_index_all=pickle.load(open('/drives/drive1/home/changyu_yin/Desktop/PSG/PSG_AMIA_NEJM/split_index/df_master_index_all.pkl','rb'))\n",
    "\n",
    "df_master_index_train=pickle.load(open('/drives/drive1/home/changyu_yin/Desktop/PSG/PSG_AMIA_NEJM/split_index/df_master_index_train.pkl','rb'))\n",
    "df_master_index_val=pickle.load(open('/drives/drive1/home/changyu_yin/Desktop/PSG/PSG_AMIA_NEJM/split_index/df_master_index_val.pkl','rb'))\n",
    "df_master_index_test=pickle.load(open('/drives/drive1/home/changyu_yin/Desktop/PSG/PSG_AMIA_NEJM/split_index/df_master_index_test.pkl','rb'))\n",
    "\n",
    "df_master_index_train_val=pd.concat([df_master_index_train,df_master_index_val])"
   ]
  },
  {
   "cell_type": "code",
   "execution_count": null,
   "id": "bcd3f1d3-21e7-4a76-a0fe-51914d3b843a",
   "metadata": {},
   "outputs": [],
   "source": []
  },
  {
   "cell_type": "code",
   "execution_count": 6,
   "id": "e5f62d7e-3e81-4846-b614-9fc671018181",
   "metadata": {},
   "outputs": [],
   "source": [
    "df_feats_clinical = pickle.load(open('/drives/drive1/home/changyu_yin/Desktop/PSG/PSG_AMIA_NEJM/feature/df_feats_clinical.pkl','rb'))\n",
    "df_feats_icd_transform = pickle.load(open('/drives/drive1/home/changyu_yin/Desktop/PSG/PSG_AMIA_NEJM/feature/df_feats_icd_transform.pkl','rb'))\n",
    "\n",
    "df_icu_graph_features = pickle.load(open('/drives/drive1/home/changyu_yin/Desktop/PSG/PSG_AMIA_NEJM/feature/df_icu_graph_features.pkl','rb'))\n",
    "\n",
    "df_feats_ppg_train_all = pickle.load(open('/drives/drive1/home/changyu_yin/Desktop/PSG/PSG_AMIA_NEJM/feature/df_feats_ppg_train_separate.pkl','rb'))\n",
    "df_feats_ppg_val = pickle.load(open('/drives/drive1/home/changyu_yin/Desktop/PSG/PSG_AMIA_NEJM/feature/df_feats_ppg_val_separate.pkl','rb'))\n",
    "df_feats_ppg_test = pickle.load(open('/drives/drive1/home/changyu_yin/Desktop/PSG/PSG_AMIA_NEJM/feature/df_feats_ppg_test.pkl','rb'))\n",
    "\n",
    "\n",
    "feats_n2v_all_train = pickle.load(open('/drives/drive1/home/changyu_yin/Desktop/PSG/PSG_AMIA_NEJM/feature/feats_n2v_all_train.pkl','rb'))\n",
    "feats_n2v_all_val = pickle.load(open('/drives/drive1/home/changyu_yin/Desktop/PSG/PSG_AMIA_NEJM/feature/feats_n2v_all_val.pkl','rb'))\n",
    "feats_n2v_all_test = pickle.load(open('/drives/drive1/home/changyu_yin/Desktop/PSG/PSG_AMIA_NEJM/feature/feats_n2v_all_test.pkl','rb'))\n",
    "\n",
    "\n",
    "\n",
    "Outcome_labels = pickle.load(open('/drives/drive1/home/changyu_yin/Desktop/PSG/PSG_AMIA_NEJM/feature/Outcome_labels.pkl','rb'))"
   ]
  },
  {
   "cell_type": "code",
   "execution_count": 7,
   "id": "0793c9ff-a321-4401-97d2-1252bf7e8476",
   "metadata": {},
   "outputs": [],
   "source": [
    "df_feats_clinical_icd = pd.merge(df_feats_clinical,\n",
    "                                 df_feats_icd_transform,\n",
    "                                 on='ENCRYPTED_HOSP_ENCOUNTER',\n",
    "                                 how='left')"
   ]
  },
  {
   "cell_type": "code",
   "execution_count": 8,
   "id": "d35a3e4d-3912-4179-b35c-5df3465b41f9",
   "metadata": {},
   "outputs": [
    {
     "data": {
      "text/plain": [
       "0"
      ]
     },
     "execution_count": 8,
     "metadata": {},
     "output_type": "execute_result"
    }
   ],
   "source": [
    "cutoff_y = np.quantile(Outcome_labels['LOS_postoperative'],0.75)\n",
    "cutoff_y\n",
    "Outcome_labels['PLOS'] =  (Outcome_labels['LOS_postoperative']>cutoff_y)*1\n",
    "del Outcome_labels['LOS_postoperative']\n",
    "\n",
    "Outcome_labels_train = Outcome_labels[Outcome_labels['ENCRYPTED_HOSP_ENCOUNTER'].\\\n",
    "                                      isin(df_master_index_train['ENCRYPTED_HOSP_ENCOUNTER'])].\\\n",
    "                        reset_index(drop=True)[['ENCRYPTED_HOSP_ENCOUNTER','PLOS']]\n",
    "\n",
    "Outcome_labels_val = Outcome_labels[Outcome_labels['ENCRYPTED_HOSP_ENCOUNTER'].\\\n",
    "                                      isin(df_master_index_val['ENCRYPTED_HOSP_ENCOUNTER'])].\\\n",
    "                        reset_index(drop=True)[['ENCRYPTED_HOSP_ENCOUNTER','PLOS']]\n",
    "\n",
    "Outcome_labels_test = Outcome_labels[Outcome_labels['ENCRYPTED_HOSP_ENCOUNTER'].\\\n",
    "                                      isin(df_master_index_test['ENCRYPTED_HOSP_ENCOUNTER'])].\\\n",
    "                        reset_index(drop=True)[['ENCRYPTED_HOSP_ENCOUNTER','PLOS']]\n",
    "\n",
    "len(Outcome_labels_train)+len(Outcome_labels_val)+len(Outcome_labels_test)-len(Outcome_labels)"
   ]
  },
  {
   "cell_type": "code",
   "execution_count": 9,
   "id": "2761d59f-f638-4757-bbf8-b0b81ed7ad72",
   "metadata": {},
   "outputs": [
    {
     "data": {
      "text/plain": [
       "0"
      ]
     },
     "execution_count": 9,
     "metadata": {},
     "output_type": "execute_result"
    }
   ],
   "source": [
    "df_icu_graph_features_train = df_icu_graph_features[df_icu_graph_features['ENCRYPTED_HOSP_ENCOUNTER'].\\\n",
    "                                      isin(df_master_index_train['ENCRYPTED_HOSP_ENCOUNTER'])].\\\n",
    "                        reset_index(drop=True)\n",
    "\n",
    "df_icu_graph_features_val = df_icu_graph_features[df_icu_graph_features['ENCRYPTED_HOSP_ENCOUNTER'].\\\n",
    "                                      isin(df_master_index_val['ENCRYPTED_HOSP_ENCOUNTER'])].\\\n",
    "                        reset_index(drop=True)\n",
    "\n",
    "df_icu_graph_features_test = df_icu_graph_features[df_icu_graph_features['ENCRYPTED_HOSP_ENCOUNTER'].\\\n",
    "                                      isin(df_master_index_test['ENCRYPTED_HOSP_ENCOUNTER'])].\\\n",
    "                        reset_index(drop=True)\n",
    "\n",
    "len(df_icu_graph_features_train)+len(df_icu_graph_features_val)+len(df_icu_graph_features_test)-len(df_icu_graph_features)"
   ]
  },
  {
   "cell_type": "code",
   "execution_count": 10,
   "id": "33004b42-685e-4426-9895-aa4f66a3e56c",
   "metadata": {},
   "outputs": [
    {
     "data": {
      "text/plain": [
       "0"
      ]
     },
     "execution_count": 10,
     "metadata": {},
     "output_type": "execute_result"
    }
   ],
   "source": [
    "df_feats_clinical_icd_ppg_icug_train = df_feats_clinical_icd[df_feats_clinical_icd['ENCRYPTED_HOSP_ENCOUNTER'].\\\n",
    "                                      isin(df_master_index_train['ENCRYPTED_HOSP_ENCOUNTER'])].\\\n",
    "                        reset_index(drop=True).\\\n",
    "                        merge(df_feats_ppg_train_all,how='left',on='ENCRYPTED_HOSP_ENCOUNTER').\\\n",
    "                        merge(df_icu_graph_features_train,how='left',on='ENCRYPTED_HOSP_ENCOUNTER').\\\n",
    "            merge(feats_n2v_all_train,how='left',\n",
    "                   on='ENCRYPTED_HOSP_ENCOUNTER')\n",
    "\n",
    "\n",
    "df_feats_clinical_icd_ppg_icug_val = df_feats_clinical_icd[df_feats_clinical_icd['ENCRYPTED_HOSP_ENCOUNTER'].\\\n",
    "                                      isin(df_master_index_val['ENCRYPTED_HOSP_ENCOUNTER'])].\\\n",
    "                        reset_index(drop=True).\\\n",
    "                        merge(df_feats_ppg_val,how='left',on='ENCRYPTED_HOSP_ENCOUNTER').\\\n",
    "                        merge(df_icu_graph_features_val,how='left',on='ENCRYPTED_HOSP_ENCOUNTER').\\\n",
    "            merge(feats_n2v_all_val,how='left',\n",
    "                   on='ENCRYPTED_HOSP_ENCOUNTER')\n",
    "\n",
    "\n",
    "df_feats_clinical_icd_ppg_icug_test = df_feats_clinical_icd[df_feats_clinical_icd['ENCRYPTED_HOSP_ENCOUNTER'].\\\n",
    "                                      isin(df_master_index_test['ENCRYPTED_HOSP_ENCOUNTER'])].\\\n",
    "                        reset_index(drop=True).\\\n",
    "                        merge(df_feats_ppg_test,how='left',on='ENCRYPTED_HOSP_ENCOUNTER').\\\n",
    "                        merge(df_icu_graph_features_test,how='left',on='ENCRYPTED_HOSP_ENCOUNTER').\\\n",
    "            merge(feats_n2v_all_test,how='left',\n",
    "                   on='ENCRYPTED_HOSP_ENCOUNTER')\n",
    "\n",
    "\n",
    "len(df_feats_clinical_icd_ppg_icug_train)+len(df_feats_clinical_icd_ppg_icug_val)+len(df_feats_clinical_icd_ppg_icug_test)-len(df_feats_clinical_icd)"
   ]
  },
  {
   "cell_type": "code",
   "execution_count": 45,
   "id": "bb045eec-dc98-4233-8915-d36fbc60880f",
   "metadata": {},
   "outputs": [],
   "source": [
    "y_train = Outcome_labels_train\n",
    "y_val = Outcome_labels_val\n",
    "y_test = Outcome_labels_test\n",
    "\n",
    "X_train = y_train[['ENCRYPTED_HOSP_ENCOUNTER']].\\\n",
    "            merge(df_feats_clinical_icd_ppg_icug_train,\n",
    "                  how='left',\n",
    "                  on='ENCRYPTED_HOSP_ENCOUNTER').\\\n",
    "            reset_index(drop=True)\n",
    "X_val = y_val[['ENCRYPTED_HOSP_ENCOUNTER']].\\\n",
    "            merge(df_feats_clinical_icd_ppg_icug_val,\n",
    "                  how='left',\n",
    "                  on='ENCRYPTED_HOSP_ENCOUNTER').\\\n",
    "            reset_index(drop=True)\n",
    "\n",
    "X_test = y_test[['ENCRYPTED_HOSP_ENCOUNTER']].\\\n",
    "            merge(df_feats_clinical_icd_ppg_icug_test,\n",
    "                  how='left',\n",
    "                  on='ENCRYPTED_HOSP_ENCOUNTER').\\\n",
    "            reset_index(drop=True)\n",
    "\n",
    "X_train_val = pd.concat([X_train,X_val]).reset_index(drop=True)\n",
    "y_train_val = pd.concat([y_train,y_val]).reset_index(drop=True)"
   ]
  },
  {
   "cell_type": "code",
   "execution_count": 46,
   "id": "473ff644-9a03-4415-abe8-54fbd94a7589",
   "metadata": {},
   "outputs": [
    {
     "data": {
      "text/plain": [
       "((109318, 4503),\n",
       " (13665, 4503),\n",
       " (122983, 4503),\n",
       " (13664, 4503),\n",
       " (109318, 2),\n",
       " (13665, 2),\n",
       " (122983, 2),\n",
       " (13664, 2))"
      ]
     },
     "execution_count": 46,
     "metadata": {},
     "output_type": "execute_result"
    }
   ],
   "source": [
    "X_train.shape,X_val.shape,X_train_val.shape,X_test.shape,y_train.shape,y_val.shape,y_train_val.shape,y_test.shape"
   ]
  },
  {
   "cell_type": "code",
   "execution_count": 47,
   "id": "35d7f21e-aff6-4572-8fcc-11faaa8f9631",
   "metadata": {},
   "outputs": [
    {
     "data": {
      "text/plain": [
       "ENCRYPTED_HOSP_ENCOUNTER    1\n",
       "icd10_transformed_C14       1\n",
       "icd10_transformed_C20       1\n",
       "icd10_transformed_C19       1\n",
       "icd10_transformed_C18       1\n",
       "                           ..\n",
       "CPT 1_35560                 1\n",
       "CPT 1_35563                 1\n",
       "CPT 1_35565                 1\n",
       "CPT 1_35566                 1\n",
       "Node2Vec_127                1\n",
       "Length: 4503, dtype: int64"
      ]
     },
     "execution_count": 47,
     "metadata": {},
     "output_type": "execute_result"
    }
   ],
   "source": [
    "X_train_val.columns.value_counts()"
   ]
  },
  {
   "cell_type": "markdown",
   "id": "d8790383-352e-4b7b-ab9f-b62e60f22644",
   "metadata": {},
   "source": [
    "# Tuning"
   ]
  },
  {
   "cell_type": "code",
   "execution_count": 48,
   "id": "4353000c-77bc-4b80-ba52-c5c630079f61",
   "metadata": {},
   "outputs": [],
   "source": [
    "del sys.modules[\"utilities\"]\n",
    "from utilities import *"
   ]
  },
  {
   "cell_type": "code",
   "execution_count": 49,
   "id": "9a7dd2b2-1918-4859-94f6-d075fe180325",
   "metadata": {},
   "outputs": [],
   "source": [
    "np.random.seed(666)"
   ]
  },
  {
   "cell_type": "code",
   "execution_count": 50,
   "id": "a9e3028c-1014-4170-8960-3c6610b9f332",
   "metadata": {},
   "outputs": [],
   "source": [
    "a = np.zeros(len(X_train))-1 \n",
    "b = np.ones(len(X_val)) \n",
    "pds = PredefinedSplit(np.concatenate([a,b]))"
   ]
  },
  {
   "cell_type": "code",
   "execution_count": 55,
   "id": "c5b7c222-3139-4f86-8b22-b0caebe0b61b",
   "metadata": {},
   "outputs": [],
   "source": [
    "pipe = Pipeline(steps=[\n",
    "                       (\"imputer\", SimpleImputer(missing_values=np.nan, strategy='mean')),\n",
    "                       (\"scaler\", MinMaxScaler()),\n",
    "                       (\"classifier\", MLPClassifier()) #default 3-layer mlp\n",
    "                        ])"
   ]
  },
  {
   "cell_type": "code",
   "execution_count": 56,
   "id": "06e141f5-63da-47d3-b7bb-3c6e4ce664ed",
   "metadata": {},
   "outputs": [],
   "source": [
    "clf = BayesSearchCV(estimator = pipe,\n",
    "                   search_spaces={\n",
    "                    'classifier__alpha':Real(0.0001,0.99,'log-uniform'),\n",
    "                    'classifier__learning_rate': Categorical(['constant','adaptive']),\n",
    "                    'classifier__early_stopping': Categorical([True,False])\n",
    "                   },\n",
    "                   n_iter = 30,\n",
    "                   cv=pds,\n",
    "                   scoring = 'roc_auc',\n",
    "                   n_jobs=32,\n",
    "                   refit=True,\n",
    "                   verbose=4,\n",
    "                   random_state=666\n",
    "                   ) "
   ]
  },
  {
   "cell_type": "code",
   "execution_count": 57,
   "id": "06072b30-1780-4003-b992-7d17abf7f712",
   "metadata": {},
   "outputs": [
    {
     "name": "stdout",
     "output_type": "stream",
     "text": [
      "Fitting 1 folds for each of 1 candidates, totalling 1 fits\n",
      "Fitting 1 folds for each of 1 candidates, totalling 1 fits\n",
      "Fitting 1 folds for each of 1 candidates, totalling 1 fits\n"
     ]
    },
    {
     "name": "stderr",
     "output_type": "stream",
     "text": [
      "/apps/python/3.10/lib/python3.10/site-packages/sklearn/neural_network/_multilayer_perceptron.py:702: ConvergenceWarning: Stochastic Optimizer: Maximum iterations (200) reached and the optimization hasn't converged yet.\n",
      "  warnings.warn(\n"
     ]
    },
    {
     "name": "stdout",
     "output_type": "stream",
     "text": [
      "Fitting 1 folds for each of 1 candidates, totalling 1 fits\n"
     ]
    },
    {
     "name": "stderr",
     "output_type": "stream",
     "text": [
      "/apps/python/3.10/lib/python3.10/site-packages/sklearn/neural_network/_multilayer_perceptron.py:702: ConvergenceWarning: Stochastic Optimizer: Maximum iterations (200) reached and the optimization hasn't converged yet.\n",
      "  warnings.warn(\n"
     ]
    },
    {
     "name": "stdout",
     "output_type": "stream",
     "text": [
      "Fitting 1 folds for each of 1 candidates, totalling 1 fits\n",
      "Fitting 1 folds for each of 1 candidates, totalling 1 fits\n",
      "Fitting 1 folds for each of 1 candidates, totalling 1 fits\n",
      "[CV 1/1] END classifier__alpha=0.02345201889819797, classifier__early_stopping=False, classifier__learning_rate=constant;, score=0.838 total time=161.9min\n",
      "[CV 1/1] END classifier__alpha=0.3290684401395549, classifier__early_stopping=False, classifier__learning_rate=adaptive;, score=0.859 total time=99.9min\n",
      "[CV 1/1] END classifier__alpha=0.00013416540332600142, classifier__early_stopping=False, classifier__learning_rate=constant;, score=0.768 total time=245.5min\n",
      "[CV 1/1] END classifier__alpha=0.00010576858387140112, classifier__early_stopping=False, classifier__learning_rate=adaptive;, score=0.790 total time=249.1min\n",
      "[CV 1/1] END classifier__alpha=0.11592282108997436, classifier__early_stopping=True, classifier__learning_rate=adaptive;, score=0.867 total time= 9.0min\n",
      "[CV 1/1] END classifier__alpha=0.2165021328936652, classifier__early_stopping=True, classifier__learning_rate=adaptive;, score=0.860 total time= 5.0min\n",
      "Fitting 1 folds for each of 1 candidates, totalling 1 fits\n",
      "Fitting 1 folds for each of 1 candidates, totalling 1 fits\n",
      "Fitting 1 folds for each of 1 candidates, totalling 1 fits\n",
      "Fitting 1 folds for each of 1 candidates, totalling 1 fits\n",
      "Fitting 1 folds for each of 1 candidates, totalling 1 fits\n",
      "[CV 1/1] END classifier__alpha=0.037999333430404396, classifier__early_stopping=True, classifier__learning_rate=constant;, score=0.867 total time= 8.0min\n",
      "[CV 1/1] END classifier__alpha=0.011092373519552725, classifier__early_stopping=True, classifier__learning_rate=adaptive;, score=0.867 total time= 6.7min\n",
      "[CV 1/1] END classifier__alpha=0.002294743669883091, classifier__early_stopping=True, classifier__learning_rate=constant;, score=0.864 total time= 6.5min\n",
      "[CV 1/1] END classifier__alpha=0.07514813566541474, classifier__early_stopping=True, classifier__learning_rate=adaptive;, score=0.870 total time= 9.6min\n",
      "[CV 1/1] END classifier__alpha=0.0001, classifier__early_stopping=True, classifier__learning_rate=adaptive;, score=0.860 total time= 4.7min\n",
      "Fitting 1 folds for each of 1 candidates, totalling 1 fits\n",
      "Fitting 1 folds for each of 1 candidates, totalling 1 fits\n",
      "Fitting 1 folds for each of 1 candidates, totalling 1 fits\n",
      "Fitting 1 folds for each of 1 candidates, totalling 1 fits\n",
      "Fitting 1 folds for each of 1 candidates, totalling 1 fits\n",
      "Fitting 1 folds for each of 1 candidates, totalling 1 fits\n",
      "Fitting 1 folds for each of 1 candidates, totalling 1 fits\n",
      "Fitting 1 folds for each of 1 candidates, totalling 1 fits\n",
      "Fitting 1 folds for each of 1 candidates, totalling 1 fits\n",
      "Fitting 1 folds for each of 1 candidates, totalling 1 fits\n",
      "[CV 1/1] END classifier__alpha=0.99, classifier__early_stopping=False, classifier__learning_rate=constant;, score=0.839 total time=56.2min\n",
      "[CV 1/1] END classifier__alpha=0.0001, classifier__early_stopping=True, classifier__learning_rate=constant;, score=0.857 total time= 6.3min\n",
      "[CV 1/1] END classifier__alpha=0.0008305554921283877, classifier__early_stopping=True, classifier__learning_rate=adaptive;, score=0.860 total time= 6.6min\n",
      "[CV 1/1] END classifier__alpha=0.03425311253203526, classifier__early_stopping=True, classifier__learning_rate=adaptive;, score=0.869 total time= 5.5min\n",
      "[CV 1/1] END classifier__alpha=0.039551069014143216, classifier__early_stopping=True, classifier__learning_rate=adaptive;, score=0.869 total time= 5.4min\n",
      "[CV 1/1] END classifier__alpha=0.009722122689371993, classifier__early_stopping=True, classifier__learning_rate=constant;, score=0.858 total time= 8.2min\n",
      "[CV 1/1] END classifier__alpha=0.1535017266017733, classifier__early_stopping=True, classifier__learning_rate=constant;, score=0.865 total time= 7.3min\n",
      "[CV 1/1] END classifier__alpha=0.0033385788409914436, classifier__early_stopping=True, classifier__learning_rate=adaptive;, score=0.862 total time= 6.4min\n",
      "[CV 1/1] END classifier__alpha=0.058627352633377865, classifier__early_stopping=False, classifier__learning_rate=adaptive;, score=0.867 total time=103.1min\n",
      "[CV 1/1] END classifier__alpha=0.0005557629139329671, classifier__early_stopping=True, classifier__learning_rate=constant;, score=0.866 total time= 4.3min\n",
      "Fitting 1 folds for each of 1 candidates, totalling 1 fits\n",
      "Fitting 1 folds for each of 1 candidates, totalling 1 fits\n",
      "Fitting 1 folds for each of 1 candidates, totalling 1 fits\n",
      "Fitting 1 folds for each of 1 candidates, totalling 1 fits\n",
      "Fitting 1 folds for each of 1 candidates, totalling 1 fits\n",
      "Fitting 1 folds for each of 1 candidates, totalling 1 fits\n",
      "[CV 1/1] END classifier__alpha=0.0002540896367440586, classifier__early_stopping=True, classifier__learning_rate=adaptive;, score=0.861 total time= 4.4min\n",
      "Fitting 1 folds for each of 1 candidates, totalling 1 fits\n",
      "Fitting 1 folds for each of 1 candidates, totalling 1 fits\n",
      "[CV 1/1] END classifier__alpha=0.008573192904755162, classifier__early_stopping=False, classifier__learning_rate=adaptive;, score=0.811 total time=237.7min\n",
      "[CV 1/1] END classifier__alpha=0.13231322087658154, classifier__early_stopping=False, classifier__learning_rate=constant;, score=0.869 total time=91.2min\n",
      "[CV 1/1] END classifier__alpha=0.99, classifier__early_stopping=True, classifier__learning_rate=constant;, score=0.838 total time= 6.6min\n",
      "[CV 1/1] END classifier__alpha=0.1171201728243778, classifier__early_stopping=False, classifier__learning_rate=adaptive;, score=0.870 total time=95.1min\n",
      "[CV 1/1] END classifier__alpha=0.07199955742650997, classifier__early_stopping=True, classifier__learning_rate=constant;, score=0.868 total time= 8.7min\n",
      "[CV 1/1] END classifier__alpha=0.09054403458236417, classifier__early_stopping=False, classifier__learning_rate=adaptive;, score=0.870 total time=125.1min\n",
      "[CV 1/1] END classifier__alpha=0.06344519874186283, classifier__early_stopping=True, classifier__learning_rate=adaptive;, score=0.869 total time= 8.6min\n",
      "[CV 1/1] END classifier__alpha=0.2823625132391777, classifier__early_stopping=False, classifier__learning_rate=constant;, score=0.861 total time=79.8min\n"
     ]
    },
    {
     "data": {
      "text/html": [
       "<style>#sk-container-id-1 {color: black;background-color: white;}#sk-container-id-1 pre{padding: 0;}#sk-container-id-1 div.sk-toggleable {background-color: white;}#sk-container-id-1 label.sk-toggleable__label {cursor: pointer;display: block;width: 100%;margin-bottom: 0;padding: 0.3em;box-sizing: border-box;text-align: center;}#sk-container-id-1 label.sk-toggleable__label-arrow:before {content: \"▸\";float: left;margin-right: 0.25em;color: #696969;}#sk-container-id-1 label.sk-toggleable__label-arrow:hover:before {color: black;}#sk-container-id-1 div.sk-estimator:hover label.sk-toggleable__label-arrow:before {color: black;}#sk-container-id-1 div.sk-toggleable__content {max-height: 0;max-width: 0;overflow: hidden;text-align: left;background-color: #f0f8ff;}#sk-container-id-1 div.sk-toggleable__content pre {margin: 0.2em;color: black;border-radius: 0.25em;background-color: #f0f8ff;}#sk-container-id-1 input.sk-toggleable__control:checked~div.sk-toggleable__content {max-height: 200px;max-width: 100%;overflow: auto;}#sk-container-id-1 input.sk-toggleable__control:checked~label.sk-toggleable__label-arrow:before {content: \"▾\";}#sk-container-id-1 div.sk-estimator input.sk-toggleable__control:checked~label.sk-toggleable__label {background-color: #d4ebff;}#sk-container-id-1 div.sk-label input.sk-toggleable__control:checked~label.sk-toggleable__label {background-color: #d4ebff;}#sk-container-id-1 input.sk-hidden--visually {border: 0;clip: rect(1px 1px 1px 1px);clip: rect(1px, 1px, 1px, 1px);height: 1px;margin: -1px;overflow: hidden;padding: 0;position: absolute;width: 1px;}#sk-container-id-1 div.sk-estimator {font-family: monospace;background-color: #f0f8ff;border: 1px dotted black;border-radius: 0.25em;box-sizing: border-box;margin-bottom: 0.5em;}#sk-container-id-1 div.sk-estimator:hover {background-color: #d4ebff;}#sk-container-id-1 div.sk-parallel-item::after {content: \"\";width: 100%;border-bottom: 1px solid gray;flex-grow: 1;}#sk-container-id-1 div.sk-label:hover label.sk-toggleable__label {background-color: #d4ebff;}#sk-container-id-1 div.sk-serial::before {content: \"\";position: absolute;border-left: 1px solid gray;box-sizing: border-box;top: 0;bottom: 0;left: 50%;z-index: 0;}#sk-container-id-1 div.sk-serial {display: flex;flex-direction: column;align-items: center;background-color: white;padding-right: 0.2em;padding-left: 0.2em;position: relative;}#sk-container-id-1 div.sk-item {position: relative;z-index: 1;}#sk-container-id-1 div.sk-parallel {display: flex;align-items: stretch;justify-content: center;background-color: white;position: relative;}#sk-container-id-1 div.sk-item::before, #sk-container-id-1 div.sk-parallel-item::before {content: \"\";position: absolute;border-left: 1px solid gray;box-sizing: border-box;top: 0;bottom: 0;left: 50%;z-index: -1;}#sk-container-id-1 div.sk-parallel-item {display: flex;flex-direction: column;z-index: 1;position: relative;background-color: white;}#sk-container-id-1 div.sk-parallel-item:first-child::after {align-self: flex-end;width: 50%;}#sk-container-id-1 div.sk-parallel-item:last-child::after {align-self: flex-start;width: 50%;}#sk-container-id-1 div.sk-parallel-item:only-child::after {width: 0;}#sk-container-id-1 div.sk-dashed-wrapped {border: 1px dashed gray;margin: 0 0.4em 0.5em 0.4em;box-sizing: border-box;padding-bottom: 0.4em;background-color: white;}#sk-container-id-1 div.sk-label label {font-family: monospace;font-weight: bold;display: inline-block;line-height: 1.2em;}#sk-container-id-1 div.sk-label-container {text-align: center;}#sk-container-id-1 div.sk-container {/* jupyter's `normalize.less` sets `[hidden] { display: none; }` but bootstrap.min.css set `[hidden] { display: none !important; }` so we also need the `!important` here to be able to override the default hidden behavior on the sphinx rendered scikit-learn.org. See: https://github.com/scikit-learn/scikit-learn/issues/21755 */display: inline-block !important;position: relative;}#sk-container-id-1 div.sk-text-repr-fallback {display: none;}</style><div id=\"sk-container-id-1\" class=\"sk-top-container\"><div class=\"sk-text-repr-fallback\"><pre>BayesSearchCV(cv=PredefinedSplit(test_fold=array([-1, -1, ...,  1,  1])),\n",
       "              estimator=Pipeline(steps=[(&#x27;imputer&#x27;, SimpleImputer()),\n",
       "                                        (&#x27;scaler&#x27;, MinMaxScaler()),\n",
       "                                        (&#x27;classifier&#x27;, MLPClassifier())]),\n",
       "              n_iter=30, n_jobs=32, random_state=666, scoring=&#x27;roc_auc&#x27;,\n",
       "              search_spaces={&#x27;classifier__alpha&#x27;: Real(low=0.0001, high=0.99, prior=&#x27;log-uniform&#x27;, transform=&#x27;normalize&#x27;),\n",
       "                             &#x27;classifier__early_stopping&#x27;: Categorical(categories=(True, False), prior=None),\n",
       "                             &#x27;classifier__learning_rate&#x27;: Categorical(categories=(&#x27;constant&#x27;, &#x27;adaptive&#x27;), prior=None)},\n",
       "              verbose=4)</pre><b>In a Jupyter environment, please rerun this cell to show the HTML representation or trust the notebook. <br />On GitHub, the HTML representation is unable to render, please try loading this page with nbviewer.org.</b></div><div class=\"sk-container\" hidden><div class=\"sk-item sk-dashed-wrapped\"><div class=\"sk-label-container\"><div class=\"sk-label sk-toggleable\"><input class=\"sk-toggleable__control sk-hidden--visually\" id=\"sk-estimator-id-1\" type=\"checkbox\" ><label for=\"sk-estimator-id-1\" class=\"sk-toggleable__label sk-toggleable__label-arrow\">BayesSearchCV</label><div class=\"sk-toggleable__content\"><pre>BayesSearchCV(cv=PredefinedSplit(test_fold=array([-1, -1, ...,  1,  1])),\n",
       "              estimator=Pipeline(steps=[(&#x27;imputer&#x27;, SimpleImputer()),\n",
       "                                        (&#x27;scaler&#x27;, MinMaxScaler()),\n",
       "                                        (&#x27;classifier&#x27;, MLPClassifier())]),\n",
       "              n_iter=30, n_jobs=32, random_state=666, scoring=&#x27;roc_auc&#x27;,\n",
       "              search_spaces={&#x27;classifier__alpha&#x27;: Real(low=0.0001, high=0.99, prior=&#x27;log-uniform&#x27;, transform=&#x27;normalize&#x27;),\n",
       "                             &#x27;classifier__early_stopping&#x27;: Categorical(categories=(True, False), prior=None),\n",
       "                             &#x27;classifier__learning_rate&#x27;: Categorical(categories=(&#x27;constant&#x27;, &#x27;adaptive&#x27;), prior=None)},\n",
       "              verbose=4)</pre></div></div></div><div class=\"sk-parallel\"><div class=\"sk-parallel-item\"><div class=\"sk-item\"><div class=\"sk-label-container\"><div class=\"sk-label sk-toggleable\"><input class=\"sk-toggleable__control sk-hidden--visually\" id=\"sk-estimator-id-2\" type=\"checkbox\" ><label for=\"sk-estimator-id-2\" class=\"sk-toggleable__label sk-toggleable__label-arrow\">estimator: Pipeline</label><div class=\"sk-toggleable__content\"><pre>Pipeline(steps=[(&#x27;imputer&#x27;, SimpleImputer()), (&#x27;scaler&#x27;, MinMaxScaler()),\n",
       "                (&#x27;classifier&#x27;, MLPClassifier())])</pre></div></div></div><div class=\"sk-serial\"><div class=\"sk-item\"><div class=\"sk-serial\"><div class=\"sk-item\"><div class=\"sk-estimator sk-toggleable\"><input class=\"sk-toggleable__control sk-hidden--visually\" id=\"sk-estimator-id-3\" type=\"checkbox\" ><label for=\"sk-estimator-id-3\" class=\"sk-toggleable__label sk-toggleable__label-arrow\">SimpleImputer</label><div class=\"sk-toggleable__content\"><pre>SimpleImputer()</pre></div></div></div><div class=\"sk-item\"><div class=\"sk-estimator sk-toggleable\"><input class=\"sk-toggleable__control sk-hidden--visually\" id=\"sk-estimator-id-4\" type=\"checkbox\" ><label for=\"sk-estimator-id-4\" class=\"sk-toggleable__label sk-toggleable__label-arrow\">MinMaxScaler</label><div class=\"sk-toggleable__content\"><pre>MinMaxScaler()</pre></div></div></div><div class=\"sk-item\"><div class=\"sk-estimator sk-toggleable\"><input class=\"sk-toggleable__control sk-hidden--visually\" id=\"sk-estimator-id-5\" type=\"checkbox\" ><label for=\"sk-estimator-id-5\" class=\"sk-toggleable__label sk-toggleable__label-arrow\">MLPClassifier</label><div class=\"sk-toggleable__content\"><pre>MLPClassifier()</pre></div></div></div></div></div></div></div></div></div></div></div></div>"
      ],
      "text/plain": [
       "BayesSearchCV(cv=PredefinedSplit(test_fold=array([-1, -1, ...,  1,  1])),\n",
       "              estimator=Pipeline(steps=[('imputer', SimpleImputer()),\n",
       "                                        ('scaler', MinMaxScaler()),\n",
       "                                        ('classifier', MLPClassifier())]),\n",
       "              n_iter=30, n_jobs=32, random_state=666, scoring='roc_auc',\n",
       "              search_spaces={'classifier__alpha': Real(low=0.0001, high=0.99, prior='log-uniform', transform='normalize'),\n",
       "                             'classifier__early_stopping': Categorical(categories=(True, False), prior=None),\n",
       "                             'classifier__learning_rate': Categorical(categories=('constant', 'adaptive'), prior=None)},\n",
       "              verbose=4)"
      ]
     },
     "execution_count": 57,
     "metadata": {},
     "output_type": "execute_result"
    }
   ],
   "source": [
    "clf.fit(X_train_val.iloc[:,1:],y_train_val.iloc[:,1:].values.ravel())"
   ]
  },
  {
   "cell_type": "code",
   "execution_count": 58,
   "id": "a6ae1e69-1fe4-49ee-abc8-225f781a6b02",
   "metadata": {},
   "outputs": [
    {
     "name": "stdout",
     "output_type": "stream",
     "text": [
      "OrderedDict([('classifier__alpha', 0.07514813566541474), ('classifier__early_stopping', True), ('classifier__learning_rate', 'adaptive')])\n",
      "0.00031794923415536403 0.8905875714785064\n",
      "Best Validation AUROC: 0.8702279137894956\n",
      "Test AUROC: 0.8494431819130376\n",
      "Test F1-score: 0.5669217554271435\n",
      "Test Recall: 0.4601926977687627\n",
      "Test Precision: 0.7381049206994713\n",
      "Test Accuracy: 0.797057962529274\n"
     ]
    }
   ],
   "source": [
    "print(clf.best_params_)\n",
    "best_m = clf.best_estimator_\n",
    "pred = best_m.predict(X_test.iloc[:,1:])\n",
    "pred_prob = best_m.predict_proba(X_test.iloc[:,1:])[:,1]\n",
    "print(min(pred_prob),max(pred_prob))\n",
    "\n",
    "print('Best Validation AUROC: {}'.format(clf.best_score_))\n",
    "\n",
    "print('Test AUROC: {}'.format(roc_auc_score(y_test.iloc[:,1:], pred_prob)))\n",
    "print('Test F1-score: {}'.format(f1_score(y_test.iloc[:,1:], pred)))\n",
    "print('Test Recall: {}'.format(recall_score(y_test.iloc[:,1:], pred)))\n",
    "print('Test Precision: {}'.format(precision_score(y_test.iloc[:,1:], pred)))\n",
    "print('Test Accuracy: {}'.format(accuracy_score(y_test.iloc[:,1:], pred)))"
   ]
  },
  {
   "cell_type": "code",
   "execution_count": null,
   "id": "23554a87-ee95-41af-aa92-51efd5016975",
   "metadata": {},
   "outputs": [],
   "source": []
  },
  {
   "cell_type": "code",
   "execution_count": null,
   "id": "273dd017-7c80-4596-ad1c-8cacc360b817",
   "metadata": {},
   "outputs": [],
   "source": [
    "#experiment_baseline(X_train, X_val, y_train, y_val, seeds=[2023])"
   ]
  },
  {
   "cell_type": "code",
   "execution_count": null,
   "id": "b3d90097-7796-401f-88c5-f735b1855aa5",
   "metadata": {},
   "outputs": [],
   "source": [
    "#experiment_baseline(X_train_val, X_test, y_train_val, y_test, seeds=[2023])"
   ]
  },
  {
   "cell_type": "code",
   "execution_count": null,
   "id": "42bfbe6e-c84b-4442-b96a-9b80adf4de74",
   "metadata": {},
   "outputs": [],
   "source": []
  }
 ],
 "metadata": {
  "kernelspec": {
   "display_name": "UFRC Python-3.10",
   "language": "python",
   "name": "python3-3.10-ufrc"
  },
  "language_info": {
   "codemirror_mode": {
    "name": "ipython",
    "version": 3
   },
   "file_extension": ".py",
   "mimetype": "text/x-python",
   "name": "python",
   "nbconvert_exporter": "python",
   "pygments_lexer": "ipython3",
   "version": "3.10.5"
  }
 },
 "nbformat": 4,
 "nbformat_minor": 5
}
