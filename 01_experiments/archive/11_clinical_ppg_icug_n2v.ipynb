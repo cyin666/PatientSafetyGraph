{
 "cells": [
  {
   "cell_type": "code",
   "execution_count": null,
   "id": "4fc4603d-5f2d-4314-ba7c-b1d092e2b2e3",
   "metadata": {},
   "outputs": [],
   "source": []
  },
  {
   "cell_type": "code",
   "execution_count": 1,
   "id": "bddd8a38-6cb5-4491-a40e-433d64738b5f",
   "metadata": {},
   "outputs": [],
   "source": [
    "import sys\n",
    "sys.path.insert(1, '/drives/drive1/home/changyu_yin/Desktop/PSG/PSG_AMIA_NEJM/codes/')"
   ]
  },
  {
   "cell_type": "code",
   "execution_count": 2,
   "id": "56001a6a-106a-4916-ba1b-5d8263afa2f5",
   "metadata": {},
   "outputs": [],
   "source": [
    "#del sys.modules[\"utilities\"]\n",
    "from utilities import *"
   ]
  },
  {
   "cell_type": "code",
   "execution_count": 3,
   "id": "5e9dd3ac-7816-4179-ad6e-f732ecbe3341",
   "metadata": {},
   "outputs": [],
   "source": [
    "import warnings\n",
    "warnings.filterwarnings('ignore')"
   ]
  },
  {
   "cell_type": "code",
   "execution_count": 4,
   "id": "1cc83a12-470a-43b0-a674-04e8800b8fcf",
   "metadata": {},
   "outputs": [],
   "source": [
    "df_master_index_all=pickle.load(open('/drives/drive1/home/changyu_yin/Desktop/PSG/PSG_AMIA_NEJM/split_index/df_master_index_all.pkl','rb'))\n",
    "\n",
    "df_master_index_train=pickle.load(open('/drives/drive1/home/changyu_yin/Desktop/PSG/PSG_AMIA_NEJM/split_index/df_master_index_train.pkl','rb'))\n",
    "df_master_index_val=pickle.load(open('/drives/drive1/home/changyu_yin/Desktop/PSG/PSG_AMIA_NEJM/split_index/df_master_index_val.pkl','rb'))\n",
    "df_master_index_test=pickle.load(open('/drives/drive1/home/changyu_yin/Desktop/PSG/PSG_AMIA_NEJM/split_index/df_master_index_test.pkl','rb'))\n",
    "\n",
    "df_master_index_train_val=pd.concat([df_master_index_train,df_master_index_val])"
   ]
  },
  {
   "cell_type": "code",
   "execution_count": null,
   "id": "bcd3f1d3-21e7-4a76-a0fe-51914d3b843a",
   "metadata": {},
   "outputs": [],
   "source": []
  },
  {
   "cell_type": "code",
   "execution_count": 5,
   "id": "e5f62d7e-3e81-4846-b614-9fc671018181",
   "metadata": {},
   "outputs": [],
   "source": [
    "df_feats_clinical = pickle.load(open('/drives/drive1/home/changyu_yin/Desktop/PSG/PSG_AMIA_NEJM/feature/df_feats_clinical.pkl','rb'))\n",
    "\n",
    "df_icu_graph_features = pickle.load(open('/drives/drive1/home/changyu_yin/Desktop/PSG/PSG_AMIA_NEJM/feature/df_icu_graph_features.pkl','rb'))\n",
    "\n",
    "df_feats_ppg_train_all = pickle.load(open('/drives/drive1/home/changyu_yin/Desktop/PSG/PSG_AMIA_NEJM/feature/df_feats_ppg_train_separate.pkl','rb'))\n",
    "df_feats_ppg_val = pickle.load(open('/drives/drive1/home/changyu_yin/Desktop/PSG/PSG_AMIA_NEJM/feature/df_feats_ppg_val_separate.pkl','rb'))\n",
    "df_feats_ppg_test = pickle.load(open('/drives/drive1/home/changyu_yin/Desktop/PSG/PSG_AMIA_NEJM/feature/df_feats_ppg_test.pkl','rb'))\n",
    "\n",
    "\n",
    "feats_n2v_all_train = pickle.load(open('/drives/drive1/home/changyu_yin/Desktop/PSG/PSG_AMIA_NEJM/feature/feats_n2v_all_train.pkl','rb'))\n",
    "feats_n2v_all_val = pickle.load(open('/drives/drive1/home/changyu_yin/Desktop/PSG/PSG_AMIA_NEJM/feature/feats_n2v_all_val.pkl','rb'))\n",
    "feats_n2v_all_test = pickle.load(open('/drives/drive1/home/changyu_yin/Desktop/PSG/PSG_AMIA_NEJM/feature/feats_n2v_all_test.pkl','rb'))\n",
    "\n",
    "\n",
    "\n",
    "Outcome_labels = pickle.load(open('/drives/drive1/home/changyu_yin/Desktop/PSG/PSG_AMIA_NEJM/feature/Outcome_labels.pkl','rb'))"
   ]
  },
  {
   "cell_type": "code",
   "execution_count": 6,
   "id": "d35a3e4d-3912-4179-b35c-5df3465b41f9",
   "metadata": {},
   "outputs": [
    {
     "data": {
      "text/plain": [
       "0"
      ]
     },
     "execution_count": 6,
     "metadata": {},
     "output_type": "execute_result"
    }
   ],
   "source": [
    "cutoff_y = np.quantile(Outcome_labels['LOS_postoperative'],0.75)\n",
    "cutoff_y\n",
    "Outcome_labels['PLOS'] =  (Outcome_labels['LOS_postoperative']>cutoff_y)*1\n",
    "del Outcome_labels['LOS_postoperative']\n",
    "\n",
    "Outcome_labels_train = Outcome_labels[Outcome_labels['ENCRYPTED_HOSP_ENCOUNTER'].\\\n",
    "                                      isin(df_master_index_train['ENCRYPTED_HOSP_ENCOUNTER'])].\\\n",
    "                        reset_index(drop=True)[['ENCRYPTED_HOSP_ENCOUNTER','PLOS']]\n",
    "\n",
    "Outcome_labels_val = Outcome_labels[Outcome_labels['ENCRYPTED_HOSP_ENCOUNTER'].\\\n",
    "                                      isin(df_master_index_val['ENCRYPTED_HOSP_ENCOUNTER'])].\\\n",
    "                        reset_index(drop=True)[['ENCRYPTED_HOSP_ENCOUNTER','PLOS']]\n",
    "\n",
    "Outcome_labels_test = Outcome_labels[Outcome_labels['ENCRYPTED_HOSP_ENCOUNTER'].\\\n",
    "                                      isin(df_master_index_test['ENCRYPTED_HOSP_ENCOUNTER'])].\\\n",
    "                        reset_index(drop=True)[['ENCRYPTED_HOSP_ENCOUNTER','PLOS']]\n",
    "\n",
    "len(Outcome_labels_train)+len(Outcome_labels_val)+len(Outcome_labels_test)-len(Outcome_labels)"
   ]
  },
  {
   "cell_type": "code",
   "execution_count": 7,
   "id": "2761d59f-f638-4757-bbf8-b0b81ed7ad72",
   "metadata": {},
   "outputs": [
    {
     "data": {
      "text/plain": [
       "0"
      ]
     },
     "execution_count": 7,
     "metadata": {},
     "output_type": "execute_result"
    }
   ],
   "source": [
    "df_icu_graph_features_train = df_icu_graph_features[df_icu_graph_features['ENCRYPTED_HOSP_ENCOUNTER'].\\\n",
    "                                      isin(df_master_index_train['ENCRYPTED_HOSP_ENCOUNTER'])].\\\n",
    "                        reset_index(drop=True)\n",
    "\n",
    "df_icu_graph_features_val = df_icu_graph_features[df_icu_graph_features['ENCRYPTED_HOSP_ENCOUNTER'].\\\n",
    "                                      isin(df_master_index_val['ENCRYPTED_HOSP_ENCOUNTER'])].\\\n",
    "                        reset_index(drop=True)\n",
    "\n",
    "df_icu_graph_features_test = df_icu_graph_features[df_icu_graph_features['ENCRYPTED_HOSP_ENCOUNTER'].\\\n",
    "                                      isin(df_master_index_test['ENCRYPTED_HOSP_ENCOUNTER'])].\\\n",
    "                        reset_index(drop=True)\n",
    "\n",
    "len(df_icu_graph_features_train)+len(df_icu_graph_features_val)+len(df_icu_graph_features_test)-len(df_icu_graph_features)"
   ]
  },
  {
   "cell_type": "code",
   "execution_count": 8,
   "id": "33004b42-685e-4426-9895-aa4f66a3e56c",
   "metadata": {},
   "outputs": [
    {
     "data": {
      "text/plain": [
       "0"
      ]
     },
     "execution_count": 8,
     "metadata": {},
     "output_type": "execute_result"
    }
   ],
   "source": [
    "df_feats_clinical_ppg_icug_train = df_feats_clinical[df_feats_clinical['ENCRYPTED_HOSP_ENCOUNTER'].\\\n",
    "                                      isin(df_master_index_train['ENCRYPTED_HOSP_ENCOUNTER'])].\\\n",
    "                        reset_index(drop=True).\\\n",
    "                        merge(df_feats_ppg_train_all,how='left',on='ENCRYPTED_HOSP_ENCOUNTER').\\\n",
    "                        merge(df_icu_graph_features_train,how='left',on='ENCRYPTED_HOSP_ENCOUNTER').\\\n",
    "            merge(feats_n2v_all_train,how='left',\n",
    "                   on='ENCRYPTED_HOSP_ENCOUNTER')\n",
    "\n",
    "\n",
    "df_feats_clinical_ppg_icug_val = df_feats_clinical[df_feats_clinical['ENCRYPTED_HOSP_ENCOUNTER'].\\\n",
    "                                      isin(df_master_index_val['ENCRYPTED_HOSP_ENCOUNTER'])].\\\n",
    "                        reset_index(drop=True).\\\n",
    "                        merge(df_feats_ppg_val,how='left',on='ENCRYPTED_HOSP_ENCOUNTER').\\\n",
    "                        merge(df_icu_graph_features_val,how='left',on='ENCRYPTED_HOSP_ENCOUNTER').\\\n",
    "            merge(feats_n2v_all_val,how='left',\n",
    "                   on='ENCRYPTED_HOSP_ENCOUNTER')\n",
    "\n",
    "\n",
    "df_feats_clinical_ppg_icug_test = df_feats_clinical[df_feats_clinical['ENCRYPTED_HOSP_ENCOUNTER'].\\\n",
    "                                      isin(df_master_index_test['ENCRYPTED_HOSP_ENCOUNTER'])].\\\n",
    "                        reset_index(drop=True).\\\n",
    "                        merge(df_feats_ppg_test,how='left',on='ENCRYPTED_HOSP_ENCOUNTER').\\\n",
    "                        merge(df_icu_graph_features_test,how='left',on='ENCRYPTED_HOSP_ENCOUNTER').\\\n",
    "            merge(feats_n2v_all_test,how='left',\n",
    "                   on='ENCRYPTED_HOSP_ENCOUNTER')\n",
    "\n",
    "\n",
    "len(df_feats_clinical_ppg_icug_train)+len(df_feats_clinical_ppg_icug_val)+len(df_feats_clinical_ppg_icug_test)-len(df_feats_clinical)"
   ]
  },
  {
   "cell_type": "code",
   "execution_count": 9,
   "id": "bb045eec-dc98-4233-8915-d36fbc60880f",
   "metadata": {},
   "outputs": [],
   "source": [
    "X_train = df_feats_clinical_ppg_icug_train\n",
    "X_val = df_feats_clinical_ppg_icug_val\n",
    "X_test = df_feats_clinical_ppg_icug_test\n",
    "\n",
    "y_train = Outcome_labels_train\n",
    "y_val = Outcome_labels_val\n",
    "y_test = Outcome_labels_test"
   ]
  },
  {
   "cell_type": "code",
   "execution_count": null,
   "id": "01aa1b40-9be2-42aa-a78f-5c4e0674032e",
   "metadata": {},
   "outputs": [],
   "source": []
  },
  {
   "cell_type": "code",
   "execution_count": 10,
   "id": "6c5c300c-1b6d-48ba-9726-a2e0219a5089",
   "metadata": {},
   "outputs": [],
   "source": [
    "X_train_val = pd.concat([X_train,X_val])\n",
    "y_train_val = pd.concat([y_train,y_val])"
   ]
  },
  {
   "cell_type": "code",
   "execution_count": 11,
   "id": "473ff644-9a03-4415-abe8-54fbd94a7589",
   "metadata": {},
   "outputs": [
    {
     "data": {
      "text/plain": [
       "((109318, 3086),\n",
       " (13665, 3086),\n",
       " (122983, 3086),\n",
       " (13664, 3086),\n",
       " (109318, 2),\n",
       " (13665, 2),\n",
       " (122983, 2),\n",
       " (13664, 2))"
      ]
     },
     "execution_count": 11,
     "metadata": {},
     "output_type": "execute_result"
    }
   ],
   "source": [
    "X_train.shape,X_val.shape,X_train_val.shape,X_test.shape,y_train.shape,y_val.shape,y_train_val.shape,y_test.shape"
   ]
  },
  {
   "cell_type": "code",
   "execution_count": 12,
   "id": "273dd017-7c80-4596-ad1c-8cacc360b817",
   "metadata": {},
   "outputs": [],
   "source": [
    "#experiment_baseline(X_train, X_val, y_train, y_val, seeds=[2023])"
   ]
  },
  {
   "cell_type": "code",
   "execution_count": 13,
   "id": "027bce2f-da88-4494-ad67-431e46ba881f",
   "metadata": {},
   "outputs": [],
   "source": [
    "del sys.modules[\"utilities\"]\n",
    "from utilities import *"
   ]
  },
  {
   "cell_type": "code",
   "execution_count": 14,
   "id": "b3d90097-7796-401f-88c5-f735b1855aa5",
   "metadata": {},
   "outputs": [
    {
     "name": "stderr",
     "output_type": "stream",
     "text": [
      "100%|███████████████████████████████████████| 1/1 [11:40:08<00:00, 42008.85s/it]\n"
     ]
    },
    {
     "name": "stdout",
     "output_type": "stream",
     "text": [
      "====================================================\n",
      "A. Scores on training set\n",
      "avg XGBoost classifer: auc/  0.9167  F1:  0.6778  precision:  0.809  recall:  0.5832  accuracy:  0.8638\n",
      "std XGBoost classifer: auc/  0.0  F1:  0.0  precision:  0.0  recall:  0.0  accuracy:  0.0\n",
      "avg MLP classifer: auc/  0.8116  F1:  0.4799  precision:  0.6762  recall:  0.3719  accuracy:  0.802\n",
      "std MLP classifer: auc/  0.0  F1:  0.0  precision:  0.0  recall:  0.0  accuracy:  0.0\n",
      "avg logistic classifer: auc/  0.851  F1:  0.6223  precision:  0.5254  recall:  0.763  accuracy:  0.7724\n",
      "std logistic classifer: auc/  0.0  F1:  0.0  precision:  0.0  recall:  0.0  accuracy:  0.0\n",
      "****************************************************\n",
      "\n",
      "B. Scores on test set\n",
      "avg XGBoost classifer: auc/  0.8438  F1:  0.5591  precision:  0.7227  recall:  0.4559  accuracy:  0.7924\n",
      "std XGBoost classifer: auc/  0.0  F1:  0.0  precision:  0.0  recall:  0.0  accuracy:  0.0\n",
      "avg MLP classifer: auc/  0.7705  F1:  0.375  precision:  0.7451  recall:  0.2505  accuracy:  0.7589\n",
      "std MLP classifer: auc/  0.0  F1:  0.0  precision:  0.0  recall:  0.0  accuracy:  0.0\n",
      "avg logistic classifer: auc/  0.8418  F1:  0.6517  precision:  0.5897  recall:  0.7282  accuracy:  0.7753\n",
      "std logistic classifer: auc/  0.0  F1:  0.0  precision:  0.0  recall:  0.0  accuracy:  0.0\n",
      "====================================================\n",
      "\n"
     ]
    }
   ],
   "source": [
    "experiment_baseline(X_train_val, X_test, y_train_val, y_test, seeds=[666])"
   ]
  },
  {
   "cell_type": "code",
   "execution_count": null,
   "id": "42bfbe6e-c84b-4442-b96a-9b80adf4de74",
   "metadata": {},
   "outputs": [],
   "source": []
  }
 ],
 "metadata": {
  "kernelspec": {
   "display_name": "UFRC Python-3.10",
   "language": "python",
   "name": "python3-3.10-ufrc"
  },
  "language_info": {
   "codemirror_mode": {
    "name": "ipython",
    "version": 3
   },
   "file_extension": ".py",
   "mimetype": "text/x-python",
   "name": "python",
   "nbconvert_exporter": "python",
   "pygments_lexer": "ipython3",
   "version": "3.10.5"
  }
 },
 "nbformat": 4,
 "nbformat_minor": 5
}
