{
 "cells": [
  {
   "cell_type": "code",
   "execution_count": 1,
   "id": "3cbf7305-0b1b-4648-896f-6e8e8bf82ad5",
   "metadata": {},
   "outputs": [],
   "source": [
    "import sys\n",
    "sys.path.insert(1, '/drives/drive1/home/changyu_yin/Desktop/PSG/PSG_AMIA_NEJM/codes/')"
   ]
  },
  {
   "cell_type": "code",
   "execution_count": 2,
   "id": "fdbbb99d-2f7f-4c22-bb9b-09d7c80923fa",
   "metadata": {},
   "outputs": [],
   "source": [
    "#del sys.modules[\"utilities\"]\n",
    "from utilities import *"
   ]
  },
  {
   "cell_type": "code",
   "execution_count": 3,
   "id": "378a95e0-3686-43da-92e9-7578a211047e",
   "metadata": {},
   "outputs": [],
   "source": [
    "import warnings\n",
    "warnings.filterwarnings('ignore')"
   ]
  },
  {
   "cell_type": "code",
   "execution_count": 4,
   "id": "3eddba2f-1927-41c4-9dac-6053d5138568",
   "metadata": {},
   "outputs": [],
   "source": [
    "df_master_index_all=pickle.load(open('/drives/drive1/home/changyu_yin/Desktop/PSG/PSG_AMIA_NEJM/split_index/df_master_index_all.pkl','rb'))\n",
    "\n",
    "df_master_index_train=pickle.load(open('/drives/drive1/home/changyu_yin/Desktop/PSG/PSG_AMIA_NEJM/split_index/df_master_index_train.pkl','rb'))\n",
    "df_master_index_val=pickle.load(open('/drives/drive1/home/changyu_yin/Desktop/PSG/PSG_AMIA_NEJM/split_index/df_master_index_val.pkl','rb'))\n",
    "df_master_index_test=pickle.load(open('/drives/drive1/home/changyu_yin/Desktop/PSG/PSG_AMIA_NEJM/split_index/df_master_index_test.pkl','rb'))\n",
    "\n",
    "df_master_index_train_val=pd.concat([df_master_index_train,df_master_index_val])"
   ]
  },
  {
   "cell_type": "code",
   "execution_count": null,
   "id": "6e2f5292-ff80-40c9-9d87-507aff5a0ec9",
   "metadata": {},
   "outputs": [],
   "source": []
  },
  {
   "cell_type": "code",
   "execution_count": 5,
   "id": "3578bdbb-03ec-4e1c-abee-cead9c7638a5",
   "metadata": {},
   "outputs": [],
   "source": [
    "df_feats_surgeryprocess = pickle.load(open('/drives/drive1/home/changyu_yin/Desktop/PSG/PSG_AMIA_NEJM/feature/df_feats_SurgeryProcess.pkl','rb'))\n",
    "df_feats_clinical = pickle.load(open('/drives/drive1/home/changyu_yin/Desktop/PSG/PSG_AMIA_NEJM/feature/df_feats_clinical.pkl','rb'))\n",
    "df_feats_icd_transform = pickle.load(open('/drives/drive1/home/changyu_yin/Desktop/PSG/PSG_AMIA_NEJM/feature/df_feats_icd_transform.pkl','rb'))\n",
    "df_preor_ICULOS = pickle.load(open('/drives/drive1/home/changyu_yin/Desktop/PSG/PSG_AMIA_NEJM/feature/df_preor_ICULOS.pkl','rb'))\n",
    "df_feats_delirium = pickle.load(open('/drives/drive1/home/changyu_yin/Desktop/PSG/PSG_AMIA_NEJM/feature/df_feats_delirium.pkl','rb'))\n",
    "\n",
    "df_icu_graph_features = pickle.load(open('/drives/drive1/home/changyu_yin/Desktop/PSG/PSG_AMIA_NEJM/feature/df_icu_graph_features.pkl','rb'))\n",
    "\n",
    "Outcome_labels = pickle.load(open('/drives/drive1/home/changyu_yin/Desktop/PSG/PSG_AMIA_NEJM/feature/Outcome_labels.pkl','rb'))"
   ]
  },
  {
   "cell_type": "code",
   "execution_count": 6,
   "id": "da1e1de6-299a-4c37-b7d0-e86922f7de1e",
   "metadata": {},
   "outputs": [
    {
     "data": {
      "text/plain": [
       "0"
      ]
     },
     "execution_count": 6,
     "metadata": {},
     "output_type": "execute_result"
    }
   ],
   "source": [
    "cutoff_y = np.quantile(Outcome_labels['LOS_postoperative'],0.75)\n",
    "cutoff_y\n",
    "Outcome_labels['PLOS'] =  (Outcome_labels['LOS_postoperative']>cutoff_y)*1\n",
    "del Outcome_labels['LOS_postoperative']\n",
    "\n",
    "Outcome_labels_train = Outcome_labels[Outcome_labels['ENCRYPTED_HOSP_ENCOUNTER'].\\\n",
    "                                      isin(df_master_index_train['ENCRYPTED_HOSP_ENCOUNTER'])].\\\n",
    "                        reset_index(drop=True)[['ENCRYPTED_HOSP_ENCOUNTER','PLOS']]\n",
    "\n",
    "Outcome_labels_val = Outcome_labels[Outcome_labels['ENCRYPTED_HOSP_ENCOUNTER'].\\\n",
    "                                      isin(df_master_index_val['ENCRYPTED_HOSP_ENCOUNTER'])].\\\n",
    "                        reset_index(drop=True)[['ENCRYPTED_HOSP_ENCOUNTER','PLOS']]\n",
    "\n",
    "Outcome_labels_test = Outcome_labels[Outcome_labels['ENCRYPTED_HOSP_ENCOUNTER'].\\\n",
    "                                      isin(df_master_index_test['ENCRYPTED_HOSP_ENCOUNTER'])].\\\n",
    "                        reset_index(drop=True)[['ENCRYPTED_HOSP_ENCOUNTER','PLOS']]\n",
    "\n",
    "len(Outcome_labels_train)+len(Outcome_labels_val)+len(Outcome_labels_test)-len(Outcome_labels)"
   ]
  },
  {
   "cell_type": "code",
   "execution_count": 7,
   "id": "3968a9ba-9ed6-4879-94c8-7c3156084238",
   "metadata": {},
   "outputs": [],
   "source": [
    "df_feats_generalclinical_process_icug = df_feats_clinical.merge(df_feats_icd_transform,\n",
    "                                 on='ENCRYPTED_HOSP_ENCOUNTER',\n",
    "                                 how='left').merge(df_preor_ICULOS,\n",
    "                                 on='ENCRYPTED_HOSP_ENCOUNTER',\n",
    "                                 how='left').merge(df_feats_delirium,\n",
    "                                 on='ENCRYPTED_HOSP_ENCOUNTER',\n",
    "                                 how='left').merge(df_feats_surgeryprocess,\n",
    "                                 on='ENCRYPTED_HOSP_ENCOUNTER',\n",
    "                                 how='left').merge(df_icu_graph_features,\n",
    "                                 on='ENCRYPTED_HOSP_ENCOUNTER',\n",
    "                                 how='left')"
   ]
  },
  {
   "cell_type": "code",
   "execution_count": 8,
   "id": "5873b1bc-e4e7-431a-be8b-e504e157e853",
   "metadata": {},
   "outputs": [
    {
     "data": {
      "text/plain": [
       "0"
      ]
     },
     "execution_count": 8,
     "metadata": {},
     "output_type": "execute_result"
    }
   ],
   "source": [
    "df_feats_generalclinical_process_icug_train = df_feats_generalclinical_process_icug[df_feats_generalclinical_process_icug['ENCRYPTED_HOSP_ENCOUNTER'].\\\n",
    "                                      isin(df_master_index_train['ENCRYPTED_HOSP_ENCOUNTER'])].\\\n",
    "                        reset_index(drop=True)\n",
    "\n",
    "df_feats_generalclinical_process_icug_val = df_feats_generalclinical_process_icug[df_feats_generalclinical_process_icug['ENCRYPTED_HOSP_ENCOUNTER'].\\\n",
    "                                      isin(df_master_index_val['ENCRYPTED_HOSP_ENCOUNTER'])].\\\n",
    "                        reset_index(drop=True)\n",
    "\n",
    "df_feats_generalclinical_process_icug_test = df_feats_generalclinical_process_icug[df_feats_generalclinical_process_icug['ENCRYPTED_HOSP_ENCOUNTER'].\\\n",
    "                                      isin(df_master_index_test['ENCRYPTED_HOSP_ENCOUNTER'])].\\\n",
    "                        reset_index(drop=True)\n",
    "\n",
    "len(df_feats_generalclinical_process_icug_train)+len(df_feats_generalclinical_process_icug_val)+len(df_feats_generalclinical_process_icug_test)-len(df_feats_generalclinical_process_icug)"
   ]
  },
  {
   "cell_type": "code",
   "execution_count": 9,
   "id": "2f6bf565-4860-4b10-8f60-1f5ce91f56c7",
   "metadata": {},
   "outputs": [],
   "source": [
    "X_train = df_feats_generalclinical_process_icug_train\n",
    "X_val = df_feats_generalclinical_process_icug_val\n",
    "X_test = df_feats_generalclinical_process_icug_test\n",
    "\n",
    "y_train = Outcome_labels_train\n",
    "y_val = Outcome_labels_val\n",
    "y_test = Outcome_labels_test"
   ]
  },
  {
   "cell_type": "code",
   "execution_count": null,
   "id": "a474ae3f-1d7c-40a3-8705-7f1729230893",
   "metadata": {},
   "outputs": [],
   "source": []
  },
  {
   "cell_type": "code",
   "execution_count": 10,
   "id": "2e41cf34-e529-4048-852d-f444a3fdcae0",
   "metadata": {},
   "outputs": [],
   "source": [
    "X_train_val = pd.concat([X_train,X_val])\n",
    "y_train_val = pd.concat([y_train,y_val])"
   ]
  },
  {
   "cell_type": "code",
   "execution_count": 11,
   "id": "f820dc29-d88d-4b87-bf81-2d31f4d99c08",
   "metadata": {},
   "outputs": [
    {
     "data": {
      "text/plain": [
       "((109318, 4336),\n",
       " (13665, 4336),\n",
       " (122983, 4336),\n",
       " (13664, 4336),\n",
       " (109318, 2),\n",
       " (13665, 2),\n",
       " (122983, 2),\n",
       " (13664, 2))"
      ]
     },
     "execution_count": 11,
     "metadata": {},
     "output_type": "execute_result"
    }
   ],
   "source": [
    "X_train.shape,X_val.shape,X_train_val.shape,X_test.shape,y_train.shape,y_val.shape,y_train_val.shape,y_test.shape"
   ]
  },
  {
   "cell_type": "code",
   "execution_count": 12,
   "id": "d1c49116-e999-4355-aeb0-1132c7423a3d",
   "metadata": {},
   "outputs": [],
   "source": [
    "#experiment_baseline(X_train, X_val, y_train, y_val, seeds=[2023])"
   ]
  },
  {
   "cell_type": "code",
   "execution_count": 13,
   "id": "0e7548e8-98bc-40f1-b7ec-d967177dd298",
   "metadata": {},
   "outputs": [],
   "source": [
    "del sys.modules[\"utilities\"]\n",
    "from utilities import *"
   ]
  },
  {
   "cell_type": "code",
   "execution_count": 14,
   "id": "163b22eb-5cb1-4846-9397-d98e062b4e85",
   "metadata": {},
   "outputs": [
    {
     "name": "stderr",
     "output_type": "stream",
     "text": [
      "100%|██████████████████████████████████████| 1/1 [31:12:56<00:00, 112376.18s/it]\n"
     ]
    },
    {
     "name": "stdout",
     "output_type": "stream",
     "text": [
      "====================================================\n",
      "A. Scores on training set\n",
      "avg XGBoost classifer: auc/  0.98  F1:  0.861  precision:  0.8555  recall:  0.8665  accuracy:  0.9313\n",
      "std XGBoost classifer: auc/  0.0  F1:  0.0  precision:  0.0  recall:  0.0  accuracy:  0.0\n",
      "avg MLP classifer: auc/  0.9622  F1:  0.8067  precision:  0.784  recall:  0.8308  accuracy:  0.9022\n",
      "std MLP classifer: auc/  0.0  F1:  0.0  precision:  0.0  recall:  0.0  accuracy:  0.0\n",
      "avg logistic classifer: auc/  0.9314  F1:  0.756  precision:  0.6836  recall:  0.8456  accuracy:  0.8659\n",
      "std logistic classifer: auc/  0.0  F1:  0.0  precision:  0.0  recall:  0.0  accuracy:  0.0\n",
      "****************************************************\n",
      "\n",
      "B. Scores on test set\n",
      "avg XGBoost classifer: auc/  0.9735  F1:  0.8571  precision:  0.862  recall:  0.8522  accuracy:  0.918\n",
      "std XGBoost classifer: auc/  0.0  F1:  0.0  precision:  0.0  recall:  0.0  accuracy:  0.0\n",
      "avg MLP classifer: auc/  0.9684  F1:  0.8524  precision:  0.847  recall:  0.8578  accuracy:  0.9142\n",
      "std MLP classifer: auc/  0.0  F1:  0.0  precision:  0.0  recall:  0.0  accuracy:  0.0\n",
      "avg logistic classifer: auc/  0.9102  F1:  0.7504  precision:  0.6922  recall:  0.8192  accuracy:  0.8426\n",
      "std logistic classifer: auc/  0.0  F1:  0.0  precision:  0.0  recall:  0.0  accuracy:  0.0\n",
      "====================================================\n",
      "\n"
     ]
    }
   ],
   "source": [
    "experiment_baseline(X_train_val, X_test, y_train_val, y_test, seeds=[666])"
   ]
  },
  {
   "cell_type": "markdown",
   "id": "4d6aba2d-5ff6-4f90-b6e1-7642f6376fa2",
   "metadata": {},
   "source": [
    "# "
   ]
  }
 ],
 "metadata": {
  "kernelspec": {
   "display_name": "UFRC Python-3.10",
   "language": "python",
   "name": "python3-3.10-ufrc"
  },
  "language_info": {
   "codemirror_mode": {
    "name": "ipython",
    "version": 3
   },
   "file_extension": ".py",
   "mimetype": "text/x-python",
   "name": "python",
   "nbconvert_exporter": "python",
   "pygments_lexer": "ipython3",
   "version": "3.10.5"
  }
 },
 "nbformat": 4,
 "nbformat_minor": 5
}
