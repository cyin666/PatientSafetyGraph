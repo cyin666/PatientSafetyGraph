{
 "cells": [
  {
   "cell_type": "code",
   "execution_count": 1,
   "id": "0a4f2b4a-7cce-49f5-82b5-190f94a7b60f",
   "metadata": {},
   "outputs": [],
   "source": [
    "import sys\n",
    "sys.path.insert(1, '/drives/drive1/home/changyu_yin/Desktop/PSG/PSG_AMIA_NEJM/codes/')"
   ]
  },
  {
   "cell_type": "code",
   "execution_count": 2,
   "id": "612c994e-a11c-4aec-82a6-a2cb0b6c6d80",
   "metadata": {},
   "outputs": [],
   "source": [
    "#del sys.modules[\"utilities\"]\n",
    "from utilities import *"
   ]
  },
  {
   "cell_type": "code",
   "execution_count": 3,
   "id": "2303a961-04cf-4078-9166-8098918a69f0",
   "metadata": {},
   "outputs": [],
   "source": [
    "import warnings\n",
    "warnings.filterwarnings('ignore')"
   ]
  },
  {
   "cell_type": "code",
   "execution_count": 4,
   "id": "48904db1-5f38-4894-b7a7-4bc5365a4097",
   "metadata": {},
   "outputs": [],
   "source": [
    "df_master_index_all=pickle.load(open('/drives/drive1/home/changyu_yin/Desktop/PSG/PSG_AMIA_NEJM/split_index/df_master_index_all.pkl','rb'))\n",
    "\n",
    "df_master_index_train=pickle.load(open('/drives/drive1/home/changyu_yin/Desktop/PSG/PSG_AMIA_NEJM/split_index/df_master_index_train.pkl','rb'))\n",
    "df_master_index_val=pickle.load(open('/drives/drive1/home/changyu_yin/Desktop/PSG/PSG_AMIA_NEJM/split_index/df_master_index_val.pkl','rb'))\n",
    "df_master_index_test=pickle.load(open('/drives/drive1/home/changyu_yin/Desktop/PSG/PSG_AMIA_NEJM/split_index/df_master_index_test.pkl','rb'))\n",
    "\n",
    "df_master_index_train_val=pd.concat([df_master_index_train,df_master_index_val])"
   ]
  },
  {
   "cell_type": "code",
   "execution_count": null,
   "id": "8423417a-4c59-4243-a784-609f2b8c1068",
   "metadata": {},
   "outputs": [],
   "source": []
  },
  {
   "cell_type": "code",
   "execution_count": 5,
   "id": "687c6af1-c4bf-4b6d-bd44-41a3f66246dc",
   "metadata": {},
   "outputs": [],
   "source": [
    "df_feats_surgeryprocess = pickle.load(open('/drives/drive1/home/changyu_yin/Desktop/PSG/PSG_AMIA_NEJM/feature/df_feats_SurgeryProcess.pkl','rb'))\n",
    "Outcome_labels = pickle.load(open('/drives/drive1/home/changyu_yin/Desktop/PSG/PSG_AMIA_NEJM/feature/Outcome_labels_death_30d.pkl','rb'))"
   ]
  },
  {
   "cell_type": "code",
   "execution_count": 6,
   "id": "28729b72-151d-49de-a397-98d637650789",
   "metadata": {},
   "outputs": [
    {
     "data": {
      "text/plain": [
       "0"
      ]
     },
     "execution_count": 6,
     "metadata": {},
     "output_type": "execute_result"
    }
   ],
   "source": [
    "Outcome_labels_train = Outcome_labels[Outcome_labels['ENCRYPTED_HOSP_ENCOUNTER'].\\\n",
    "                                      isin(df_master_index_train['ENCRYPTED_HOSP_ENCOUNTER'])].\\\n",
    "                        reset_index(drop=True)[['ENCRYPTED_HOSP_ENCOUNTER','IF_died_postsurg30d']]\n",
    "\n",
    "Outcome_labels_val = Outcome_labels[Outcome_labels['ENCRYPTED_HOSP_ENCOUNTER'].\\\n",
    "                                      isin(df_master_index_val['ENCRYPTED_HOSP_ENCOUNTER'])].\\\n",
    "                        reset_index(drop=True)[['ENCRYPTED_HOSP_ENCOUNTER','IF_died_postsurg30d']]\n",
    "\n",
    "Outcome_labels_test = Outcome_labels[Outcome_labels['ENCRYPTED_HOSP_ENCOUNTER'].\\\n",
    "                                      isin(df_master_index_test['ENCRYPTED_HOSP_ENCOUNTER'])].\\\n",
    "                        reset_index(drop=True)[['ENCRYPTED_HOSP_ENCOUNTER','IF_died_postsurg30d']]\n",
    "\n",
    "len(Outcome_labels_train)+len(Outcome_labels_val)+len(Outcome_labels_test)-len(Outcome_labels)"
   ]
  },
  {
   "cell_type": "code",
   "execution_count": 7,
   "id": "ae4e3949-90fd-4e62-9436-d62f6a1575e4",
   "metadata": {},
   "outputs": [
    {
     "data": {
      "text/plain": [
       "0"
      ]
     },
     "execution_count": 7,
     "metadata": {},
     "output_type": "execute_result"
    }
   ],
   "source": [
    "df_feats_surgeryprocess_train = df_feats_surgeryprocess[df_feats_surgeryprocess['ENCRYPTED_HOSP_ENCOUNTER'].\\\n",
    "                                      isin(df_master_index_train['ENCRYPTED_HOSP_ENCOUNTER'])].\\\n",
    "                        reset_index(drop=True)\n",
    "\n",
    "df_feats_surgeryprocess_val = df_feats_surgeryprocess[df_feats_surgeryprocess['ENCRYPTED_HOSP_ENCOUNTER'].\\\n",
    "                                      isin(df_master_index_val['ENCRYPTED_HOSP_ENCOUNTER'])].\\\n",
    "                        reset_index(drop=True)\n",
    "\n",
    "df_feats_surgeryprocess_test = df_feats_surgeryprocess[df_feats_surgeryprocess['ENCRYPTED_HOSP_ENCOUNTER'].\\\n",
    "                                      isin(df_master_index_test['ENCRYPTED_HOSP_ENCOUNTER'])].\\\n",
    "                        reset_index(drop=True)\n",
    "\n",
    "len(df_feats_surgeryprocess_train)+len(df_feats_surgeryprocess_val)+len(df_feats_surgeryprocess_test)-len(df_feats_surgeryprocess)"
   ]
  },
  {
   "cell_type": "code",
   "execution_count": 8,
   "id": "52b0c42f-2fda-4feb-bbc5-f4618746d445",
   "metadata": {},
   "outputs": [],
   "source": [
    "X_train = df_feats_surgeryprocess_train\n",
    "X_val = df_feats_surgeryprocess_val\n",
    "X_train_val = pd.concat([X_train,X_val])\n",
    "X_test = df_feats_surgeryprocess_test\n",
    "\n",
    "y_train = Outcome_labels_train\n",
    "y_val = Outcome_labels_val\n",
    "y_train_val = pd.concat([y_train,y_val])\n",
    "y_test = Outcome_labels_test"
   ]
  },
  {
   "cell_type": "code",
   "execution_count": 9,
   "id": "bb27ad18-977a-4d86-b446-ab0c36676019",
   "metadata": {},
   "outputs": [
    {
     "data": {
      "text/plain": [
       "((109318, 27),\n",
       " (13665, 27),\n",
       " (122983, 27),\n",
       " (13664, 27),\n",
       " (109318, 2),\n",
       " (13665, 2),\n",
       " (122983, 2),\n",
       " (13664, 2))"
      ]
     },
     "execution_count": 9,
     "metadata": {},
     "output_type": "execute_result"
    }
   ],
   "source": [
    "X_train.shape,X_val.shape,X_train_val.shape,X_test.shape,y_train.shape,y_val.shape,y_train_val.shape,y_test.shape"
   ]
  },
  {
   "cell_type": "code",
   "execution_count": 10,
   "id": "3a753f29-a1c4-4438-b9dd-eb1bf8881589",
   "metadata": {},
   "outputs": [],
   "source": [
    "#experiment_baseline(X_train, X_val, y_train, y_val, seeds=[2023])"
   ]
  },
  {
   "cell_type": "code",
   "execution_count": 11,
   "id": "c897ded0-8d7a-4477-90a3-b717e0df41b2",
   "metadata": {},
   "outputs": [],
   "source": [
    "del sys.modules[\"utilities\"]\n",
    "from utilities import *"
   ]
  },
  {
   "cell_type": "code",
   "execution_count": 12,
   "id": "b12a287d-555b-461f-954b-fe264a6ce0a3",
   "metadata": {},
   "outputs": [],
   "source": [
    "del df_feats_surgeryprocess\n",
    "del Outcome_labels \n",
    "del df_feats_surgeryprocess_train \n",
    "del df_feats_surgeryprocess_val \n",
    "del df_feats_surgeryprocess_test \n",
    "del Outcome_labels_train \n",
    "del Outcome_labels_val \n",
    "del Outcome_labels_test "
   ]
  },
  {
   "cell_type": "code",
   "execution_count": 13,
   "id": "b4a2680b-16ba-427a-8f35-8cd86bb2ba1d",
   "metadata": {},
   "outputs": [
    {
     "name": "stderr",
     "output_type": "stream",
     "text": [
      "100%|███████████████████████████████████████| 1/1 [17:15:58<00:00, 62158.32s/it]"
     ]
    },
    {
     "name": "stdout",
     "output_type": "stream",
     "text": [
      "====================================================\n",
      "A. Scores on training set\n",
      "avg XGBoost classifer: auc/  0.9674  F1:  0.6204  precision:  1.0  recall:  0.4497  accuracy:  0.9828\n",
      "std XGBoost classifer: auc/  0.0  F1:  0.0  precision:  0.0  recall:  0.0  accuracy:  0.0\n",
      "avg MLP classifer: auc/  0.6728  F1:  0.022  precision:  0.6515  recall:  0.0112  accuracy:  0.969\n",
      "std MLP classifer: auc/  0.0  F1:  0.0  precision:  0.0  recall:  0.0  accuracy:  0.0\n",
      "avg logistic classifer: auc/  0.6624  F1:  0.0052  precision:  0.1887  recall:  0.0026  accuracy:  0.9686\n",
      "std logistic classifer: auc/  0.0  F1:  0.0  precision:  0.0  recall:  0.0  accuracy:  0.0\n",
      "****************************************************\n",
      "\n",
      "B. Scores on test set\n",
      "avg XGBoost classifer: auc/  0.6786  F1:  0.0321  precision:  0.5714  recall:  0.0165  accuracy:  0.9646\n",
      "std XGBoost classifer: auc/  0.0  F1:  0.0  precision:  0.0  recall:  0.0  accuracy:  0.0\n",
      "avg MLP classifer: auc/  0.6748  F1:  0.0162  precision:  0.4  recall:  0.0082  accuracy:  0.9644\n",
      "std MLP classifer: auc/  0.0  F1:  0.0  precision:  0.0  recall:  0.0  accuracy:  0.0\n",
      "avg logistic classifer: auc/  0.6823  F1:  0.0162  precision:  0.4444  recall:  0.0082  accuracy:  0.9644\n",
      "std logistic classifer: auc/  0.0  F1:  0.0  precision:  0.0  recall:  0.0  accuracy:  0.0\n",
      "====================================================\n",
      "\n"
     ]
    },
    {
     "name": "stderr",
     "output_type": "stream",
     "text": [
      "\n"
     ]
    }
   ],
   "source": [
    "experiment_baseline(X_train_val, \n",
    "                    X_test, \n",
    "                    y_train_val, \n",
    "                    y_test, \n",
    "                    seeds=[666],\n",
    "                    xgb_colsample_bytree=0.5, \n",
    "                    xgb_learning_rate=0.07088334267195551,\n",
    "                    xgb_max_depth=15,\n",
    "                    xgb_n_estimators=600,\n",
    "                    xgb_subsample=1.0,\n",
    "                    mlp_early_stopping=False,\n",
    "                    mlp_learning_rate='constant',\n",
    "                    mlp_alpha=0.09129107203199723,\n",
    "                    lr_max_iter=500,\n",
    "                    lr_solver='newton-cg',\n",
    "                    lr_C=0.11585850349716907,\n",
    "                    lr_class_weight=None)"
   ]
  },
  {
   "cell_type": "code",
   "execution_count": null,
   "id": "0cdc9202-8c65-4775-9e6b-8f039503107b",
   "metadata": {},
   "outputs": [],
   "source": []
  }
 ],
 "metadata": {
  "kernelspec": {
   "display_name": "UFRC Python-3.10",
   "language": "python",
   "name": "python3-3.10-ufrc"
  },
  "language_info": {
   "codemirror_mode": {
    "name": "ipython",
    "version": 3
   },
   "file_extension": ".py",
   "mimetype": "text/x-python",
   "name": "python",
   "nbconvert_exporter": "python",
   "pygments_lexer": "ipython3",
   "version": "3.10.5"
  }
 },
 "nbformat": 4,
 "nbformat_minor": 5
}
