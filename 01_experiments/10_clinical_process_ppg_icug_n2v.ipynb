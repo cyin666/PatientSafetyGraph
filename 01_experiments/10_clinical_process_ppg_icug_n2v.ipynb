{
 "cells": [
  {
   "cell_type": "code",
   "execution_count": 1,
   "id": "bddd8a38-6cb5-4491-a40e-433d64738b5f",
   "metadata": {},
   "outputs": [],
   "source": [
    "import sys\n",
    "sys.path.insert(1, '/drives/drive1/home/changyu_yin/Desktop/PSG/PSG_AMIA_NEJM/codes/')"
   ]
  },
  {
   "cell_type": "code",
   "execution_count": 2,
   "id": "56001a6a-106a-4916-ba1b-5d8263afa2f5",
   "metadata": {},
   "outputs": [],
   "source": [
    "#del sys.modules[\"utilities\"]\n",
    "from utilities import *"
   ]
  },
  {
   "cell_type": "code",
   "execution_count": 3,
   "id": "5e9dd3ac-7816-4179-ad6e-f732ecbe3341",
   "metadata": {},
   "outputs": [],
   "source": [
    "import warnings\n",
    "warnings.filterwarnings('ignore')"
   ]
  },
  {
   "cell_type": "code",
   "execution_count": 4,
   "id": "1cc83a12-470a-43b0-a674-04e8800b8fcf",
   "metadata": {},
   "outputs": [],
   "source": [
    "df_master_index_all=pickle.load(open('/drives/drive1/home/changyu_yin/Desktop/PSG/PSG_AMIA_NEJM/split_index/df_master_index_all.pkl','rb'))\n",
    "\n",
    "df_master_index_train=pickle.load(open('/drives/drive1/home/changyu_yin/Desktop/PSG/PSG_AMIA_NEJM/split_index/df_master_index_train.pkl','rb'))\n",
    "df_master_index_val=pickle.load(open('/drives/drive1/home/changyu_yin/Desktop/PSG/PSG_AMIA_NEJM/split_index/df_master_index_val.pkl','rb'))\n",
    "df_master_index_test=pickle.load(open('/drives/drive1/home/changyu_yin/Desktop/PSG/PSG_AMIA_NEJM/split_index/df_master_index_test.pkl','rb'))\n",
    "\n",
    "df_master_index_train_val=pd.concat([df_master_index_train,df_master_index_val])"
   ]
  },
  {
   "cell_type": "code",
   "execution_count": null,
   "id": "bcd3f1d3-21e7-4a76-a0fe-51914d3b843a",
   "metadata": {},
   "outputs": [],
   "source": []
  },
  {
   "cell_type": "code",
   "execution_count": 5,
   "id": "e5f62d7e-3e81-4846-b614-9fc671018181",
   "metadata": {},
   "outputs": [],
   "source": [
    "df_feats_surgeryprocess = pickle.load(open('/drives/drive1/home/changyu_yin/Desktop/PSG/PSG_AMIA_NEJM/feature/df_feats_SurgeryProcess.pkl','rb'))\n",
    "df_feats_clinical = pickle.load(open('/drives/drive1/home/changyu_yin/Desktop/PSG/PSG_AMIA_NEJM/feature/df_feats_clinical.pkl','rb'))\n",
    "df_feats_icd_transform = pickle.load(open('/drives/drive1/home/changyu_yin/Desktop/PSG/PSG_AMIA_NEJM/feature/df_feats_icd_transform.pkl','rb'))\n",
    "df_preor_ICULOS = pickle.load(open('/drives/drive1/home/changyu_yin/Desktop/PSG/PSG_AMIA_NEJM/feature/df_preor_ICULOS.pkl','rb'))\n",
    "df_feats_delirium = pickle.load(open('/drives/drive1/home/changyu_yin/Desktop/PSG/PSG_AMIA_NEJM/feature/df_feats_delirium.pkl','rb'))\n",
    "\n",
    "df_icu_graph_features = pickle.load(open('/drives/drive1/home/changyu_yin/Desktop/PSG/PSG_AMIA_NEJM/feature/df_icu_graph_features.pkl','rb'))\n",
    "\n",
    "df_feats_ppg_train_all = pickle.load(open('/drives/drive1/home/changyu_yin/Desktop/PSG/PSG_AMIA_NEJM/feature/df_feats_ppg_train_separate.pkl','rb'))\n",
    "df_feats_ppg_val = pickle.load(open('/drives/drive1/home/changyu_yin/Desktop/PSG/PSG_AMIA_NEJM/feature/df_feats_ppg_val_separate.pkl','rb'))\n",
    "df_feats_ppg_test = pickle.load(open('/drives/drive1/home/changyu_yin/Desktop/PSG/PSG_AMIA_NEJM/feature/df_feats_ppg_test.pkl','rb'))\n",
    "\n",
    "\n",
    "feats_n2v_all_train = pickle.load(open('/drives/drive1/home/changyu_yin/Desktop/PSG/PSG_AMIA_NEJM/feature/feats_n2v_all_train.pkl','rb'))\n",
    "feats_n2v_all_val = pickle.load(open('/drives/drive1/home/changyu_yin/Desktop/PSG/PSG_AMIA_NEJM/feature/feats_n2v_all_val.pkl','rb'))\n",
    "feats_n2v_all_test = pickle.load(open('/drives/drive1/home/changyu_yin/Desktop/PSG/PSG_AMIA_NEJM/feature/feats_n2v_all_test.pkl','rb'))\n",
    "\n",
    "\n",
    "\n",
    "Outcome_labels = pickle.load(open('/drives/drive1/home/changyu_yin/Desktop/PSG/PSG_AMIA_NEJM/feature/Outcome_labels_death_30d.pkl','rb'))"
   ]
  },
  {
   "cell_type": "code",
   "execution_count": 6,
   "id": "0793c9ff-a321-4401-97d2-1252bf7e8476",
   "metadata": {},
   "outputs": [],
   "source": [
    "df_feats_generalclinical_process_icug = df_feats_clinical.merge(df_feats_icd_transform,\n",
    "                                 on='ENCRYPTED_HOSP_ENCOUNTER',\n",
    "                                 how='left').merge(df_preor_ICULOS,\n",
    "                                 on='ENCRYPTED_HOSP_ENCOUNTER',\n",
    "                                 how='left').merge(df_feats_delirium,\n",
    "                                 on='ENCRYPTED_HOSP_ENCOUNTER',\n",
    "                                 how='left').merge(df_feats_surgeryprocess,\n",
    "                                 on='ENCRYPTED_HOSP_ENCOUNTER',\n",
    "                                 how='left').merge(df_icu_graph_features,\n",
    "                                 on='ENCRYPTED_HOSP_ENCOUNTER',\n",
    "                                 how='left')"
   ]
  },
  {
   "cell_type": "code",
   "execution_count": 7,
   "id": "d35a3e4d-3912-4179-b35c-5df3465b41f9",
   "metadata": {},
   "outputs": [
    {
     "data": {
      "text/plain": [
       "0"
      ]
     },
     "execution_count": 7,
     "metadata": {},
     "output_type": "execute_result"
    }
   ],
   "source": [
    "Outcome_labels_train = Outcome_labels[Outcome_labels['ENCRYPTED_HOSP_ENCOUNTER'].\\\n",
    "                                      isin(df_master_index_train['ENCRYPTED_HOSP_ENCOUNTER'])].\\\n",
    "                        reset_index(drop=True)[['ENCRYPTED_HOSP_ENCOUNTER','IF_died_postsurg30d']]\n",
    "\n",
    "Outcome_labels_val = Outcome_labels[Outcome_labels['ENCRYPTED_HOSP_ENCOUNTER'].\\\n",
    "                                      isin(df_master_index_val['ENCRYPTED_HOSP_ENCOUNTER'])].\\\n",
    "                        reset_index(drop=True)[['ENCRYPTED_HOSP_ENCOUNTER','IF_died_postsurg30d']]\n",
    "\n",
    "Outcome_labels_test = Outcome_labels[Outcome_labels['ENCRYPTED_HOSP_ENCOUNTER'].\\\n",
    "                                      isin(df_master_index_test['ENCRYPTED_HOSP_ENCOUNTER'])].\\\n",
    "                        reset_index(drop=True)[['ENCRYPTED_HOSP_ENCOUNTER','IF_died_postsurg30d']]\n",
    "\n",
    "len(Outcome_labels_train)+len(Outcome_labels_val)+len(Outcome_labels_test)-len(Outcome_labels)"
   ]
  },
  {
   "cell_type": "code",
   "execution_count": 8,
   "id": "33004b42-685e-4426-9895-aa4f66a3e56c",
   "metadata": {},
   "outputs": [
    {
     "data": {
      "text/plain": [
       "0"
      ]
     },
     "execution_count": 8,
     "metadata": {},
     "output_type": "execute_result"
    }
   ],
   "source": [
    "df_feats_generalclinical_process_ppg_icug_train = df_feats_generalclinical_process_icug[df_feats_generalclinical_process_icug['ENCRYPTED_HOSP_ENCOUNTER'].\\\n",
    "                                      isin(df_master_index_train['ENCRYPTED_HOSP_ENCOUNTER'])].\\\n",
    "                        reset_index(drop=True).\\\n",
    "                        merge(df_feats_ppg_train_all,how='left',on='ENCRYPTED_HOSP_ENCOUNTER').\\\n",
    "            merge(feats_n2v_all_train,how='left',\n",
    "                   on='ENCRYPTED_HOSP_ENCOUNTER')\n",
    "\n",
    "\n",
    "df_feats_generalclinical_process_ppg_icug_val = df_feats_generalclinical_process_icug[df_feats_generalclinical_process_icug['ENCRYPTED_HOSP_ENCOUNTER'].\\\n",
    "                                      isin(df_master_index_val['ENCRYPTED_HOSP_ENCOUNTER'])].\\\n",
    "                        reset_index(drop=True).\\\n",
    "                        merge(df_feats_ppg_val,how='left',on='ENCRYPTED_HOSP_ENCOUNTER').\\\n",
    "            merge(feats_n2v_all_val,how='left',\n",
    "                   on='ENCRYPTED_HOSP_ENCOUNTER')\n",
    "\n",
    "\n",
    "df_feats_generalclinical_process_ppg_icug_test = df_feats_generalclinical_process_icug[df_feats_generalclinical_process_icug['ENCRYPTED_HOSP_ENCOUNTER'].\\\n",
    "                                      isin(df_master_index_test['ENCRYPTED_HOSP_ENCOUNTER'])].\\\n",
    "                        reset_index(drop=True).\\\n",
    "                        merge(df_feats_ppg_test,how='left',on='ENCRYPTED_HOSP_ENCOUNTER').\\\n",
    "            merge(feats_n2v_all_test,how='left',\n",
    "                   on='ENCRYPTED_HOSP_ENCOUNTER')\n",
    "\n",
    "\n",
    "len(df_feats_generalclinical_process_ppg_icug_train)+len(df_feats_generalclinical_process_ppg_icug_val)+len(df_feats_generalclinical_process_ppg_icug_test)-len(df_feats_generalclinical_process_icug)"
   ]
  },
  {
   "cell_type": "code",
   "execution_count": 9,
   "id": "bb045eec-dc98-4233-8915-d36fbc60880f",
   "metadata": {},
   "outputs": [],
   "source": [
    "X_train = df_feats_generalclinical_process_ppg_icug_train\n",
    "X_val = df_feats_generalclinical_process_ppg_icug_val\n",
    "X_test = df_feats_generalclinical_process_ppg_icug_test\n",
    "\n",
    "y_train = Outcome_labels_train\n",
    "y_val = Outcome_labels_val\n",
    "y_test = Outcome_labels_test"
   ]
  },
  {
   "cell_type": "code",
   "execution_count": null,
   "id": "01aa1b40-9be2-42aa-a78f-5c4e0674032e",
   "metadata": {},
   "outputs": [],
   "source": []
  },
  {
   "cell_type": "code",
   "execution_count": 10,
   "id": "6c5c300c-1b6d-48ba-9726-a2e0219a5089",
   "metadata": {},
   "outputs": [],
   "source": [
    "X_train_val = pd.concat([X_train,X_val])\n",
    "y_train_val = pd.concat([y_train,y_val])"
   ]
  },
  {
   "cell_type": "code",
   "execution_count": 11,
   "id": "473ff644-9a03-4415-abe8-54fbd94a7589",
   "metadata": {},
   "outputs": [
    {
     "data": {
      "text/plain": [
       "((109318, 4520),\n",
       " (13665, 4520),\n",
       " (122983, 4520),\n",
       " (13664, 4520),\n",
       " (109318, 2),\n",
       " (13665, 2),\n",
       " (122983, 2),\n",
       " (13664, 2))"
      ]
     },
     "execution_count": 11,
     "metadata": {},
     "output_type": "execute_result"
    }
   ],
   "source": [
    "X_train.shape,X_val.shape,X_train_val.shape,X_test.shape,y_train.shape,y_val.shape,y_train_val.shape,y_test.shape"
   ]
  },
  {
   "cell_type": "code",
   "execution_count": 12,
   "id": "273dd017-7c80-4596-ad1c-8cacc360b817",
   "metadata": {},
   "outputs": [],
   "source": [
    "#experiment_baseline(X_train, X_val, y_train, y_val, seeds=[2023])"
   ]
  },
  {
   "cell_type": "code",
   "execution_count": 13,
   "id": "027bce2f-da88-4494-ad67-431e46ba881f",
   "metadata": {},
   "outputs": [],
   "source": [
    "del sys.modules[\"utilities\"]\n",
    "from utilities import *"
   ]
  },
  {
   "cell_type": "code",
   "execution_count": 14,
   "id": "1275b8c4-6c36-4a1d-946c-05532ef0fd96",
   "metadata": {},
   "outputs": [],
   "source": [
    "del df_feats_surgeryprocess \n",
    "del df_feats_clinical\n",
    "del df_feats_icd_transform \n",
    "del df_preor_ICULOS \n",
    "del df_feats_delirium\n",
    "del df_icu_graph_features \n",
    "del df_feats_ppg_train_all \n",
    "del df_feats_ppg_val \n",
    "del df_feats_ppg_test \n",
    "del feats_n2v_all_train \n",
    "del feats_n2v_all_val\n",
    "del feats_n2v_all_test\n",
    "del Outcome_labels \n",
    "del df_feats_generalclinical_process_icug\n",
    "del Outcome_labels_train\n",
    "del Outcome_labels_val\n",
    "del Outcome_labels_test\n",
    "del df_feats_generalclinical_process_ppg_icug_train \n",
    "del df_feats_generalclinical_process_ppg_icug_val \n",
    "del df_feats_generalclinical_process_ppg_icug_test "
   ]
  },
  {
   "cell_type": "code",
   "execution_count": 15,
   "id": "b3d90097-7796-401f-88c5-f735b1855aa5",
   "metadata": {},
   "outputs": [
    {
     "name": "stderr",
     "output_type": "stream",
     "text": [
      "100%|██████████████████████████████████████| 1/1 [40:19:08<00:00, 145148.48s/it]\n"
     ]
    },
    {
     "name": "stdout",
     "output_type": "stream",
     "text": [
      "====================================================\n",
      "A. Scores on training set\n",
      "avg XGBoost classifer: auc/  1.0  F1:  1.0  precision:  1.0  recall:  1.0  accuracy:  1.0\n",
      "std XGBoost classifer: auc/  0.0  F1:  0.0  precision:  0.0  recall:  0.0  accuracy:  0.0\n",
      "avg MLP classifer: auc/  0.8534  F1:  0.0478  precision:  0.6786  recall:  0.0248  accuracy:  0.9692\n",
      "std MLP classifer: auc/  0.0  F1:  0.0  precision:  0.0  recall:  0.0  accuracy:  0.0\n",
      "avg logistic classifer: auc/  0.9098  F1:  0.2658  precision:  0.7093  recall:  0.1635  accuracy:  0.9718\n",
      "std logistic classifer: auc/  0.0  F1:  0.0  precision:  0.0  recall:  0.0  accuracy:  0.0\n",
      "****************************************************\n",
      "\n",
      "B. Scores on test set\n",
      "avg XGBoost classifer: auc/  0.9165  F1:  0.2974  precision:  0.87  recall:  0.1794  accuracy:  0.9699\n",
      "std XGBoost classifer: auc/  0.0  F1:  0.0  precision:  0.0  recall:  0.0  accuracy:  0.0\n",
      "avg MLP classifer: auc/  0.8602  F1:  0.0322  precision:  0.6667  recall:  0.0165  accuracy:  0.9648\n",
      "std MLP classifer: auc/  0.0  F1:  0.0  precision:  0.0  recall:  0.0  accuracy:  0.0\n",
      "avg logistic classifer: auc/  0.8807  F1:  0.2829  precision:  0.441  recall:  0.2082  accuracy:  0.9625\n",
      "std logistic classifer: auc/  0.0  F1:  0.0  precision:  0.0  recall:  0.0  accuracy:  0.0\n",
      "====================================================\n",
      "\n"
     ]
    }
   ],
   "source": [
    "experiment_baseline(X_train_val, \n",
    "                    X_test, \n",
    "                    y_train_val, \n",
    "                    y_test, \n",
    "                    seeds=[666],\n",
    "                    xgb_colsample_bytree=0.5, \n",
    "                    xgb_learning_rate=0.07088334267195551,\n",
    "                    xgb_max_depth=15,\n",
    "                    xgb_n_estimators=600,\n",
    "                    xgb_subsample=1.0,\n",
    "                    mlp_early_stopping=False,\n",
    "                    mlp_learning_rate='constant',\n",
    "                    mlp_alpha=0.09129107203199723,\n",
    "                    lr_max_iter=500,\n",
    "                    lr_solver='newton-cg',\n",
    "                    lr_C=0.11585850349716907,\n",
    "                    lr_class_weight=None)"
   ]
  },
  {
   "cell_type": "code",
   "execution_count": null,
   "id": "42bfbe6e-c84b-4442-b96a-9b80adf4de74",
   "metadata": {},
   "outputs": [],
   "source": []
  }
 ],
 "metadata": {
  "kernelspec": {
   "display_name": "UFRC Python-3.10",
   "language": "python",
   "name": "python3-3.10-ufrc"
  },
  "language_info": {
   "codemirror_mode": {
    "name": "ipython",
    "version": 3
   },
   "file_extension": ".py",
   "mimetype": "text/x-python",
   "name": "python",
   "nbconvert_exporter": "python",
   "pygments_lexer": "ipython3",
   "version": "3.10.5"
  }
 },
 "nbformat": 4,
 "nbformat_minor": 5
}
