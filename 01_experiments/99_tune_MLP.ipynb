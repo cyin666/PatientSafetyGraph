{
 "cells": [
  {
   "cell_type": "code",
   "execution_count": 1,
   "id": "bddd8a38-6cb5-4491-a40e-433d64738b5f",
   "metadata": {},
   "outputs": [],
   "source": [
    "import sys\n",
    "sys.path.insert(1, '/drives/drive1/home/changyu_yin/Desktop/PSG/PSG_AMIA_NEJM/codes/')"
   ]
  },
  {
   "cell_type": "code",
   "execution_count": 2,
   "id": "56001a6a-106a-4916-ba1b-5d8263afa2f5",
   "metadata": {},
   "outputs": [],
   "source": [
    "#del sys.modules[\"utilities\"]\n",
    "from utilities import *"
   ]
  },
  {
   "cell_type": "code",
   "execution_count": 3,
   "id": "5e9dd3ac-7816-4179-ad6e-f732ecbe3341",
   "metadata": {},
   "outputs": [],
   "source": [
    "import warnings\n",
    "warnings.filterwarnings('ignore')"
   ]
  },
  {
   "cell_type": "code",
   "execution_count": 4,
   "id": "1cc83a12-470a-43b0-a674-04e8800b8fcf",
   "metadata": {},
   "outputs": [],
   "source": [
    "df_master_index_all=pickle.load(open('/drives/drive1/home/changyu_yin/Desktop/PSG/PSG_AMIA_NEJM/split_index/df_master_index_all.pkl','rb'))\n",
    "\n",
    "df_master_index_train=pickle.load(open('/drives/drive1/home/changyu_yin/Desktop/PSG/PSG_AMIA_NEJM/split_index/df_master_index_train.pkl','rb'))\n",
    "df_master_index_val=pickle.load(open('/drives/drive1/home/changyu_yin/Desktop/PSG/PSG_AMIA_NEJM/split_index/df_master_index_val.pkl','rb'))\n",
    "df_master_index_test=pickle.load(open('/drives/drive1/home/changyu_yin/Desktop/PSG/PSG_AMIA_NEJM/split_index/df_master_index_test.pkl','rb'))\n",
    "\n",
    "df_master_index_train_val=pd.concat([df_master_index_train,df_master_index_val])"
   ]
  },
  {
   "cell_type": "code",
   "execution_count": null,
   "id": "bcd3f1d3-21e7-4a76-a0fe-51914d3b843a",
   "metadata": {},
   "outputs": [],
   "source": []
  },
  {
   "cell_type": "code",
   "execution_count": 5,
   "id": "e5f62d7e-3e81-4846-b614-9fc671018181",
   "metadata": {},
   "outputs": [],
   "source": [
    "df_feats_surgeryprocess = pickle.load(open('/drives/drive1/home/changyu_yin/Desktop/PSG/PSG_AMIA_NEJM/feature/df_feats_SurgeryProcess.pkl','rb'))\n",
    "df_feats_clinical = pickle.load(open('/drives/drive1/home/changyu_yin/Desktop/PSG/PSG_AMIA_NEJM/feature/df_feats_clinical.pkl','rb'))\n",
    "df_feats_icd_transform = pickle.load(open('/drives/drive1/home/changyu_yin/Desktop/PSG/PSG_AMIA_NEJM/feature/df_feats_icd_transform.pkl','rb'))\n",
    "df_preor_ICULOS = pickle.load(open('/drives/drive1/home/changyu_yin/Desktop/PSG/PSG_AMIA_NEJM/feature/df_preor_ICULOS.pkl','rb'))\n",
    "df_feats_delirium = pickle.load(open('/drives/drive1/home/changyu_yin/Desktop/PSG/PSG_AMIA_NEJM/feature/df_feats_delirium.pkl','rb'))\n",
    "\n",
    "df_icu_graph_features = pickle.load(open('/drives/drive1/home/changyu_yin/Desktop/PSG/PSG_AMIA_NEJM/feature/df_icu_graph_features.pkl','rb'))\n",
    "\n",
    "df_feats_ppg_train_all = pickle.load(open('/drives/drive1/home/changyu_yin/Desktop/PSG/PSG_AMIA_NEJM/feature/df_feats_ppg_train_separate.pkl','rb'))\n",
    "df_feats_ppg_val = pickle.load(open('/drives/drive1/home/changyu_yin/Desktop/PSG/PSG_AMIA_NEJM/feature/df_feats_ppg_val_separate.pkl','rb'))\n",
    "df_feats_ppg_test = pickle.load(open('/drives/drive1/home/changyu_yin/Desktop/PSG/PSG_AMIA_NEJM/feature/df_feats_ppg_test.pkl','rb'))\n",
    "\n",
    "\n",
    "feats_n2v_all_train = pickle.load(open('/drives/drive1/home/changyu_yin/Desktop/PSG/PSG_AMIA_NEJM/feature/feats_n2v_all_train.pkl','rb'))\n",
    "feats_n2v_all_val = pickle.load(open('/drives/drive1/home/changyu_yin/Desktop/PSG/PSG_AMIA_NEJM/feature/feats_n2v_all_val.pkl','rb'))\n",
    "feats_n2v_all_test = pickle.load(open('/drives/drive1/home/changyu_yin/Desktop/PSG/PSG_AMIA_NEJM/feature/feats_n2v_all_test.pkl','rb'))\n",
    "\n",
    "\n",
    "\n",
    "Outcome_labels = pickle.load(open('/drives/drive1/home/changyu_yin/Desktop/PSG/PSG_AMIA_NEJM/feature/Outcome_labels_death_30d.pkl','rb'))"
   ]
  },
  {
   "cell_type": "code",
   "execution_count": 6,
   "id": "4f641596-bf2e-4081-bde4-a7f53c3063bc",
   "metadata": {},
   "outputs": [
    {
     "data": {
      "text/html": [
       "<div>\n",
       "<style scoped>\n",
       "    .dataframe tbody tr th:only-of-type {\n",
       "        vertical-align: middle;\n",
       "    }\n",
       "\n",
       "    .dataframe tbody tr th {\n",
       "        vertical-align: top;\n",
       "    }\n",
       "\n",
       "    .dataframe thead th {\n",
       "        text-align: right;\n",
       "    }\n",
       "</style>\n",
       "<table border=\"1\" class=\"dataframe\">\n",
       "  <thead>\n",
       "    <tr style=\"text-align: right;\">\n",
       "      <th></th>\n",
       "      <th>ENCRYPTED_HOSP_ENCOUNTER</th>\n",
       "      <th>IF_died_postsurg30d</th>\n",
       "    </tr>\n",
       "  </thead>\n",
       "  <tbody>\n",
       "    <tr>\n",
       "      <th>0</th>\n",
       "      <td>b'\\x16\\x7f\\x17:\\xdeX[\\xb4\\xf3\\x80.\\xaa\\xd6OU'</td>\n",
       "      <td>0</td>\n",
       "    </tr>\n",
       "    <tr>\n",
       "      <th>1</th>\n",
       "      <td>b'\\x16\\x7f\\x17:\\xdeXZ}\\xcf=\\xe5\\x1a.w$'</td>\n",
       "      <td>0</td>\n",
       "    </tr>\n",
       "    <tr>\n",
       "      <th>2</th>\n",
       "      <td>b'\\x16\\x7f\\x17:\\xdeXZ}\\xcf=\\xe6\\xd2\\xa1\\xe6\\xdd'</td>\n",
       "      <td>0</td>\n",
       "    </tr>\n",
       "    <tr>\n",
       "      <th>3</th>\n",
       "      <td>b'\\x16\\x7f\\x17:\\xdeXZ}\\xc3sQ\\xd3\\xb9Y\\x0f'</td>\n",
       "      <td>0</td>\n",
       "    </tr>\n",
       "    <tr>\n",
       "      <th>4</th>\n",
       "      <td>b'\\x16\\x7f\\x17:\\xdeXZ}\\xcf&gt;%n\\x11!V'</td>\n",
       "      <td>0</td>\n",
       "    </tr>\n",
       "  </tbody>\n",
       "</table>\n",
       "</div>"
      ],
      "text/plain": [
       "                           ENCRYPTED_HOSP_ENCOUNTER  IF_died_postsurg30d\n",
       "0     b'\\x16\\x7f\\x17:\\xdeX[\\xb4\\xf3\\x80.\\xaa\\xd6OU'                    0\n",
       "1           b'\\x16\\x7f\\x17:\\xdeXZ}\\xcf=\\xe5\\x1a.w$'                    0\n",
       "2  b'\\x16\\x7f\\x17:\\xdeXZ}\\xcf=\\xe6\\xd2\\xa1\\xe6\\xdd'                    0\n",
       "3        b'\\x16\\x7f\\x17:\\xdeXZ}\\xc3sQ\\xd3\\xb9Y\\x0f'                    0\n",
       "4              b'\\x16\\x7f\\x17:\\xdeXZ}\\xcf>%n\\x11!V'                    0"
      ]
     },
     "execution_count": 6,
     "metadata": {},
     "output_type": "execute_result"
    }
   ],
   "source": [
    "Outcome_labels.head()"
   ]
  },
  {
   "cell_type": "code",
   "execution_count": 7,
   "id": "0793c9ff-a321-4401-97d2-1252bf7e8476",
   "metadata": {},
   "outputs": [],
   "source": [
    "df_feats_generalclinical_process_icug = df_feats_clinical.merge(df_feats_icd_transform,\n",
    "                                 on='ENCRYPTED_HOSP_ENCOUNTER',\n",
    "                                 how='left').merge(df_preor_ICULOS,\n",
    "                                 on='ENCRYPTED_HOSP_ENCOUNTER',\n",
    "                                 how='left').merge(df_feats_delirium,\n",
    "                                 on='ENCRYPTED_HOSP_ENCOUNTER',\n",
    "                                 how='left').merge(df_feats_surgeryprocess,\n",
    "                                 on='ENCRYPTED_HOSP_ENCOUNTER',\n",
    "                                 how='left').merge(df_icu_graph_features,\n",
    "                                 on='ENCRYPTED_HOSP_ENCOUNTER',\n",
    "                                 how='left')"
   ]
  },
  {
   "cell_type": "code",
   "execution_count": 8,
   "id": "d35a3e4d-3912-4179-b35c-5df3465b41f9",
   "metadata": {},
   "outputs": [
    {
     "data": {
      "text/plain": [
       "0"
      ]
     },
     "execution_count": 8,
     "metadata": {},
     "output_type": "execute_result"
    }
   ],
   "source": [
    "Outcome_labels_train = Outcome_labels[Outcome_labels['ENCRYPTED_HOSP_ENCOUNTER'].\\\n",
    "                                      isin(df_master_index_train['ENCRYPTED_HOSP_ENCOUNTER'])].\\\n",
    "                        reset_index(drop=True)[['ENCRYPTED_HOSP_ENCOUNTER','IF_died_postsurg30d']]\n",
    "\n",
    "Outcome_labels_val = Outcome_labels[Outcome_labels['ENCRYPTED_HOSP_ENCOUNTER'].\\\n",
    "                                      isin(df_master_index_val['ENCRYPTED_HOSP_ENCOUNTER'])].\\\n",
    "                        reset_index(drop=True)[['ENCRYPTED_HOSP_ENCOUNTER','IF_died_postsurg30d']]\n",
    "\n",
    "Outcome_labels_test = Outcome_labels[Outcome_labels['ENCRYPTED_HOSP_ENCOUNTER'].\\\n",
    "                                      isin(df_master_index_test['ENCRYPTED_HOSP_ENCOUNTER'])].\\\n",
    "                        reset_index(drop=True)[['ENCRYPTED_HOSP_ENCOUNTER','IF_died_postsurg30d']]\n",
    "\n",
    "len(Outcome_labels_train)+len(Outcome_labels_val)+len(Outcome_labels_test)-len(Outcome_labels)"
   ]
  },
  {
   "cell_type": "code",
   "execution_count": 9,
   "id": "33004b42-685e-4426-9895-aa4f66a3e56c",
   "metadata": {},
   "outputs": [
    {
     "data": {
      "text/plain": [
       "0"
      ]
     },
     "execution_count": 9,
     "metadata": {},
     "output_type": "execute_result"
    }
   ],
   "source": [
    "df_feats_generalclinical_process_ppg_icug_train = df_feats_generalclinical_process_icug[df_feats_generalclinical_process_icug['ENCRYPTED_HOSP_ENCOUNTER'].\\\n",
    "                                      isin(df_master_index_train['ENCRYPTED_HOSP_ENCOUNTER'])].\\\n",
    "                        reset_index(drop=True).\\\n",
    "                        merge(df_feats_ppg_train_all,how='left',on='ENCRYPTED_HOSP_ENCOUNTER').\\\n",
    "            merge(feats_n2v_all_train,how='left',\n",
    "                   on='ENCRYPTED_HOSP_ENCOUNTER')\n",
    "\n",
    "\n",
    "df_feats_generalclinical_process_ppg_icug_val = df_feats_generalclinical_process_icug[df_feats_generalclinical_process_icug['ENCRYPTED_HOSP_ENCOUNTER'].\\\n",
    "                                      isin(df_master_index_val['ENCRYPTED_HOSP_ENCOUNTER'])].\\\n",
    "                        reset_index(drop=True).\\\n",
    "                        merge(df_feats_ppg_val,how='left',on='ENCRYPTED_HOSP_ENCOUNTER').\\\n",
    "            merge(feats_n2v_all_val,how='left',\n",
    "                   on='ENCRYPTED_HOSP_ENCOUNTER')\n",
    "\n",
    "\n",
    "df_feats_generalclinical_process_ppg_icug_test = df_feats_generalclinical_process_icug[df_feats_generalclinical_process_icug['ENCRYPTED_HOSP_ENCOUNTER'].\\\n",
    "                                      isin(df_master_index_test['ENCRYPTED_HOSP_ENCOUNTER'])].\\\n",
    "                        reset_index(drop=True).\\\n",
    "                        merge(df_feats_ppg_test,how='left',on='ENCRYPTED_HOSP_ENCOUNTER').\\\n",
    "            merge(feats_n2v_all_test,how='left',\n",
    "                   on='ENCRYPTED_HOSP_ENCOUNTER')\n",
    "\n",
    "\n",
    "len(df_feats_generalclinical_process_ppg_icug_train)+len(df_feats_generalclinical_process_ppg_icug_val)+len(df_feats_generalclinical_process_ppg_icug_test)-len(df_feats_generalclinical_process_icug)"
   ]
  },
  {
   "cell_type": "code",
   "execution_count": 10,
   "id": "bb045eec-dc98-4233-8915-d36fbc60880f",
   "metadata": {},
   "outputs": [],
   "source": [
    "y_train = Outcome_labels_train\n",
    "y_val = Outcome_labels_val\n",
    "y_test = Outcome_labels_test\n",
    "\n",
    "X_train = y_train[['ENCRYPTED_HOSP_ENCOUNTER']].\\\n",
    "            merge(df_feats_generalclinical_process_ppg_icug_train,\n",
    "                  how='left',\n",
    "                  on='ENCRYPTED_HOSP_ENCOUNTER').\\\n",
    "            reset_index(drop=True)\n",
    "X_val = y_val[['ENCRYPTED_HOSP_ENCOUNTER']].\\\n",
    "            merge(df_feats_generalclinical_process_ppg_icug_val,\n",
    "                  how='left',\n",
    "                  on='ENCRYPTED_HOSP_ENCOUNTER').\\\n",
    "            reset_index(drop=True)\n",
    "\n",
    "X_test = y_test[['ENCRYPTED_HOSP_ENCOUNTER']].\\\n",
    "            merge(df_feats_generalclinical_process_ppg_icug_test,\n",
    "                  how='left',\n",
    "                  on='ENCRYPTED_HOSP_ENCOUNTER').\\\n",
    "            reset_index(drop=True)\n",
    "\n",
    "X_train_val = pd.concat([X_train,X_val]).reset_index(drop=True)\n",
    "y_train_val = pd.concat([y_train,y_val]).reset_index(drop=True)"
   ]
  },
  {
   "cell_type": "code",
   "execution_count": null,
   "id": "01aa1b40-9be2-42aa-a78f-5c4e0674032e",
   "metadata": {},
   "outputs": [],
   "source": []
  },
  {
   "cell_type": "code",
   "execution_count": 11,
   "id": "473ff644-9a03-4415-abe8-54fbd94a7589",
   "metadata": {},
   "outputs": [
    {
     "data": {
      "text/plain": [
       "((109318, 4520),\n",
       " (13665, 4520),\n",
       " (122983, 4520),\n",
       " (13664, 4520),\n",
       " (109318, 2),\n",
       " (13665, 2),\n",
       " (122983, 2),\n",
       " (13664, 2))"
      ]
     },
     "execution_count": 11,
     "metadata": {},
     "output_type": "execute_result"
    }
   ],
   "source": [
    "X_train.shape,X_val.shape,X_train_val.shape,X_test.shape,y_train.shape,y_val.shape,y_train_val.shape,y_test.shape"
   ]
  },
  {
   "cell_type": "code",
   "execution_count": 12,
   "id": "273dd017-7c80-4596-ad1c-8cacc360b817",
   "metadata": {},
   "outputs": [],
   "source": [
    "#experiment_baseline(X_train, X_val, y_train, y_val, seeds=[2023])"
   ]
  },
  {
   "cell_type": "code",
   "execution_count": 13,
   "id": "027bce2f-da88-4494-ad67-431e46ba881f",
   "metadata": {},
   "outputs": [],
   "source": [
    "del sys.modules[\"utilities\"]\n",
    "from utilities import *"
   ]
  },
  {
   "cell_type": "code",
   "execution_count": 14,
   "id": "b3d90097-7796-401f-88c5-f735b1855aa5",
   "metadata": {},
   "outputs": [],
   "source": [
    "#experiment_baseline(X_train_val, X_test, y_train_val, y_test, seeds=[2023])"
   ]
  },
  {
   "cell_type": "code",
   "execution_count": 15,
   "id": "ee7e0146-9617-4d5f-b3a7-ea8cb1e84be7",
   "metadata": {},
   "outputs": [],
   "source": [
    "np.random.seed(666)"
   ]
  },
  {
   "cell_type": "code",
   "execution_count": 16,
   "id": "b0031f22-719b-41f5-b8cc-c1864abdbf5e",
   "metadata": {},
   "outputs": [],
   "source": [
    "a = np.zeros(len(X_train))-1 \n",
    "b = np.ones(len(X_val)) \n",
    "pds = PredefinedSplit(np.concatenate([a,b]))"
   ]
  },
  {
   "cell_type": "code",
   "execution_count": 17,
   "id": "5c81662b-679d-451d-acb2-a8c6de3e14d9",
   "metadata": {},
   "outputs": [],
   "source": [
    "pipe = Pipeline(steps=[\n",
    "    (\"sampler\",RandomUnderSampler(random_state=666)),\n",
    "                       (\"imputer\", SimpleImputer(missing_values=np.nan, strategy='mean')),\n",
    "                       (\"scaler\", MinMaxScaler()),\n",
    "                       (\"classifier\", MLPClassifier()) #default 3-layer mlp\n",
    "                        ])"
   ]
  },
  {
   "cell_type": "code",
   "execution_count": 21,
   "id": "dc9e71f4-d776-40cc-b339-17a2964501cd",
   "metadata": {},
   "outputs": [],
   "source": [
    "clf = BayesSearchCV(estimator = pipe,\n",
    "                   search_spaces={\n",
    "                    'classifier__alpha':Real(0.0001,0.99,'log-uniform'),\n",
    "                    'classifier__learning_rate': Categorical(['constant','adaptive']),\n",
    "                    'classifier__early_stopping': Categorical([True,False])\n",
    "                   },\n",
    "                   n_iter = 30,\n",
    "                   cv=pds,\n",
    "                   scoring = 'f1',\n",
    "                   n_jobs=24,\n",
    "                   refit=True,\n",
    "                   verbose=4,\n",
    "                   random_state=666\n",
    "                   ) "
   ]
  },
  {
   "cell_type": "code",
   "execution_count": 22,
   "id": "53dc3b13-6827-428c-beba-d1d0bc7dd0cb",
   "metadata": {},
   "outputs": [
    {
     "name": "stdout",
     "output_type": "stream",
     "text": [
      "Fitting 1 folds for each of 1 candidates, totalling 1 fits\n",
      "Fitting 1 folds for each of 1 candidates, totalling 1 fits\n",
      "Fitting 1 folds for each of 1 candidates, totalling 1 fits\n"
     ]
    },
    {
     "name": "stderr",
     "output_type": "stream",
     "text": [
      "/apps/python/3.10/lib/python3.10/site-packages/sklearn/neural_network/_multilayer_perceptron.py:702: ConvergenceWarning: Stochastic Optimizer: Maximum iterations (200) reached and the optimization hasn't converged yet.\n",
      "  warnings.warn(\n"
     ]
    },
    {
     "name": "stdout",
     "output_type": "stream",
     "text": [
      "Fitting 1 folds for each of 1 candidates, totalling 1 fits\n"
     ]
    },
    {
     "name": "stderr",
     "output_type": "stream",
     "text": [
      "/apps/python/3.10/lib/python3.10/site-packages/sklearn/neural_network/_multilayer_perceptron.py:702: ConvergenceWarning: Stochastic Optimizer: Maximum iterations (200) reached and the optimization hasn't converged yet.\n",
      "  warnings.warn(\n"
     ]
    },
    {
     "name": "stdout",
     "output_type": "stream",
     "text": [
      "Fitting 1 folds for each of 1 candidates, totalling 1 fits\n",
      "Fitting 1 folds for each of 1 candidates, totalling 1 fits\n",
      "Fitting 1 folds for each of 1 candidates, totalling 1 fits\n",
      "Fitting 1 folds for each of 1 candidates, totalling 1 fits\n",
      "Fitting 1 folds for each of 1 candidates, totalling 1 fits\n",
      "Fitting 1 folds for each of 1 candidates, totalling 1 fits\n",
      "Fitting 1 folds for each of 1 candidates, totalling 1 fits\n",
      "Fitting 1 folds for each of 1 candidates, totalling 1 fits\n",
      "Fitting 1 folds for each of 1 candidates, totalling 1 fits\n",
      "Fitting 1 folds for each of 1 candidates, totalling 1 fits\n",
      "Fitting 1 folds for each of 1 candidates, totalling 1 fits\n",
      "Fitting 1 folds for each of 1 candidates, totalling 1 fits\n",
      "Fitting 1 folds for each of 1 candidates, totalling 1 fits\n",
      "Fitting 1 folds for each of 1 candidates, totalling 1 fits\n",
      "[CV 1/1] END classifier__alpha=0.037999333430404396, classifier__early_stopping=True, classifier__learning_rate=constant;, score=0.207 total time=  29.9s\n",
      "[CV 1/1] END classifier__alpha=0.011092373519552725, classifier__early_stopping=True, classifier__learning_rate=adaptive;, score=0.179 total time=  24.1s\n",
      "[CV 1/1] END classifier__alpha=0.002294743669883091, classifier__early_stopping=True, classifier__learning_rate=constant;, score=0.220 total time=  24.4s\n",
      "Fitting 1 folds for each of 1 candidates, totalling 1 fits\n",
      "[CV 1/1] END classifier__alpha=0.0001, classifier__early_stopping=True, classifier__learning_rate=constant;, score=0.186 total time=  21.2s\n",
      "Fitting 1 folds for each of 1 candidates, totalling 1 fits\n",
      "Fitting 1 folds for each of 1 candidates, totalling 1 fits\n",
      "Fitting 1 folds for each of 1 candidates, totalling 1 fits\n",
      "Fitting 1 folds for each of 1 candidates, totalling 1 fits\n",
      "Fitting 1 folds for each of 1 candidates, totalling 1 fits\n",
      "Fitting 1 folds for each of 1 candidates, totalling 1 fits\n",
      "Fitting 1 folds for each of 1 candidates, totalling 1 fits\n",
      "Fitting 1 folds for each of 1 candidates, totalling 1 fits\n",
      "Fitting 1 folds for each of 1 candidates, totalling 1 fits\n",
      "Fitting 1 folds for each of 1 candidates, totalling 1 fits\n",
      "[CV 1/1] END classifier__alpha=0.001572971977757627, classifier__early_stopping=True, classifier__learning_rate=constant;, score=0.190 total time=  19.8s\n",
      "[CV 1/1] END classifier__alpha=0.00010092562980601905, classifier__early_stopping=True, classifier__learning_rate=adaptive;, score=0.227 total time=  21.4s\n",
      "Fitting 1 folds for each of 1 candidates, totalling 1 fits\n",
      "[CV 1/1] END classifier__alpha=0.99, classifier__early_stopping=True, classifier__learning_rate=constant;, score=0.206 total time=  19.2s\n",
      "[CV 1/1] END classifier__alpha=0.00010038774406343917, classifier__early_stopping=True, classifier__learning_rate=adaptive;, score=0.203 total time=  27.3s\n",
      "[CV 1/1] END classifier__alpha=0.99, classifier__early_stopping=True, classifier__learning_rate=constant;, score=0.201 total time=  36.7s\n",
      "[CV 1/1] END classifier__alpha=0.00010019011783638757, classifier__early_stopping=True, classifier__learning_rate=adaptive;, score=0.187 total time=  26.9s\n",
      "[CV 1/1] END classifier__alpha=0.99, classifier__early_stopping=True, classifier__learning_rate=constant;, score=0.226 total time=  24.7s\n",
      "[CV 1/1] END classifier__alpha=0.9872562802003326, classifier__early_stopping=True, classifier__learning_rate=adaptive;, score=0.187 total time=  25.3s\n",
      "[CV 1/1] END classifier__alpha=0.00010005069297037794, classifier__early_stopping=True, classifier__learning_rate=constant;, score=0.176 total time=  20.5s\n",
      "[CV 1/1] END classifier__alpha=0.02345201889819797, classifier__early_stopping=False, classifier__learning_rate=constant;, score=0.180 total time= 4.1min\n",
      "[CV 1/1] END classifier__alpha=0.00013416540332600142, classifier__early_stopping=False, classifier__learning_rate=constant;, score=0.158 total time= 4.7min\n",
      "[CV 1/1] END classifier__alpha=0.11592282108997436, classifier__early_stopping=True, classifier__learning_rate=adaptive;, score=0.179 total time=  24.6s\n",
      "[CV 1/1] END classifier__alpha=0.99, classifier__early_stopping=True, classifier__learning_rate=constant;, score=0.198 total time=  24.9s\n",
      "[CV 1/1] END classifier__alpha=0.9859692276671576, classifier__early_stopping=True, classifier__learning_rate=constant;, score=0.185 total time=  27.4s\n",
      "[CV 1/1] END classifier__alpha=0.3290684401395549, classifier__early_stopping=False, classifier__learning_rate=adaptive;, score=0.178 total time= 2.9min\n",
      "[CV 1/1] END classifier__alpha=0.00010576858387140112, classifier__early_stopping=False, classifier__learning_rate=adaptive;, score=0.162 total time= 4.4min\n",
      "[CV 1/1] END classifier__alpha=0.2165021328936652, classifier__early_stopping=True, classifier__learning_rate=adaptive;, score=0.204 total time=  25.0s\n",
      "[CV 1/1] END classifier__alpha=0.9839954000989914, classifier__early_stopping=False, classifier__learning_rate=constant;, score=0.174 total time= 1.9min\n",
      "[CV 1/1] END classifier__alpha=0.989464549920384, classifier__early_stopping=False, classifier__learning_rate=adaptive;, score=0.182 total time= 1.6min\n"
     ]
    },
    {
     "name": "stderr",
     "output_type": "stream",
     "text": [
      "/apps/python/3.10/lib/python3.10/site-packages/sklearn/neural_network/_multilayer_perceptron.py:702: ConvergenceWarning: Stochastic Optimizer: Maximum iterations (200) reached and the optimization hasn't converged yet.\n",
      "  warnings.warn(\n"
     ]
    },
    {
     "name": "stdout",
     "output_type": "stream",
     "text": [
      "[CV 1/1] END classifier__alpha=0.07514813566541474, classifier__early_stopping=True, classifier__learning_rate=adaptive;, score=0.191 total time=  25.1s\n",
      "[CV 1/1] END classifier__alpha=0.99, classifier__early_stopping=True, classifier__learning_rate=constant;, score=0.197 total time=  28.8s\n",
      "[CV 1/1] END classifier__alpha=0.00010163622259753977, classifier__early_stopping=True, classifier__learning_rate=constant;, score=0.224 total time=  23.1s\n",
      "[CV 1/1] END classifier__alpha=0.00010005431727017637, classifier__early_stopping=True, classifier__learning_rate=adaptive;, score=0.209 total time=  20.8s\n"
     ]
    },
    {
     "data": {
      "text/html": [
       "<style>#sk-container-id-2 {color: black;background-color: white;}#sk-container-id-2 pre{padding: 0;}#sk-container-id-2 div.sk-toggleable {background-color: white;}#sk-container-id-2 label.sk-toggleable__label {cursor: pointer;display: block;width: 100%;margin-bottom: 0;padding: 0.3em;box-sizing: border-box;text-align: center;}#sk-container-id-2 label.sk-toggleable__label-arrow:before {content: \"▸\";float: left;margin-right: 0.25em;color: #696969;}#sk-container-id-2 label.sk-toggleable__label-arrow:hover:before {color: black;}#sk-container-id-2 div.sk-estimator:hover label.sk-toggleable__label-arrow:before {color: black;}#sk-container-id-2 div.sk-toggleable__content {max-height: 0;max-width: 0;overflow: hidden;text-align: left;background-color: #f0f8ff;}#sk-container-id-2 div.sk-toggleable__content pre {margin: 0.2em;color: black;border-radius: 0.25em;background-color: #f0f8ff;}#sk-container-id-2 input.sk-toggleable__control:checked~div.sk-toggleable__content {max-height: 200px;max-width: 100%;overflow: auto;}#sk-container-id-2 input.sk-toggleable__control:checked~label.sk-toggleable__label-arrow:before {content: \"▾\";}#sk-container-id-2 div.sk-estimator input.sk-toggleable__control:checked~label.sk-toggleable__label {background-color: #d4ebff;}#sk-container-id-2 div.sk-label input.sk-toggleable__control:checked~label.sk-toggleable__label {background-color: #d4ebff;}#sk-container-id-2 input.sk-hidden--visually {border: 0;clip: rect(1px 1px 1px 1px);clip: rect(1px, 1px, 1px, 1px);height: 1px;margin: -1px;overflow: hidden;padding: 0;position: absolute;width: 1px;}#sk-container-id-2 div.sk-estimator {font-family: monospace;background-color: #f0f8ff;border: 1px dotted black;border-radius: 0.25em;box-sizing: border-box;margin-bottom: 0.5em;}#sk-container-id-2 div.sk-estimator:hover {background-color: #d4ebff;}#sk-container-id-2 div.sk-parallel-item::after {content: \"\";width: 100%;border-bottom: 1px solid gray;flex-grow: 1;}#sk-container-id-2 div.sk-label:hover label.sk-toggleable__label {background-color: #d4ebff;}#sk-container-id-2 div.sk-serial::before {content: \"\";position: absolute;border-left: 1px solid gray;box-sizing: border-box;top: 0;bottom: 0;left: 50%;z-index: 0;}#sk-container-id-2 div.sk-serial {display: flex;flex-direction: column;align-items: center;background-color: white;padding-right: 0.2em;padding-left: 0.2em;position: relative;}#sk-container-id-2 div.sk-item {position: relative;z-index: 1;}#sk-container-id-2 div.sk-parallel {display: flex;align-items: stretch;justify-content: center;background-color: white;position: relative;}#sk-container-id-2 div.sk-item::before, #sk-container-id-2 div.sk-parallel-item::before {content: \"\";position: absolute;border-left: 1px solid gray;box-sizing: border-box;top: 0;bottom: 0;left: 50%;z-index: -1;}#sk-container-id-2 div.sk-parallel-item {display: flex;flex-direction: column;z-index: 1;position: relative;background-color: white;}#sk-container-id-2 div.sk-parallel-item:first-child::after {align-self: flex-end;width: 50%;}#sk-container-id-2 div.sk-parallel-item:last-child::after {align-self: flex-start;width: 50%;}#sk-container-id-2 div.sk-parallel-item:only-child::after {width: 0;}#sk-container-id-2 div.sk-dashed-wrapped {border: 1px dashed gray;margin: 0 0.4em 0.5em 0.4em;box-sizing: border-box;padding-bottom: 0.4em;background-color: white;}#sk-container-id-2 div.sk-label label {font-family: monospace;font-weight: bold;display: inline-block;line-height: 1.2em;}#sk-container-id-2 div.sk-label-container {text-align: center;}#sk-container-id-2 div.sk-container {/* jupyter's `normalize.less` sets `[hidden] { display: none; }` but bootstrap.min.css set `[hidden] { display: none !important; }` so we also need the `!important` here to be able to override the default hidden behavior on the sphinx rendered scikit-learn.org. See: https://github.com/scikit-learn/scikit-learn/issues/21755 */display: inline-block !important;position: relative;}#sk-container-id-2 div.sk-text-repr-fallback {display: none;}</style><div id=\"sk-container-id-2\" class=\"sk-top-container\"><div class=\"sk-text-repr-fallback\"><pre>BayesSearchCV(cv=PredefinedSplit(test_fold=array([-1, -1, ...,  1,  1])),\n",
       "              estimator=Pipeline(steps=[(&#x27;sampler&#x27;,\n",
       "                                         RandomUnderSampler(random_state=666)),\n",
       "                                        (&#x27;imputer&#x27;, SimpleImputer()),\n",
       "                                        (&#x27;scaler&#x27;, MinMaxScaler()),\n",
       "                                        (&#x27;classifier&#x27;, MLPClassifier())]),\n",
       "              n_iter=30, n_jobs=24, random_state=666, scoring=&#x27;f1&#x27;,\n",
       "              search_spaces={&#x27;classifier__alpha&#x27;: Real(low=0.0001, high=0.99, prior=&#x27;log-uniform&#x27;, transform=&#x27;normalize&#x27;),\n",
       "                             &#x27;classifier__early_stopping&#x27;: Categorical(categories=(True, False), prior=None),\n",
       "                             &#x27;classifier__learning_rate&#x27;: Categorical(categories=(&#x27;constant&#x27;, &#x27;adaptive&#x27;), prior=None)},\n",
       "              verbose=4)</pre><b>In a Jupyter environment, please rerun this cell to show the HTML representation or trust the notebook. <br />On GitHub, the HTML representation is unable to render, please try loading this page with nbviewer.org.</b></div><div class=\"sk-container\" hidden><div class=\"sk-item sk-dashed-wrapped\"><div class=\"sk-label-container\"><div class=\"sk-label sk-toggleable\"><input class=\"sk-toggleable__control sk-hidden--visually\" id=\"sk-estimator-id-7\" type=\"checkbox\" ><label for=\"sk-estimator-id-7\" class=\"sk-toggleable__label sk-toggleable__label-arrow\">BayesSearchCV</label><div class=\"sk-toggleable__content\"><pre>BayesSearchCV(cv=PredefinedSplit(test_fold=array([-1, -1, ...,  1,  1])),\n",
       "              estimator=Pipeline(steps=[(&#x27;sampler&#x27;,\n",
       "                                         RandomUnderSampler(random_state=666)),\n",
       "                                        (&#x27;imputer&#x27;, SimpleImputer()),\n",
       "                                        (&#x27;scaler&#x27;, MinMaxScaler()),\n",
       "                                        (&#x27;classifier&#x27;, MLPClassifier())]),\n",
       "              n_iter=30, n_jobs=24, random_state=666, scoring=&#x27;f1&#x27;,\n",
       "              search_spaces={&#x27;classifier__alpha&#x27;: Real(low=0.0001, high=0.99, prior=&#x27;log-uniform&#x27;, transform=&#x27;normalize&#x27;),\n",
       "                             &#x27;classifier__early_stopping&#x27;: Categorical(categories=(True, False), prior=None),\n",
       "                             &#x27;classifier__learning_rate&#x27;: Categorical(categories=(&#x27;constant&#x27;, &#x27;adaptive&#x27;), prior=None)},\n",
       "              verbose=4)</pre></div></div></div><div class=\"sk-parallel\"><div class=\"sk-parallel-item\"><div class=\"sk-item\"><div class=\"sk-label-container\"><div class=\"sk-label sk-toggleable\"><input class=\"sk-toggleable__control sk-hidden--visually\" id=\"sk-estimator-id-8\" type=\"checkbox\" ><label for=\"sk-estimator-id-8\" class=\"sk-toggleable__label sk-toggleable__label-arrow\">estimator: Pipeline</label><div class=\"sk-toggleable__content\"><pre>Pipeline(steps=[(&#x27;sampler&#x27;, RandomUnderSampler(random_state=666)),\n",
       "                (&#x27;imputer&#x27;, SimpleImputer()), (&#x27;scaler&#x27;, MinMaxScaler()),\n",
       "                (&#x27;classifier&#x27;, MLPClassifier())])</pre></div></div></div><div class=\"sk-serial\"><div class=\"sk-item\"><div class=\"sk-serial\"><div class=\"sk-item\"><div class=\"sk-estimator sk-toggleable\"><input class=\"sk-toggleable__control sk-hidden--visually\" id=\"sk-estimator-id-9\" type=\"checkbox\" ><label for=\"sk-estimator-id-9\" class=\"sk-toggleable__label sk-toggleable__label-arrow\">RandomUnderSampler</label><div class=\"sk-toggleable__content\"><pre>RandomUnderSampler(random_state=666)</pre></div></div></div><div class=\"sk-item\"><div class=\"sk-estimator sk-toggleable\"><input class=\"sk-toggleable__control sk-hidden--visually\" id=\"sk-estimator-id-10\" type=\"checkbox\" ><label for=\"sk-estimator-id-10\" class=\"sk-toggleable__label sk-toggleable__label-arrow\">SimpleImputer</label><div class=\"sk-toggleable__content\"><pre>SimpleImputer()</pre></div></div></div><div class=\"sk-item\"><div class=\"sk-estimator sk-toggleable\"><input class=\"sk-toggleable__control sk-hidden--visually\" id=\"sk-estimator-id-11\" type=\"checkbox\" ><label for=\"sk-estimator-id-11\" class=\"sk-toggleable__label sk-toggleable__label-arrow\">MinMaxScaler</label><div class=\"sk-toggleable__content\"><pre>MinMaxScaler()</pre></div></div></div><div class=\"sk-item\"><div class=\"sk-estimator sk-toggleable\"><input class=\"sk-toggleable__control sk-hidden--visually\" id=\"sk-estimator-id-12\" type=\"checkbox\" ><label for=\"sk-estimator-id-12\" class=\"sk-toggleable__label sk-toggleable__label-arrow\">MLPClassifier</label><div class=\"sk-toggleable__content\"><pre>MLPClassifier()</pre></div></div></div></div></div></div></div></div></div></div></div></div>"
      ],
      "text/plain": [
       "BayesSearchCV(cv=PredefinedSplit(test_fold=array([-1, -1, ...,  1,  1])),\n",
       "              estimator=Pipeline(steps=[('sampler',\n",
       "                                         RandomUnderSampler(random_state=666)),\n",
       "                                        ('imputer', SimpleImputer()),\n",
       "                                        ('scaler', MinMaxScaler()),\n",
       "                                        ('classifier', MLPClassifier())]),\n",
       "              n_iter=30, n_jobs=24, random_state=666, scoring='f1',\n",
       "              search_spaces={'classifier__alpha': Real(low=0.0001, high=0.99, prior='log-uniform', transform='normalize'),\n",
       "                             'classifier__early_stopping': Categorical(categories=(True, False), prior=None),\n",
       "                             'classifier__learning_rate': Categorical(categories=('constant', 'adaptive'), prior=None)},\n",
       "              verbose=4)"
      ]
     },
     "execution_count": 22,
     "metadata": {},
     "output_type": "execute_result"
    }
   ],
   "source": [
    "clf.fit(X_train_val.iloc[:,1:],y_train_val.iloc[:,1:].values.ravel())"
   ]
  },
  {
   "cell_type": "code",
   "execution_count": 23,
   "id": "663a62a0-5888-4951-aecf-b5c924452b7d",
   "metadata": {},
   "outputs": [
    {
     "name": "stdout",
     "output_type": "stream",
     "text": [
      "OrderedDict([('classifier__alpha', 0.00010092562980601905), ('classifier__early_stopping', True), ('classifier__learning_rate', 'adaptive')])\n",
      "5.276791963716105e-06 0.9990760501204345\n",
      "Best Validation AUROC: 0.22702702702702704\n",
      "Test AUROC: 0.883410267662628\n",
      "Test F1-score: 0.21715526601520085\n",
      "Test Recall: 0.8247422680412371\n",
      "Test Precision: 0.12503907471084713\n",
      "Test Accuracy: 0.7889344262295082\n",
      "[CV 1/1] END classifier__alpha=0.99, classifier__early_stopping=True, classifier__learning_rate=constant;, score=0.219 total time=  20.5s\n",
      "[CV 1/1] END classifier__alpha=0.00010113702922946334, classifier__early_stopping=True, classifier__learning_rate=constant;, score=0.219 total time=  22.0s\n",
      "[CV 1/1] END classifier__alpha=0.00010020525231328869, classifier__early_stopping=False, classifier__learning_rate=adaptive;, score=0.150 total time= 4.6min\n"
     ]
    }
   ],
   "source": [
    "print(clf.best_params_)\n",
    "best_m = clf.best_estimator_\n",
    "pred = best_m.predict(X_test.iloc[:,1:])\n",
    "pred_prob = best_m.predict_proba(X_test.iloc[:,1:])[:,1]\n",
    "print(min(pred_prob),max(pred_prob))\n",
    "\n",
    "print('Best Validation AUROC: {}'.format(clf.best_score_))\n",
    "\n",
    "print('Test AUROC: {}'.format(roc_auc_score(y_test.iloc[:,1:], pred_prob)))\n",
    "print('Test F1-score: {}'.format(f1_score(y_test.iloc[:,1:], pred)))\n",
    "print('Test Recall: {}'.format(recall_score(y_test.iloc[:,1:], pred)))\n",
    "print('Test Precision: {}'.format(precision_score(y_test.iloc[:,1:], pred)))\n",
    "print('Test Accuracy: {}'.format(accuracy_score(y_test.iloc[:,1:], pred)))"
   ]
  },
  {
   "cell_type": "code",
   "execution_count": null,
   "id": "42bfbe6e-c84b-4442-b96a-9b80adf4de74",
   "metadata": {},
   "outputs": [],
   "source": []
  }
 ],
 "metadata": {
  "kernelspec": {
   "display_name": "UFRC Python-3.10",
   "language": "python",
   "name": "python3-3.10-ufrc"
  },
  "language_info": {
   "codemirror_mode": {
    "name": "ipython",
    "version": 3
   },
   "file_extension": ".py",
   "mimetype": "text/x-python",
   "name": "python",
   "nbconvert_exporter": "python",
   "pygments_lexer": "ipython3",
   "version": "3.10.5"
  }
 },
 "nbformat": 4,
 "nbformat_minor": 5
}
