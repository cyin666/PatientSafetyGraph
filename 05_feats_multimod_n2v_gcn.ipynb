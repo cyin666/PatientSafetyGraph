{
 "cells": [
  {
   "cell_type": "code",
   "execution_count": 34,
   "id": "fd11746e-b9f6-434f-9788-e2f92d85a816",
   "metadata": {},
   "outputs": [],
   "source": [
    "from utilities import *\n",
    "from multimod_graph import *"
   ]
  },
  {
   "cell_type": "code",
   "execution_count": 2,
   "id": "8278378c-471f-45a7-a33d-c284f6efaaa0",
   "metadata": {},
   "outputs": [],
   "source": [
    "import warnings\n",
    "warnings.filterwarnings('ignore')"
   ]
  },
  {
   "cell_type": "code",
   "execution_count": null,
   "id": "67ea2db8-b3fd-4600-b9f5-aa42c7aae417",
   "metadata": {},
   "outputs": [],
   "source": [
    "df_icu = pd.read_csv('/drives/drive1/Patient Safety Graphs/data_release_12132022/ICU_STAY_20221128.csv', sep=',', encoding=\"utf-8\")\n",
    "df_comp_poa = pd.read_csv('/drives/drive1/Patient Safety Graphs/data_release_12132022/COMP10_POA_20221128.csv', sep=',')"
   ]
  },
  {
   "cell_type": "code",
   "execution_count": null,
   "id": "d3dd8ed0-fcb5-4575-928c-83f3acb05b10",
   "metadata": {},
   "outputs": [],
   "source": [
    "#some location has multiple type, so we just combine them\n",
    "df_icu['ON_HOSP_ORG_LVL4_DESC'] = df_icu['ON_HOSP_ORG_LVL4_DESC'] + \"_\" + df_icu['ON_BED_TYPE']"
   ]
  },
  {
   "cell_type": "code",
   "execution_count": null,
   "id": "d2821cb6-45f9-4510-9ef7-c45cb5e4aeb6",
   "metadata": {},
   "outputs": [],
   "source": [
    "df_feats_clinical=pickle.load(open('/drives/drive1/home/changyu_yin/Desktop/PSG/PSG_AMIA_NEJM/feature/df_feats_clinical.pkl','rb'))\n",
    "df_master_preprocessed=pickle.load(open('/drives/drive1/home/changyu_yin/Desktop/PSG/PSG_AMIA_NEJM/intermediary/df_master_preprocessed.pkl','rb'))\n",
    "df_provider_preprocessed=pickle.load(open('/drives/drive1/home/changyu_yin/Desktop/PSG/PSG_AMIA_NEJM/intermediary/df_provider_preprocessed.pkl','rb'))"
   ]
  },
  {
   "cell_type": "code",
   "execution_count": 4,
   "id": "f9992570-5a23-44c5-8154-70dba39674c0",
   "metadata": {},
   "outputs": [],
   "source": [
    "df_master_index_all=pickle.load(open('/drives/drive1/home/changyu_yin/Desktop/PSG/PSG_AMIA_NEJM/split_index/df_master_index_all.pkl','rb'))\n",
    "\n",
    "df_master_index_train=pickle.load(open('/drives/drive1/home/changyu_yin/Desktop/PSG/PSG_AMIA_NEJM/split_index/df_master_index_train.pkl','rb'))\n",
    "df_master_index_val=pickle.load(open('/drives/drive1/home/changyu_yin/Desktop/PSG/PSG_AMIA_NEJM/split_index/df_master_index_val.pkl','rb'))\n",
    "df_master_index_test=pickle.load(open('/drives/drive1/home/changyu_yin/Desktop/PSG/PSG_AMIA_NEJM/split_index/df_master_index_test.pkl','rb'))"
   ]
  },
  {
   "cell_type": "code",
   "execution_count": 5,
   "id": "f9e910bd-15ba-485c-94ba-c8429acd8aa0",
   "metadata": {},
   "outputs": [],
   "source": [
    "df_master_index_train_val=pd.concat([df_master_index_train,df_master_index_val])"
   ]
  },
  {
   "cell_type": "code",
   "execution_count": 6,
   "id": "bcade9ff-7e49-43f9-a4f4-b85a4aba8aae",
   "metadata": {},
   "outputs": [
    {
     "data": {
      "text/plain": [
       "0"
      ]
     },
     "execution_count": 6,
     "metadata": {},
     "output_type": "execute_result"
    }
   ],
   "source": [
    "df_master_index_train_val.shape[0]-df_master_index_train.shape[0]-df_master_index_val.shape[0]"
   ]
  },
  {
   "cell_type": "code",
   "execution_count": null,
   "id": "1969b27b-2ed7-4997-8733-392a470912ae",
   "metadata": {},
   "outputs": [],
   "source": [
    "df_provider_preprocessed_train = df_provider_preprocessed.loc[df_provider_preprocessed['CASE_NUMBER'].isin(df_master_index_train['CASE_NUMBER'])].reset_index(drop=True)\n",
    "df_provider_preprocessed_train_val = df_provider_preprocessed.loc[df_provider_preprocessed['CASE_NUMBER'].isin(df_master_index_train_val['CASE_NUMBER'])].reset_index(drop=True)"
   ]
  },
  {
   "cell_type": "code",
   "execution_count": null,
   "id": "40510565-da75-4287-9ef0-5d43e2f91227",
   "metadata": {},
   "outputs": [],
   "source": [
    "df_provider_preprocessed_train.shape,df_provider_preprocessed_train_val.shape"
   ]
  },
  {
   "cell_type": "code",
   "execution_count": 7,
   "id": "fd90dec4-67a3-4bd9-828b-0e8acd1e7d54",
   "metadata": {},
   "outputs": [],
   "source": [
    "hospenc_index_test = df_master_index_test['ENCRYPTED_HOSP_ENCOUNTER'].drop_duplicates().values\n",
    "hospenc_index_val = df_master_index_val['ENCRYPTED_HOSP_ENCOUNTER'].drop_duplicates().values\n",
    "\n",
    "hospenc_index_all = df_master_index_all['ENCRYPTED_HOSP_ENCOUNTER'].drop_duplicates().values\n",
    "hospenc_index_train = df_master_index_train['ENCRYPTED_HOSP_ENCOUNTER'].drop_duplicates().values\n",
    "hospenc_index_train_val = df_master_index_train_val['ENCRYPTED_HOSP_ENCOUNTER'].drop_duplicates().values"
   ]
  },
  {
   "cell_type": "code",
   "execution_count": 8,
   "id": "1a6e0c0e-2a8e-45ea-a7e9-9a852b687e16",
   "metadata": {},
   "outputs": [
    {
     "name": "stdout",
     "output_type": "stream",
     "text": [
      "136647\n",
      "136647\n"
     ]
    }
   ],
   "source": [
    "print(len(hospenc_index_all))\n",
    "print(len(set(hospenc_index_all)))"
   ]
  },
  {
   "cell_type": "code",
   "execution_count": null,
   "id": "d68924e6-99ee-43ed-aa88-cbf1e7536a9a",
   "metadata": {},
   "outputs": [],
   "source": []
  },
  {
   "cell_type": "code",
   "execution_count": null,
   "id": "cd920990-9779-4985-92ec-e8709fbf6464",
   "metadata": {},
   "outputs": [],
   "source": []
  },
  {
   "cell_type": "markdown",
   "id": "5c701cac-586f-471e-b6c9-ae4ea43590e6",
   "metadata": {},
   "source": [
    "# Multimodal Graph 1: get features using the entire data"
   ]
  },
  {
   "cell_type": "code",
   "execution_count": null,
   "id": "23ce5ee3-6db0-4e30-807d-a465e06d0651",
   "metadata": {},
   "outputs": [],
   "source": [
    "G_multimodal_all, node_feat_icd, node_feat_icu, node_feats_provider = multimod_graph(df_master_preprocessed,\\\n",
    "                                                                                       df_provider_preprocessed,\\\n",
    "                                                                                       df_comp_poa,\\\n",
    "                                                                                       df_icu,\\\n",
    "                                                                                       hospenc_index_all)"
   ]
  },
  {
   "cell_type": "code",
   "execution_count": null,
   "id": "221fa749-86af-41e8-8db5-d0fd0c5c9302",
   "metadata": {},
   "outputs": [],
   "source": [
    "pickle.dump(G_multimodal_all,open('/drives/drive1/home/changyu_yin/Desktop/PSG/PSG_AMIA_NEJM/intermediary/G_multimodal_all.pkl','wb'))"
   ]
  },
  {
   "cell_type": "code",
   "execution_count": null,
   "id": "d863c205-462a-48f2-b1c7-585e279e9be6",
   "metadata": {},
   "outputs": [],
   "source": [
    "pickle.dump(node_feat_icd,open('/drives/drive1/home/changyu_yin/Desktop/PSG/PSG_AMIA_NEJM/feature/node_feats_icd.pkl','wb'))\n",
    "pickle.dump(node_feat_icu,open('/drives/drive1/home/changyu_yin/Desktop/PSG/PSG_AMIA_NEJM/feature/node_feats_icu.pkl','wb'))\n",
    "pickle.dump(node_feats_provider,open('/drives/drive1/home/changyu_yin/Desktop/PSG/PSG_AMIA_NEJM/feature/node_feats_provider.pkl','wb'))"
   ]
  },
  {
   "cell_type": "code",
   "execution_count": null,
   "id": "8e325c16-6088-4296-863c-4dc07b8bbdd7",
   "metadata": {},
   "outputs": [],
   "source": []
  },
  {
   "cell_type": "code",
   "execution_count": 3,
   "id": "0992f094-8436-42d1-be91-2d7558f8642f",
   "metadata": {},
   "outputs": [],
   "source": [
    "G_multimodal_all=pickle.load(open('/drives/drive1/home/changyu_yin/Desktop/PSG/PSG_AMIA_NEJM/intermediary/G_multimodal_all.pkl','rb'))"
   ]
  },
  {
   "cell_type": "code",
   "execution_count": 9,
   "id": "5138cc4a-8f3a-422d-a0e6-4e491302f46a",
   "metadata": {},
   "outputs": [],
   "source": [
    "multimodal_graph_edgelist = nx.to_pandas_edgelist(G_multimodal_all)"
   ]
  },
  {
   "cell_type": "code",
   "execution_count": 10,
   "id": "1dd06283-81d4-481c-853f-9d1338e75513",
   "metadata": {},
   "outputs": [
    {
     "data": {
      "text/html": [
       "<div>\n",
       "<style scoped>\n",
       "    .dataframe tbody tr th:only-of-type {\n",
       "        vertical-align: middle;\n",
       "    }\n",
       "\n",
       "    .dataframe tbody tr th {\n",
       "        vertical-align: top;\n",
       "    }\n",
       "\n",
       "    .dataframe thead th {\n",
       "        text-align: right;\n",
       "    }\n",
       "</style>\n",
       "<table border=\"1\" class=\"dataframe\">\n",
       "  <thead>\n",
       "    <tr style=\"text-align: right;\">\n",
       "      <th></th>\n",
       "      <th>source</th>\n",
       "      <th>target</th>\n",
       "      <th>weight</th>\n",
       "    </tr>\n",
       "  </thead>\n",
       "  <tbody>\n",
       "    <tr>\n",
       "      <th>0</th>\n",
       "      <td>b\"\\x16\\x7f\\x17:\\xd6\\x7f\\xb4Y\\tJ\\xc6\\x1f\\x8d'\\x8b\"</td>\n",
       "      <td>UF NTOR_ACUTE</td>\n",
       "      <td>3</td>\n",
       "    </tr>\n",
       "    <tr>\n",
       "      <th>1</th>\n",
       "      <td>b\"\\x16\\x7f\\x17:\\xd6\\x7f\\xb4Y\\tJ\\xc6\\x1f\\x8d'\\x8b\"</td>\n",
       "      <td>UF UA4W_ACUTE</td>\n",
       "      <td>3</td>\n",
       "    </tr>\n",
       "  </tbody>\n",
       "</table>\n",
       "</div>"
      ],
      "text/plain": [
       "                                              source         target  weight\n",
       "0  b\"\\x16\\x7f\\x17:\\xd6\\x7f\\xb4Y\\tJ\\xc6\\x1f\\x8d'\\x8b\"  UF NTOR_ACUTE       3\n",
       "1  b\"\\x16\\x7f\\x17:\\xd6\\x7f\\xb4Y\\tJ\\xc6\\x1f\\x8d'\\x8b\"  UF UA4W_ACUTE       3"
      ]
     },
     "execution_count": 10,
     "metadata": {},
     "output_type": "execute_result"
    }
   ],
   "source": [
    "multimodal_graph_edgelist.head(2)"
   ]
  },
  {
   "cell_type": "code",
   "execution_count": 11,
   "id": "88fdc6f8-42fc-4917-b5e7-ffda4042ba15",
   "metadata": {},
   "outputs": [],
   "source": [
    "nodes_from_list1 = list(set(multimodal_graph_edgelist['source']))\n",
    "nodes_from_list2 = list(set(multimodal_graph_edgelist['target']))"
   ]
  },
  {
   "cell_type": "code",
   "execution_count": 12,
   "id": "49d729e4-37c0-40f6-ae2a-0484c7265a0d",
   "metadata": {},
   "outputs": [],
   "source": [
    "nodes_from_list = np.concatenate([nodes_from_list1,nodes_from_list2],axis=0)"
   ]
  },
  {
   "cell_type": "code",
   "execution_count": 13,
   "id": "e9d49cc1-966c-49d6-945b-b6423fbd5cc9",
   "metadata": {},
   "outputs": [],
   "source": [
    "nodes_graph = np.array(G_multimodal_all.nodes)"
   ]
  },
  {
   "cell_type": "code",
   "execution_count": 14,
   "id": "629122e5-9709-45de-9064-ebc2559876bf",
   "metadata": {},
   "outputs": [
    {
     "name": "stderr",
     "output_type": "stream",
     "text": [
      "Reading graph: 100%|██████████████| 2807644/2807644 [00:04<00:00, 616103.02it/s]\n"
     ]
    }
   ],
   "source": [
    "graph = Graph(multimodal_graph_edgelist.values,directed=False,weighted=True)"
   ]
  },
  {
   "cell_type": "code",
   "execution_count": 15,
   "id": "4a668e78-f764-46c8-bc04-b48bcedff6ac",
   "metadata": {},
   "outputs": [],
   "source": [
    "np.random.seed(seed=666)\n",
    "n2v = Node2Vec(graph,dim=128,walk_length=20,context=10,workers=32)"
   ]
  },
  {
   "cell_type": "code",
   "execution_count": 16,
   "id": "f47bd98c-b176-47bd-ac8f-7a1cee937747",
   "metadata": {},
   "outputs": [
    {
     "name": "stderr",
     "output_type": "stream",
     "text": [
      "Training: 100%|█████████████████████| 4320990/4320990 [08:34<00:00, 8398.63it/s]\n"
     ]
    }
   ],
   "source": [
    "n2v.train(epochs=30)"
   ]
  },
  {
   "cell_type": "code",
   "execution_count": 17,
   "id": "c70f155c-e4d2-48f7-8218-77831d9bb26c",
   "metadata": {},
   "outputs": [],
   "source": [
    "emb_df = (\n",
    "    pd.DataFrame(\n",
    "        [n2v.wv[str(n)] for n in hospenc_index_all],\n",
    "        index = hospenc_index_all\n",
    "    )\n",
    ")\n",
    "emb_df = emb_df.reset_index()\n",
    "emb_df.columns=np.concatenate((['ENCRYPTED_HOSP_ENCOUNTER'],['Node2Vec_'+str(n) for n in emb_df.columns[1:]]),axis=0)\n"
   ]
  },
  {
   "cell_type": "code",
   "execution_count": 18,
   "id": "6fc72990-47cc-4cd4-8e59-e1c8c38e91ec",
   "metadata": {},
   "outputs": [
    {
     "data": {
      "text/plain": [
       "(136647, 129)"
      ]
     },
     "execution_count": 18,
     "metadata": {},
     "output_type": "execute_result"
    }
   ],
   "source": [
    "emb_df.shape"
   ]
  },
  {
   "cell_type": "code",
   "execution_count": 19,
   "id": "395b8e76-d97c-4d1a-9d24-fa22aea1b0a9",
   "metadata": {},
   "outputs": [],
   "source": [
    "feats_n2v_all_train = emb_df[emb_df['ENCRYPTED_HOSP_ENCOUNTER'].isin(df_master_index_train['ENCRYPTED_HOSP_ENCOUNTER'])]\n",
    "feats_n2v_all_val= emb_df[emb_df['ENCRYPTED_HOSP_ENCOUNTER'].isin(df_master_index_val['ENCRYPTED_HOSP_ENCOUNTER'])]\n",
    "feats_n2v_all_test= emb_df[emb_df['ENCRYPTED_HOSP_ENCOUNTER'].isin(df_master_index_test['ENCRYPTED_HOSP_ENCOUNTER'])]"
   ]
  },
  {
   "cell_type": "code",
   "execution_count": 20,
   "id": "39f02b94-3038-4687-8e32-43dcefb2c9da",
   "metadata": {},
   "outputs": [],
   "source": [
    "pickle.dump(feats_n2v_all_train,open('/drives/drive1/home/changyu_yin/Desktop/PSG/PSG_AMIA_NEJM/feature/feats_n2v_all_train.pkl','wb'))\n",
    "pickle.dump(feats_n2v_all_val,open('/drives/drive1/home/changyu_yin/Desktop/PSG/PSG_AMIA_NEJM/feature/feats_n2v_all_val.pkl','wb'))\n",
    "pickle.dump(feats_n2v_all_test,open('/drives/drive1/home/changyu_yin/Desktop/PSG/PSG_AMIA_NEJM/feature/feats_n2v_all_test.pkl','wb'))"
   ]
  },
  {
   "cell_type": "code",
   "execution_count": null,
   "id": "6adc0b43-6061-47ca-8e73-6934ad9d7533",
   "metadata": {},
   "outputs": [],
   "source": []
  },
  {
   "cell_type": "code",
   "execution_count": null,
   "id": "db44e3f5-51b1-4121-b238-36c74044e0c3",
   "metadata": {},
   "outputs": [],
   "source": []
  },
  {
   "cell_type": "code",
   "execution_count": null,
   "id": "f33e4a56-ee30-4239-bb1d-654ca2c71307",
   "metadata": {},
   "outputs": [],
   "source": []
  },
  {
   "cell_type": "code",
   "execution_count": null,
   "id": "cef093c1-23a5-4ff0-b1d9-66177df24502",
   "metadata": {},
   "outputs": [],
   "source": []
  },
  {
   "cell_type": "code",
   "execution_count": null,
   "id": "33bb9922-81e8-4ec7-a64d-25830173e178",
   "metadata": {},
   "outputs": [],
   "source": [
    "multimodal_all_adj_mat_HospecnProv = \n",
    "multimodal_all_adj_mat_HospecnICU = \n",
    "multimodal_all_adj_mat_HospecnICD = "
   ]
  },
  {
   "cell_type": "code",
   "execution_count": null,
   "id": "bab949b8-ffe5-45e7-8c4e-b6c2f9b38dd3",
   "metadata": {},
   "outputs": [],
   "source": [
    "pickle.dump(G_multimodal_all\n",
    "pickle.dump(G_multimodal_all\n",
    "pickle.dump(G_multimodal_all"
   ]
  },
  {
   "cell_type": "markdown",
   "id": "c9371dc0-90aa-4975-9021-ea6ec9d4249d",
   "metadata": {},
   "source": [
    "# MUltimodal Graph 2: get features from train:train, val:val+train, test: entire"
   ]
  },
  {
   "cell_type": "code",
   "execution_count": null,
   "id": "167aa9be-97c3-4ac0-90bd-619f1c9db1fb",
   "metadata": {},
   "outputs": [],
   "source": []
  },
  {
   "cell_type": "code",
   "execution_count": 21,
   "id": "2bdcb0d2-f506-4868-aa54-6074b8c14cc8",
   "metadata": {},
   "outputs": [],
   "source": [
    "G_multimodal_all=pickle.load(open('/drives/drive1/home/changyu_yin/Desktop/PSG/PSG_AMIA_NEJM/intermediary/G_multimodal_all.pkl','rb'))\n",
    "G_multimodal_train_val = G_multimodal_all\n",
    "G_multimodal_train_val.remove_nodes_from(hospenc_index_test)"
   ]
  },
  {
   "cell_type": "code",
   "execution_count": 22,
   "id": "08b2888f-d4a4-41bc-98c2-4ab45c27bf34",
   "metadata": {},
   "outputs": [],
   "source": [
    "multimodal_graph_edgelist_train_val = nx.to_pandas_edgelist(G_multimodal_train_val)\n",
    "nodes_from_list1 = list(set(multimodal_graph_edgelist_train_val['source']))\n",
    "nodes_from_list2 = list(set(multimodal_graph_edgelist_train_val['target']))\n",
    "nodes_from_list_train_val = np.concatenate([nodes_from_list1,nodes_from_list2],axis=0)"
   ]
  },
  {
   "cell_type": "code",
   "execution_count": 23,
   "id": "e5e9f53f-c6cd-47fd-8b34-fac170d0c05b",
   "metadata": {},
   "outputs": [
    {
     "data": {
      "text/plain": [
       "1.0"
      ]
     },
     "execution_count": 23,
     "metadata": {},
     "output_type": "execute_result"
    }
   ],
   "source": [
    "is_in_set_pnb(hospenc_index_val,nodes_from_list_train_val).mean()"
   ]
  },
  {
   "cell_type": "code",
   "execution_count": 24,
   "id": "71f5e356-c24e-4339-9776-bcb4ddf857fb",
   "metadata": {},
   "outputs": [
    {
     "name": "stderr",
     "output_type": "stream",
     "text": [
      "Reading graph: 100%|██████████████| 2439510/2439510 [00:03<00:00, 643470.10it/s]\n",
      "Training: 100%|█████████████████████| 3896880/3896880 [07:48<00:00, 8325.49it/s]\n"
     ]
    }
   ],
   "source": [
    "np.random.seed(seed=666)\n",
    "\n",
    "graph_train_val = Graph(multimodal_graph_edgelist_train_val.values,directed=False,weighted=True)\n",
    "n2v_train_val = Node2Vec(graph_train_val,dim=128,walk_length=20,context=10,workers=32)\n",
    "n2v_train_val.train(epochs=30)"
   ]
  },
  {
   "cell_type": "code",
   "execution_count": 25,
   "id": "973c711e-bcc7-47d6-b762-135fabc4ac2f",
   "metadata": {},
   "outputs": [],
   "source": [
    "emb_df_train_val = (\n",
    "    pd.DataFrame(\n",
    "        [n2v_train_val.wv[str(n)] for n in hospenc_index_train_val],\n",
    "        index = hospenc_index_train_val\n",
    "    )\n",
    ")\n",
    "emb_df_train_val = emb_df_train_val.reset_index()\n",
    "emb_df_train_val.columns=np.concatenate((['ENCRYPTED_HOSP_ENCOUNTER'],['Node2Vec_'+str(n) for n in emb_df_train_val.columns[1:]]),axis=0)\n",
    "feats_n2v_val_separate= emb_df_train_val[emb_df_train_val['ENCRYPTED_HOSP_ENCOUNTER'].isin(df_master_index_val['ENCRYPTED_HOSP_ENCOUNTER'])]\n",
    "pickle.dump(feats_n2v_val_separate,open('/drives/drive1/home/changyu_yin/Desktop/PSG/PSG_AMIA_NEJM/feature/feats_n2v_val_separate.pkl','wb'))"
   ]
  },
  {
   "cell_type": "code",
   "execution_count": null,
   "id": "13286789-6ca5-47b6-9ff4-09f1ec7bb571",
   "metadata": {},
   "outputs": [],
   "source": []
  },
  {
   "cell_type": "code",
   "execution_count": null,
   "id": "7f94a4da-acce-4a93-80ae-7884e685380b",
   "metadata": {},
   "outputs": [],
   "source": []
  },
  {
   "cell_type": "code",
   "execution_count": 26,
   "id": "5044c6bb-2fee-4cb3-9682-3a269f22dd52",
   "metadata": {},
   "outputs": [],
   "source": [
    "G_multimodal_all=pickle.load(open('/drives/drive1/home/changyu_yin/Desktop/PSG/PSG_AMIA_NEJM/intermediary/G_multimodal_all.pkl','rb'))\n",
    "G_multimodal_train = G_multimodal_all\n",
    "G_multimodal_train.remove_nodes_from(hospenc_index_test)\n",
    "G_multimodal_train.remove_nodes_from(hospenc_index_val)"
   ]
  },
  {
   "cell_type": "code",
   "execution_count": 27,
   "id": "ed33b048-a990-4c86-ae33-2ccf7d9d4332",
   "metadata": {},
   "outputs": [],
   "source": [
    "\n",
    "multimodal_graph_edgelist_train = nx.to_pandas_edgelist(G_multimodal_train)\n",
    "nodes_from_list1 = list(set(multimodal_graph_edgelist_train['source']))\n",
    "nodes_from_list2 = list(set(multimodal_graph_edgelist_train['target']))\n",
    "nodes_from_list_train = np.concatenate([nodes_from_list1,nodes_from_list2],axis=0)"
   ]
  },
  {
   "cell_type": "code",
   "execution_count": 28,
   "id": "4b23c985-ba11-4edf-b7e8-b018e9cc37c7",
   "metadata": {},
   "outputs": [
    {
     "data": {
      "text/plain": [
       "109318"
      ]
     },
     "execution_count": 28,
     "metadata": {},
     "output_type": "execute_result"
    }
   ],
   "source": [
    "is_in_set_pnb(hospenc_index_train,nodes_from_list_train).sum()"
   ]
  },
  {
   "cell_type": "code",
   "execution_count": 29,
   "id": "6ac7088b-64ac-44f9-bdb8-5e7b31d160a6",
   "metadata": {},
   "outputs": [
    {
     "name": "stderr",
     "output_type": "stream",
     "text": [
      "Reading graph: 100%|██████████████| 2072622/2072622 [00:03<00:00, 631331.63it/s]\n",
      "Training: 100%|█████████████████████| 3472770/3472770 [07:37<00:00, 7597.53it/s]\n"
     ]
    }
   ],
   "source": [
    "np.random.seed(seed=666)\n",
    "\n",
    "graph_train = Graph(multimodal_graph_edgelist_train.values,directed=False,weighted=True)\n",
    "n2v_train= Node2Vec(graph_train,dim=128,walk_length=20,context=10,workers=32)\n",
    "n2v_train.train(epochs=30)"
   ]
  },
  {
   "cell_type": "code",
   "execution_count": 30,
   "id": "21ea5b8b-e85b-4eee-ae2a-d31114d37c28",
   "metadata": {},
   "outputs": [],
   "source": [
    "emb_df_train = (\n",
    "    pd.DataFrame(\n",
    "        [n2v_train.wv[str(n)] for n in hospenc_index_train],\n",
    "        index = hospenc_index_train\n",
    "    )\n",
    ")\n",
    "emb_df_train = emb_df_train.reset_index()\n",
    "emb_df_train.columns=np.concatenate((['ENCRYPTED_HOSP_ENCOUNTER'],['Node2Vec_'+str(n) for n in emb_df_train.columns[1:]]),axis=0)\n",
    "feats_n2v_train_separate= emb_df_train[emb_df_train['ENCRYPTED_HOSP_ENCOUNTER'].isin(df_master_index_train['ENCRYPTED_HOSP_ENCOUNTER'])]\n",
    "pickle.dump(feats_n2v_train_separate,open('/drives/drive1/home/changyu_yin/Desktop/PSG/PSG_AMIA_NEJM/feature/feats_n2v_train_separate.pkl','wb'))\n"
   ]
  },
  {
   "cell_type": "code",
   "execution_count": null,
   "id": "8dd917c2-0ef8-41c9-b6b0-0bceaea08c13",
   "metadata": {},
   "outputs": [],
   "source": []
  }
 ],
 "metadata": {
  "kernelspec": {
   "display_name": "UFRC Python-3.10",
   "language": "python",
   "name": "python3-3.10-ufrc"
  },
  "language_info": {
   "codemirror_mode": {
    "name": "ipython",
    "version": 3
   },
   "file_extension": ".py",
   "mimetype": "text/x-python",
   "name": "python",
   "nbconvert_exporter": "python",
   "pygments_lexer": "ipython3",
   "version": "3.10.5"
  }
 },
 "nbformat": 4,
 "nbformat_minor": 5
}
