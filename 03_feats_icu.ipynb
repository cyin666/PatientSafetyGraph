{
 "cells": [
  {
   "cell_type": "markdown",
   "id": "fda46916-a892-42b0-bd3f-e8714b405ba5",
   "metadata": {},
   "source": [
    "**Input:** </br>\n",
    "df_icu, </br>\n",
    "df_feats_clinical,</br>\n",
    "df_master_preprocessed</br>\n",
    "**Output:** </br>\n",
    "feats_icu </br>"
   ]
  },
  {
   "cell_type": "code",
   "execution_count": 2,
   "id": "6a9f0cf6-b762-40cf-a743-8ec76cda97c5",
   "metadata": {},
   "outputs": [],
   "source": [
    "from utilities import *"
   ]
  },
  {
   "cell_type": "code",
   "execution_count": 3,
   "id": "510b6312-9190-4b2a-b715-03bf44982ef9",
   "metadata": {},
   "outputs": [],
   "source": [
    "import warnings\n",
    "warnings.filterwarnings('ignore')"
   ]
  },
  {
   "cell_type": "code",
   "execution_count": 4,
   "id": "061cb930-4742-445a-9e8c-6f39abcd7e6f",
   "metadata": {},
   "outputs": [],
   "source": [
    "df_icu = pd.read_csv('/drives/drive2/Patient Safety Graph/Data/data_release_12132022/ICU_STAY_20221128.csv', sep=',', encoding=\"utf-8\")"
   ]
  },
  {
   "cell_type": "code",
   "execution_count": 5,
   "id": "6d7cdb26-e9da-4629-b720-1f097dcb7a13",
   "metadata": {},
   "outputs": [],
   "source": [
    "#some location has multiple type, so we just combine them\n",
    "df_icu['ON_HOSP_ORG_LVL4_DESC'] = df_icu['ON_HOSP_ORG_LVL4_DESC'] + \"_\" + df_icu['ON_BED_TYPE']"
   ]
  },
  {
   "cell_type": "code",
   "execution_count": 6,
   "id": "cd92fcb2-c2be-4068-962e-4310632ad720",
   "metadata": {},
   "outputs": [],
   "source": [
    "df_feats_clinical=pickle.load(open('/drives/drive1/home/changyu_yin/Desktop/PSG/PSG_AMIA_NEJM/feature/df_feats_clinical.pkl','rb'))\n",
    "df_master_preprocessed=pickle.load(open('/drives/drive1/home/changyu_yin/Desktop/PSG/PSG_AMIA_NEJM/intermediary/df_master_preprocessed.pkl','rb'))"
   ]
  },
  {
   "cell_type": "code",
   "execution_count": 7,
   "id": "9666e648-48b1-4636-95b9-69e4e84b92b5",
   "metadata": {},
   "outputs": [],
   "source": [
    "hospenc_index_all = df_feats_clinical['ENCRYPTED_HOSP_ENCOUNTER'].drop_duplicates().values"
   ]
  },
  {
   "cell_type": "markdown",
   "id": "0c24eda2-36f1-48bb-96ff-81ca06e71ae7",
   "metadata": {},
   "source": [
    "# subgraph for manuscript"
   ]
  },
  {
   "cell_type": "code",
   "execution_count": 8,
   "id": "29648370-9adb-4c90-8741-cddaccdfaf35",
   "metadata": {},
   "outputs": [],
   "source": [
    "df_icu_size = df_icu.groupby('ENCRYPTED_HOSP_ENCOUNTER').size().reset_index()\n",
    "df_icu_size.columns = ['ENCRYPTED_HOSP_ENCOUNTER','count']\n",
    "df_icu_size.sort_values('count',ascending = False)\n",
    "df_icu_interested = df_icu_size.sort_values('count',ascending = False).reset_index(drop=True)['ENCRYPTED_HOSP_ENCOUNTER'].values"
   ]
  },
  {
   "cell_type": "code",
   "execution_count": 31,
   "id": "39313ff8-8757-4128-b4f0-db02695ba11c",
   "metadata": {},
   "outputs": [
    {
     "name": "stdout",
     "output_type": "stream",
     "text": [
      "{'UF NTOR_ACUTE', 'UF NTOR_INTERMEDIATE', 'UF GI ENDOSCOPY_ACUTE', 'UF NT2425_ACUTE', 'UF UAED_ACUTE', 'UF GI ENDOSCOPY_INTERMEDIATE', 'UF NTOR_INTENSIVE', 'UF NT2425_INTENSIVE', 'UF 72BI_INTENSIVE', 'UF NT2425_INTERMEDIATE'}\n",
      "         ON_HOSP_ORG_LVL4_DESC   ON_BED_TYPE\n",
      "373319           UF UAED_ACUTE         ACUTE\n",
      "373318       UF 72BI_INTENSIVE     INTENSIVE\n",
      "373317       UF NTOR_INTENSIVE     INTENSIVE\n",
      "373316       UF 72BI_INTENSIVE     INTENSIVE\n",
      "373315       UF NTOR_INTENSIVE     INTENSIVE\n",
      "...                        ...           ...\n",
      "373380  UF NT2425_INTERMEDIATE  INTERMEDIATE\n",
      "373379         UF NT2425_ACUTE         ACUTE\n",
      "373378           UF NTOR_ACUTE         ACUTE\n",
      "373377         UF NT2425_ACUTE         ACUTE\n",
      "373376   UF GI ENDOSCOPY_ACUTE         ACUTE\n",
      "\n",
      "[82 rows x 2 columns]\n",
      "{'UF UAED_ACUTE': {'BED_TYPE': 'ACUTE'}, 'UF 72BI_INTENSIVE': {'BED_TYPE': 'INTENSIVE'}, 'UF NTOR_INTENSIVE': {'BED_TYPE': 'INTENSIVE'}, 'UF NT2425_INTENSIVE': {'BED_TYPE': 'INTENSIVE'}, 'UF NT2425_INTERMEDIATE': {'BED_TYPE': 'INTERMEDIATE'}, 'UF NTOR_INTERMEDIATE': {'BED_TYPE': 'INTERMEDIATE'}, 'UF GI ENDOSCOPY_INTERMEDIATE': {'BED_TYPE': 'INTERMEDIATE'}, 'UF NT2425_ACUTE': {'BED_TYPE': 'ACUTE'}, 'UF NTOR_ACUTE': {'BED_TYPE': 'ACUTE'}, 'UF GI ENDOSCOPY_ACUTE': {'BED_TYPE': 'ACUTE'}}\n"
     ]
    },
    {
     "data": {
      "image/png": "[encoded data removed]",
      "text/plain": [
       "<Figure size 432x288 with 1 Axes>"
      ]
     },
     "metadata": {},
     "output_type": "display_data"
    }
   ],
   "source": [
    "hosp_case_id = df_icu_interested[1]\n",
    "\n",
    "identify_time = df_master_preprocessed['Surgery_End_Datetime'][df_master_preprocessed['ENCRYPTED_HOSP_ENCOUNTER'] == hosp_case_id].values[0]\n",
    "\n",
    "subset_encounter_icu = df_icu[df_icu['ENCRYPTED_HOSP_ENCOUNTER'] == hosp_case_id].drop_duplicates()\n",
    "subset_encounter_icu['ENTER_DT'] = pd.to_datetime(subset_encounter_icu['ENTER_DT'])\n",
    "subset_encounter_icu_sorted = subset_encounter_icu.sort_values(by=['ENTER_DT'])\n",
    "subset_encounter_icu_clean = subset_encounter_icu_sorted[subset_encounter_icu_sorted['ENTER_DT'] < identify_time]\n",
    "\n",
    "#icu stay graph\n",
    "nodes = list(subset_encounter_icu_clean['ON_HOSP_ORG_LVL4_DESC'])\n",
    "\n",
    "association = subset_encounter_icu_clean['ON_HOSP_ORG_LVL4_DESC'].values.tolist()\n",
    "\n",
    "Patient_level_icu_transfer_graph = nx.DiGraph()\n",
    "\n",
    "for idx in range(len(association)-1):\n",
    "    Patient_level_icu_transfer_graph.add_edge(association[idx], association[idx+1], weight=1)   \n",
    "\n",
    "\n",
    "# #### Node, Edge, Attribute Creation\n",
    "nodes_type = subset_encounter_icu_clean[['ON_HOSP_ORG_LVL4_DESC','ON_BED_TYPE']]\n",
    "print(set(nodes))\n",
    "print(nodes_type)\n",
    "\n",
    "attrs_all = dict() \n",
    "\n",
    "for values in list(nodes_type.values):\n",
    "    node_id_all = values[0]\n",
    "    specialty_all = values[1] \n",
    "    attrs_all[node_id_all] = {\"BED_TYPE\":specialty_all}\n",
    "print(attrs_all)  \n",
    "nx.set_node_attributes(Patient_level_icu_transfer_graph, attrs_all)\n",
    "\n",
    "color_state_map = {'ACUTE': 'black', 'INTENSIVE': 'red', 'INTERMEDIATE': 'blue'}\n",
    "\n",
    "nx.draw(Patient_level_icu_transfer_graph,\n",
    "verticalalignment='top', \n",
    "node_size=500,\n",
    "with_labels=False,\n",
    "node_color=[color_state_map[node[1]['BED_TYPE']] \n",
    "        for node in Patient_level_icu_transfer_graph.nodes(data=True)], \n",
    "font_color='white',\n",
    "font_size = 10)\n"
   ]
  },
  {
   "cell_type": "code",
   "execution_count": 30,
   "id": "86f6e5c7-97f7-4ef7-8fdd-10087ca5bfd0",
   "metadata": {},
   "outputs": [
    {
     "name": "stdout",
     "output_type": "stream",
     "text": [
      "{'UF NTOR_ACUTE', 'UF NTOR_INTENSIVE', 'UF UAOR_ACUTE', 'UF UA6E_ACUTE'}\n",
      "       ON_HOSP_ORG_LVL4_DESC ON_BED_TYPE\n",
      "355321         UF UAOR_ACUTE       ACUTE\n",
      "355320         UF UA6E_ACUTE       ACUTE\n",
      "355319         UF UAOR_ACUTE       ACUTE\n",
      "355332         UF UA6E_ACUTE       ACUTE\n",
      "355331         UF UAOR_ACUTE       ACUTE\n",
      "355330         UF UA6E_ACUTE       ACUTE\n",
      "355329         UF UAOR_ACUTE       ACUTE\n",
      "355328         UF UA6E_ACUTE       ACUTE\n",
      "355327         UF UAOR_ACUTE       ACUTE\n",
      "355326         UF UA6E_ACUTE       ACUTE\n",
      "355325         UF NTOR_ACUTE       ACUTE\n",
      "355324     UF NTOR_INTENSIVE   INTENSIVE\n",
      "{'UF UAOR_ACUTE': {'BED_TYPE': 'ACUTE'}, 'UF UA6E_ACUTE': {'BED_TYPE': 'ACUTE'}, 'UF NTOR_ACUTE': {'BED_TYPE': 'ACUTE'}, 'UF NTOR_INTENSIVE': {'BED_TYPE': 'INTENSIVE'}}\n"
     ]
    },
    {
     "data": {
      "image/png": "[encoded data removed]",
      "text/plain": [
       "<Figure size 432x288 with 1 Axes>"
      ]
     },
     "metadata": {},
     "output_type": "display_data"
    }
   ],
   "source": [
    "hosp_case_id = df_icu_interested[500]\n",
    "\n",
    "identify_time = df_master_preprocessed['Surgery_End_Datetime'][df_master_preprocessed['ENCRYPTED_HOSP_ENCOUNTER'] == hosp_case_id].values[0]\n",
    "\n",
    "subset_encounter_icu = df_icu[df_icu['ENCRYPTED_HOSP_ENCOUNTER'] == hosp_case_id].drop_duplicates()\n",
    "subset_encounter_icu['ENTER_DT'] = pd.to_datetime(subset_encounter_icu['ENTER_DT'])\n",
    "subset_encounter_icu_sorted = subset_encounter_icu.sort_values(by=['ENTER_DT'])\n",
    "subset_encounter_icu_clean = subset_encounter_icu_sorted[subset_encounter_icu_sorted['ENTER_DT'] < identify_time]\n",
    "\n",
    "#icu stay graph\n",
    "nodes = list(subset_encounter_icu_clean['ON_HOSP_ORG_LVL4_DESC'])\n",
    "\n",
    "association = subset_encounter_icu_clean['ON_HOSP_ORG_LVL4_DESC'].values.tolist()\n",
    "\n",
    "Patient_level_icu_transfer_graph = nx.DiGraph()\n",
    "\n",
    "for idx in range(len(association)-1):\n",
    "    Patient_level_icu_transfer_graph.add_edge(association[idx], association[idx+1], weight=1)   \n",
    "\n",
    "\n",
    "# #### Node, Edge, Attribute Creation\n",
    "nodes_type = subset_encounter_icu_clean[['ON_HOSP_ORG_LVL4_DESC','ON_BED_TYPE']]\n",
    "print(set(nodes))\n",
    "print(nodes_type)\n",
    "\n",
    "attrs_all = dict() \n",
    "\n",
    "for values in list(nodes_type.values):\n",
    "    node_id_all = values[0]\n",
    "    specialty_all = values[1] \n",
    "    attrs_all[node_id_all] = {\"BED_TYPE\":specialty_all}\n",
    "print(attrs_all)  \n",
    "nx.set_node_attributes(Patient_level_icu_transfer_graph, attrs_all)\n",
    "\n",
    "color_state_map = {'ACUTE': 'black', 'INTENSIVE': 'red', 'INTERMEDIATE': 'blue'}\n",
    "\n",
    "nx.draw(Patient_level_icu_transfer_graph,\n",
    "verticalalignment='top', \n",
    "node_size=500,\n",
    "with_labels=False,\n",
    "node_color=[color_state_map[node[1]['BED_TYPE']] \n",
    "        for node in Patient_level_icu_transfer_graph.nodes(data=True)], \n",
    "font_color='white',\n",
    "font_size = 10)\n"
   ]
  },
  {
   "cell_type": "code",
   "execution_count": null,
   "id": "e48ddd8f-51ca-43e2-af95-fd8f63910332",
   "metadata": {},
   "outputs": [],
   "source": []
  },
  {
   "cell_type": "markdown",
   "id": "d7d72409-ab73-4f87-84ce-eedd28c75114",
   "metadata": {},
   "source": [
    "# pre-OR ICU"
   ]
  },
  {
   "cell_type": "code",
   "execution_count": 23,
   "id": "f37415cb-34eb-4877-b1d5-a673093bcd13",
   "metadata": {},
   "outputs": [],
   "source": [
    "time_variable = [\"Room Start Datetime\", \n",
    "                  \"Induction Datetime\", \n",
    "                  \"Incision Datetime\", \n",
    "                  \"Dressing Datetime\", \n",
    "                  \"Emergence Datetime\", \n",
    "                  \"Room End Datetime\"]"
   ]
  },
  {
   "cell_type": "code",
   "execution_count": 24,
   "id": "87ec04b5-d45a-4fb6-a08e-f4a994e33108",
   "metadata": {},
   "outputs": [
    {
     "data": {
      "text/plain": [
       "0"
      ]
     },
     "execution_count": 24,
     "metadata": {},
     "output_type": "execute_result"
    }
   ],
   "source": [
    "df_master_preprocessed.Surgery_End_Datetime.isna().sum()"
   ]
  },
  {
   "cell_type": "code",
   "execution_count": 25,
   "id": "51365bfb-a657-4f87-8689-7f4e5294f5c7",
   "metadata": {},
   "outputs": [
    {
     "name": "stderr",
     "output_type": "stream",
     "text": [
      "100%|████████████████████████████████| 136647/136647 [88:30:09<00:00,  2.33s/it]\n"
     ]
    }
   ],
   "source": [
    "hospenc_id = []\n",
    "icu_graph_features = []\n",
    "for hosp_case_id in tqdm(hospenc_index_all):\n",
    "  if np.isin(hosp_case_id,df_icu['ENCRYPTED_HOSP_ENCOUNTER'].values)*1==0:\n",
    "        hospenc_id.append(hosp_case_id)\n",
    "        icu_graph_features.append([0,0,0,0,0,0,0,0,0,0,0,0,0])\n",
    "        continue\n",
    "        \n",
    "  #all icu interactions before the end of the last surgery\n",
    "  identify_time = df_master_preprocessed['Surgery_End_Datetime'][df_master_preprocessed['ENCRYPTED_HOSP_ENCOUNTER'] == hosp_case_id].values[0]\n",
    "        \n",
    "  subset_encounter_icu = df_icu[df_icu['ENCRYPTED_HOSP_ENCOUNTER'] == hosp_case_id].drop_duplicates()\n",
    "  subset_encounter_icu['ENTER_DT'] = pd.to_datetime(subset_encounter_icu['ENTER_DT'])\n",
    "  subset_encounter_icu_sorted = subset_encounter_icu.sort_values(by=['ENTER_DT'])\n",
    "  subset_encounter_icu_clean = subset_encounter_icu_sorted[subset_encounter_icu_sorted['ENTER_DT'] < identify_time]\n",
    "\n",
    "  #icu stay graph\n",
    "  nodes = set(subset_encounter_icu_clean['ON_HOSP_ORG_LVL4_DESC'])\n",
    "\n",
    "  association = subset_encounter_icu_clean['ON_HOSP_ORG_LVL4_DESC'].values.tolist()\n",
    "\n",
    "  Patient_level_icu_transfer_graph = nx.DiGraph()\n",
    "\n",
    "  for idx in range(len(association)-1):\n",
    "    if(Patient_level_icu_transfer_graph.has_edge(association[idx], association[idx+1])):\n",
    "        Patient_level_icu_transfer_graph[association[idx]][association[idx+1]]['weight'] =1+ Patient_level_icu_transfer_graph[association[idx]][association[idx+1]]['weight']\n",
    "    else :\n",
    "        Patient_level_icu_transfer_graph.add_edge(association[idx], association[idx+1], weight=1)\n",
    "\n",
    "  num_edges_weighted = Patient_level_icu_transfer_graph.size(weight='weight')\n",
    "  num_nodes = nx.number_of_nodes(Patient_level_icu_transfer_graph)\n",
    "  density_g = 0\n",
    "  if num_nodes>1:\n",
    "    density_g=num_edges_weighted/(num_nodes*(num_nodes-1))\n",
    "\n",
    "  ind_g = Patient_level_icu_transfer_graph.in_degree(weight='weight')\n",
    "  ind_g = [tup[1] for tup in ind_g]\n",
    "    \n",
    "  ond_g = Patient_level_icu_transfer_graph.out_degree(weight='weight')\n",
    "  ond_g = [tup[1] for tup in ond_g]\n",
    "\n",
    "  ind_list = fill_empty_list(list(ind_g))\n",
    "  ond_list = fill_empty_list(list(ond_g))\n",
    "\n",
    "  # the non-normalized features\n",
    "  graph_info_list = [num_nodes, num_edges_weighted, density_g]\n",
    "\n",
    "  metric_features = agg_sta_featues_icu(ind_list) + agg_sta_featues_icu(ond_list) + graph_info_list #+ agg_sta_featues(bwt_list) + agg_sta_featues(cls_list)\n",
    "  \n",
    "  hospenc_id.append(hosp_case_id)\n",
    "  icu_graph_features.append(metric_features)\n"
   ]
  },
  {
   "cell_type": "code",
   "execution_count": 26,
   "id": "816d4339-a51f-4e3b-9b92-dc7f2751d023",
   "metadata": {},
   "outputs": [],
   "source": [
    "hospenc_enc_indx = pd.DataFrame(hospenc_id,columns=[\"ENCRYPTED_HOSP_ENCOUNTER\"])\n",
    "df_icu_graph_features = pd.DataFrame(icu_graph_features,columns=['icu_ind_mean',\n",
    "                                              'icu_ind_median',\n",
    "                                              'icu_ind_iqr',\n",
    "                                              'icu_ind_min',\n",
    "                                             'icu_ind_max',\n",
    "                                             'icu_ond_mean',\n",
    "                                              'icu_ond_median',\n",
    "                                              'icu_ond_iqr',\n",
    "                                              'icu_ond_min',\n",
    "                                             'icu_ond_max',\n",
    "                                             'icu_node',\n",
    "                                             'icu_edge',\n",
    "                                             'icu_density'])\n",
    "df_icu_graph_features = pd.concat([hospenc_enc_indx,df_icu_graph_features],axis=1)\n",
    "\n",
    "df_icu_graph_features = pd.merge(df_feats_clinical[['ENCRYPTED_HOSP_ENCOUNTER']],df_icu_graph_features,on='ENCRYPTED_HOSP_ENCOUNTER',how='left').fillna(0)"
   ]
  },
  {
   "cell_type": "markdown",
   "id": "81a48936-ee61-4f51-b095-60897229fd20",
   "metadata": {},
   "source": [
    "# pre-OR ICU LOS"
   ]
  },
  {
   "cell_type": "code",
   "execution_count": 11,
   "id": "13a45e2e-7a0e-46ec-bc96-19409381382c",
   "metadata": {},
   "outputs": [],
   "source": [
    "df_icu = df_icu[df_icu['ENCRYPTED_HOSP_ENCOUNTER'].isin(hospenc_index_all)]"
   ]
  },
  {
   "cell_type": "code",
   "execution_count": 15,
   "id": "855de32c-0381-411f-acad-24d493f4349b",
   "metadata": {},
   "outputs": [],
   "source": [
    "df_icu = df_icu[['ENCRYPTED_HOSP_ENCOUNTER','ON_BED_TYPE','TIME_IN_MINUTES']]\n",
    "df_icu.columns = ['ENCRYPTED_HOSP_ENCOUNTER','ON_BED_TYPE','PreORLOS']"
   ]
  },
  {
   "cell_type": "code",
   "execution_count": 22,
   "id": "c001819e-819f-42d9-ab77-7168a9bf15b6",
   "metadata": {},
   "outputs": [],
   "source": [
    "df_icu = df_icu.groupby(['ENCRYPTED_HOSP_ENCOUNTER','ON_BED_TYPE']).sum()\n",
    "df_icu = df_icu.reset_index()\n",
    "df_icu['PreORLOS'] = df_icu['PreORLOS']/60 "
   ]
  },
  {
   "cell_type": "code",
   "execution_count": 37,
   "id": "ed141e7a-4997-4851-b8df-90ba55f91bf3",
   "metadata": {},
   "outputs": [],
   "source": [
    "df_icu = df_icu.pivot(columns=\"ON_BED_TYPE\",index=\"ENCRYPTED_HOSP_ENCOUNTER\",values=\"PreORLOS\").fillna(0).reset_index()"
   ]
  },
  {
   "cell_type": "code",
   "execution_count": 56,
   "id": "62aee86f-4bf4-4082-abd5-7a7ab8b9260c",
   "metadata": {},
   "outputs": [],
   "source": [
    "df_icu = df_feats_clinical[['ENCRYPTED_HOSP_ENCOUNTER']].merge(df_icu,on='ENCRYPTED_HOSP_ENCOUNTER',how='left').fillna(0)"
   ]
  },
  {
   "cell_type": "code",
   "execution_count": 57,
   "id": "34e52fb4-7432-40f8-ae5a-eaf650c90670",
   "metadata": {},
   "outputs": [
    {
     "data": {
      "text/plain": [
       "(136647, 136647)"
      ]
     },
     "execution_count": 57,
     "metadata": {},
     "output_type": "execute_result"
    }
   ],
   "source": [
    "len(df_icu['ENCRYPTED_HOSP_ENCOUNTER']),len(set(df_icu['ENCRYPTED_HOSP_ENCOUNTER']))"
   ]
  },
  {
   "cell_type": "markdown",
   "id": "9d94d374-46f4-49b5-b081-720a68146f5b",
   "metadata": {},
   "source": [
    "# write"
   ]
  },
  {
   "cell_type": "code",
   "execution_count": 27,
   "id": "7e22a771-be0c-4449-b4af-95dad2f9758c",
   "metadata": {},
   "outputs": [],
   "source": [
    "#pickle.dump(df_icu_graph_features,open('/drives/drive1/home/changyu_yin/Desktop/PSG/PSG_AMIA_NEJM/feature/df_icu_graph_features.pkl','wb'))\n",
    "pickle.dump(df_icu_graph_features,open('/drives/drive1/home/changyu_yin/Desktop/PSG/PSG_AMIA_NEJM/feature/df_preORicu_graph_features.pkl','wb'))"
   ]
  },
  {
   "cell_type": "code",
   "execution_count": 58,
   "id": "d22adde7-da05-47aa-9129-b36bd3e47011",
   "metadata": {},
   "outputs": [],
   "source": [
    "pickle.dump(df_icu,open('/drives/drive1/home/changyu_yin/Desktop/PSG/PSG_AMIA_NEJM/feature/df_preor_ICULOS.pkl','wb'))"
   ]
  },
  {
   "cell_type": "code",
   "execution_count": 28,
   "id": "b65c907c-22d1-427f-baf0-0911c146a03b",
   "metadata": {},
   "outputs": [
    {
     "data": {
      "text/plain": [
       "(136647, 14)"
      ]
     },
     "execution_count": 28,
     "metadata": {},
     "output_type": "execute_result"
    }
   ],
   "source": [
    "df_icu_graph_features.shape"
   ]
  },
  {
   "cell_type": "code",
   "execution_count": null,
   "id": "70babe90-6771-4c31-9b6e-9fbabea13afd",
   "metadata": {},
   "outputs": [],
   "source": []
  }
 ],
 "metadata": {
  "kernelspec": {
   "display_name": "UFRC Python-3.10",
   "language": "python",
   "name": "python3-3.10-ufrc"
  },
  "language_info": {
   "codemirror_mode": {
    "name": "ipython",
    "version": 3
   },
   "file_extension": ".py",
   "mimetype": "text/x-python",
   "name": "python",
   "nbconvert_exporter": "python",
   "pygments_lexer": "ipython3",
   "version": "3.10.5"
  }
 },
 "nbformat": 4,
 "nbformat_minor": 5
}
